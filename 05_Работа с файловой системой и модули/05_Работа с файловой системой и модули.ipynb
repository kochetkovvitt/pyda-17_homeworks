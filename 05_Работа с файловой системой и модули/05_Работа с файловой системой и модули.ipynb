{
 "cells": [
  {
   "cell_type": "markdown",
   "metadata": {},
   "source": [
    "## 1. Переведите содержимое файла purchase_log.txt в словарь purchases вида {‘1840e0b9d4’: ‘Продукты’, …}"
   ]
  },
  {
   "cell_type": "code",
   "execution_count": 1,
   "metadata": {},
   "outputs": [],
   "source": [
    "# purchase_log.txt:\n",
    "# {\"user_id\": \"user_id\", \"category\": \"category\"}\n",
    "# {\"user_id\": \"1840e0b9d4\", \"category\": \"Продукты\"}\n",
    "# {\"user_id\": \"4e4f90fcfb\", \"category\": \"Электроника\"}"
   ]
  },
  {
   "cell_type": "code",
   "execution_count": 2,
   "metadata": {},
   "outputs": [],
   "source": [
    "import json"
   ]
  },
  {
   "cell_type": "code",
   "execution_count": 3,
   "metadata": {},
   "outputs": [],
   "source": [
    "with open('purchase_log.txt', 'r', encoding='utf-8') as f:\n",
    "    content = f.readlines()"
   ]
  },
  {
   "cell_type": "code",
   "execution_count": 4,
   "metadata": {},
   "outputs": [],
   "source": [
    "purchases = {x['user_id']: x['category'] for x in map(json.loads, content[1:])}"
   ]
  },
  {
   "cell_type": "code",
   "execution_count": 5,
   "metadata": {},
   "outputs": [
    {
     "name": "stdout",
     "output_type": "stream",
     "text": [
      "Продукты\n",
      "Электроника\n"
     ]
    }
   ],
   "source": [
    "# проверка:\n",
    "print(purchases['1840e0b9d4'])\n",
    "print(purchases['4e4f90fcfb'])"
   ]
  },
  {
   "cell_type": "markdown",
   "metadata": {},
   "source": [
    "## 2. Для каждого user_id в файле visit_log.csv определите третий столбец с категорией покупки (если покупка была, сам файл visit_log.csv изменять не надо). \n",
    "Запишите в файл funnel.csv визиты из файла visit_log.csv, в которых были покупки с указанием категории.  "
   ]
  },
  {
   "cell_type": "markdown",
   "metadata": {},
   "source": [
    "Учтите условия на данные:  \n",
    "- содержимое purchase_log.txt помещается в оперативную память компьютера  \n",
    "- содержимое visit_log.csv - нет; используйте только построчную обработку этого файла"
   ]
  },
  {
   "cell_type": "code",
   "execution_count": 6,
   "metadata": {},
   "outputs": [],
   "source": [
    "# visit_log.csv:\n",
    "# user_id,source\n",
    "# 6450655ae8,other\n",
    "# b4ea53e670,other"
   ]
  },
  {
   "cell_type": "code",
   "execution_count": 7,
   "metadata": {},
   "outputs": [],
   "source": [
    "with open('visit_log.csv', 'r', encoding='utf-8') as f:\n",
    "    with open('funnel.csv', 'w', encoding='utf-8') as f_w:\n",
    "        for line in f:\n",
    "            line = line.strip().split(',')\n",
    "            if line[0] in purchases:\n",
    "                f_w.write(f'{line[0]},{line[1]},{purchases[line[0]]}\\n')"
   ]
  },
  {
   "cell_type": "code",
   "execution_count": 8,
   "metadata": {},
   "outputs": [
    {
     "name": "stdout",
     "output_type": "stream",
     "text": [
      "['1840e0b9d4,other,Продукты\\n', '4e4f90fcfb,context,Электроника\\n']\n"
     ]
    }
   ],
   "source": [
    "# проверка:\n",
    "with open('funnel.csv', 'r', encoding='utf-8') as f:\n",
    "    print([next(f) for x in range(2)])"
   ]
  }
 ],
 "metadata": {
  "kernelspec": {
   "display_name": "Python 3",
   "language": "python",
   "name": "python3"
  },
  "language_info": {
   "codemirror_mode": {
    "name": "ipython",
    "version": 3
   },
   "file_extension": ".py",
   "mimetype": "text/x-python",
   "name": "python",
   "nbconvert_exporter": "python",
   "pygments_lexer": "ipython3",
   "version": "3.7.1"
  }
 },
 "nbformat": 4,
 "nbformat_minor": 2
}
