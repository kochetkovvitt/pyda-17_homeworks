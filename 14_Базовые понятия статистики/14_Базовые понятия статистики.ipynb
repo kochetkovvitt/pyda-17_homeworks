{
 "cells": [
  {
   "cell_type": "markdown",
   "metadata": {},
   "source": [
    "# Домашнее задание «Базовые понятия статистики»"
   ]
  },
  {
   "cell_type": "code",
   "execution_count": 1,
   "metadata": {},
   "outputs": [],
   "source": [
    "import pandas as pd"
   ]
  },
  {
   "cell_type": "markdown",
   "metadata": {},
   "source": [
    "<div class=\"alert alert-block alert-info\">\n",
    "Будем осуществлять работу с непростым набором данных <br>\n",
    "https://raw.githubusercontent.com/obulygin/pyda_homeworks/master/statistics_basics/horse_data.csv <br>\n",
    "о состоянии здоровья лошадей, испытывающих кишечные колики.</div>"
   ]
  },
  {
   "cell_type": "markdown",
   "metadata": {},
   "source": [
    "<div class=\"alert alert-success\">\n",
    "<h3> Задание 1. Базовое изучение</h3>\n",
    "</div>"
   ]
  },
  {
   "cell_type": "markdown",
   "metadata": {},
   "source": [
    "<div class=\"alert alert-block alert-info\">\n",
    "Изучить представленный набор данных на основе описания его столбцов<br>\n",
    "https://raw.githubusercontent.com/obulygin/pyda_homeworks/master/statistics_basics/horse_data.names<br>\n",
    "и выбрать 8 столбцов для дальнейшего изучения (среди них должны быть как числовые, так и категориальные).<br>  \n",
    "Провести расчет базовых метрик для них, кратко описать результаты.</div>"
   ]
  },
  {
   "cell_type": "code",
   "execution_count": 2,
   "metadata": {},
   "outputs": [],
   "source": [
    "data = pd.read_csv('horse_data.csv', header=None, na_values='?')"
   ]
  },
  {
   "cell_type": "code",
   "execution_count": 3,
   "metadata": {},
   "outputs": [
    {
     "data": {
      "text/plain": [
       "(300, 28)"
      ]
     },
     "execution_count": 3,
     "metadata": {},
     "output_type": "execute_result"
    }
   ],
   "source": [
    "data.shape"
   ]
  },
  {
   "cell_type": "code",
   "execution_count": 4,
   "metadata": {},
   "outputs": [
    {
     "data": {
      "text/html": [
       "<div>\n",
       "<style scoped>\n",
       "    .dataframe tbody tr th:only-of-type {\n",
       "        vertical-align: middle;\n",
       "    }\n",
       "\n",
       "    .dataframe tbody tr th {\n",
       "        vertical-align: top;\n",
       "    }\n",
       "\n",
       "    .dataframe thead th {\n",
       "        text-align: right;\n",
       "    }\n",
       "</style>\n",
       "<table border=\"1\" class=\"dataframe\">\n",
       "  <thead>\n",
       "    <tr style=\"text-align: right;\">\n",
       "      <th></th>\n",
       "      <th>0</th>\n",
       "      <th>1</th>\n",
       "      <th>2</th>\n",
       "      <th>3</th>\n",
       "      <th>4</th>\n",
       "      <th>5</th>\n",
       "      <th>6</th>\n",
       "      <th>7</th>\n",
       "      <th>8</th>\n",
       "      <th>9</th>\n",
       "      <th>...</th>\n",
       "      <th>18</th>\n",
       "      <th>19</th>\n",
       "      <th>20</th>\n",
       "      <th>21</th>\n",
       "      <th>22</th>\n",
       "      <th>23</th>\n",
       "      <th>24</th>\n",
       "      <th>25</th>\n",
       "      <th>26</th>\n",
       "      <th>27</th>\n",
       "    </tr>\n",
       "  </thead>\n",
       "  <tbody>\n",
       "    <tr>\n",
       "      <th>0</th>\n",
       "      <td>2.0</td>\n",
       "      <td>1</td>\n",
       "      <td>530101</td>\n",
       "      <td>38.5</td>\n",
       "      <td>66.0</td>\n",
       "      <td>28.0</td>\n",
       "      <td>3.0</td>\n",
       "      <td>3.0</td>\n",
       "      <td>NaN</td>\n",
       "      <td>2.0</td>\n",
       "      <td>...</td>\n",
       "      <td>45.0</td>\n",
       "      <td>8.4</td>\n",
       "      <td>NaN</td>\n",
       "      <td>NaN</td>\n",
       "      <td>2.0</td>\n",
       "      <td>2</td>\n",
       "      <td>11300</td>\n",
       "      <td>0</td>\n",
       "      <td>0</td>\n",
       "      <td>2</td>\n",
       "    </tr>\n",
       "    <tr>\n",
       "      <th>1</th>\n",
       "      <td>1.0</td>\n",
       "      <td>1</td>\n",
       "      <td>534817</td>\n",
       "      <td>39.2</td>\n",
       "      <td>88.0</td>\n",
       "      <td>20.0</td>\n",
       "      <td>NaN</td>\n",
       "      <td>NaN</td>\n",
       "      <td>4.0</td>\n",
       "      <td>1.0</td>\n",
       "      <td>...</td>\n",
       "      <td>50.0</td>\n",
       "      <td>85.0</td>\n",
       "      <td>2.0</td>\n",
       "      <td>2.0</td>\n",
       "      <td>3.0</td>\n",
       "      <td>2</td>\n",
       "      <td>2208</td>\n",
       "      <td>0</td>\n",
       "      <td>0</td>\n",
       "      <td>2</td>\n",
       "    </tr>\n",
       "    <tr>\n",
       "      <th>2</th>\n",
       "      <td>2.0</td>\n",
       "      <td>1</td>\n",
       "      <td>530334</td>\n",
       "      <td>38.3</td>\n",
       "      <td>40.0</td>\n",
       "      <td>24.0</td>\n",
       "      <td>1.0</td>\n",
       "      <td>1.0</td>\n",
       "      <td>3.0</td>\n",
       "      <td>1.0</td>\n",
       "      <td>...</td>\n",
       "      <td>33.0</td>\n",
       "      <td>6.7</td>\n",
       "      <td>NaN</td>\n",
       "      <td>NaN</td>\n",
       "      <td>1.0</td>\n",
       "      <td>2</td>\n",
       "      <td>0</td>\n",
       "      <td>0</td>\n",
       "      <td>0</td>\n",
       "      <td>1</td>\n",
       "    </tr>\n",
       "    <tr>\n",
       "      <th>3</th>\n",
       "      <td>1.0</td>\n",
       "      <td>9</td>\n",
       "      <td>5290409</td>\n",
       "      <td>39.1</td>\n",
       "      <td>164.0</td>\n",
       "      <td>84.0</td>\n",
       "      <td>4.0</td>\n",
       "      <td>1.0</td>\n",
       "      <td>6.0</td>\n",
       "      <td>2.0</td>\n",
       "      <td>...</td>\n",
       "      <td>48.0</td>\n",
       "      <td>7.2</td>\n",
       "      <td>3.0</td>\n",
       "      <td>5.3</td>\n",
       "      <td>2.0</td>\n",
       "      <td>1</td>\n",
       "      <td>2208</td>\n",
       "      <td>0</td>\n",
       "      <td>0</td>\n",
       "      <td>1</td>\n",
       "    </tr>\n",
       "    <tr>\n",
       "      <th>4</th>\n",
       "      <td>2.0</td>\n",
       "      <td>1</td>\n",
       "      <td>530255</td>\n",
       "      <td>37.3</td>\n",
       "      <td>104.0</td>\n",
       "      <td>35.0</td>\n",
       "      <td>NaN</td>\n",
       "      <td>NaN</td>\n",
       "      <td>6.0</td>\n",
       "      <td>2.0</td>\n",
       "      <td>...</td>\n",
       "      <td>74.0</td>\n",
       "      <td>7.4</td>\n",
       "      <td>NaN</td>\n",
       "      <td>NaN</td>\n",
       "      <td>2.0</td>\n",
       "      <td>2</td>\n",
       "      <td>4300</td>\n",
       "      <td>0</td>\n",
       "      <td>0</td>\n",
       "      <td>2</td>\n",
       "    </tr>\n",
       "  </tbody>\n",
       "</table>\n",
       "<p>5 rows × 28 columns</p>\n",
       "</div>"
      ],
      "text/plain": [
       "    0   1        2     3      4     5    6    7    8    9  ...    18    19  \\\n",
       "0  2.0   1   530101  38.5   66.0  28.0  3.0  3.0  NaN  2.0 ...  45.0   8.4   \n",
       "1  1.0   1   534817  39.2   88.0  20.0  NaN  NaN  4.0  1.0 ...  50.0  85.0   \n",
       "2  2.0   1   530334  38.3   40.0  24.0  1.0  1.0  3.0  1.0 ...  33.0   6.7   \n",
       "3  1.0   9  5290409  39.1  164.0  84.0  4.0  1.0  6.0  2.0 ...  48.0   7.2   \n",
       "4  2.0   1   530255  37.3  104.0  35.0  NaN  NaN  6.0  2.0 ...  74.0   7.4   \n",
       "\n",
       "    20   21   22  23     24  25  26  27  \n",
       "0  NaN  NaN  2.0   2  11300   0   0   2  \n",
       "1  2.0  2.0  3.0   2   2208   0   0   2  \n",
       "2  NaN  NaN  1.0   2      0   0   0   1  \n",
       "3  3.0  5.3  2.0   1   2208   0   0   1  \n",
       "4  NaN  NaN  2.0   2   4300   0   0   2  \n",
       "\n",
       "[5 rows x 28 columns]"
      ]
     },
     "execution_count": 4,
     "metadata": {},
     "output_type": "execute_result"
    }
   ],
   "source": [
    "data.head()"
   ]
  },
  {
   "cell_type": "code",
   "execution_count": 5,
   "metadata": {},
   "outputs": [
    {
     "name": "stdout",
     "output_type": "stream",
     "text": [
      "<class 'pandas.core.frame.DataFrame'>\n",
      "RangeIndex: 300 entries, 0 to 299\n",
      "Data columns (total 28 columns):\n",
      "0     299 non-null float64\n",
      "1     300 non-null int64\n",
      "2     300 non-null int64\n",
      "3     240 non-null float64\n",
      "4     276 non-null float64\n",
      "5     242 non-null float64\n",
      "6     244 non-null float64\n",
      "7     231 non-null float64\n",
      "8     253 non-null float64\n",
      "9     268 non-null float64\n",
      "10    245 non-null float64\n",
      "11    256 non-null float64\n",
      "12    244 non-null float64\n",
      "13    196 non-null float64\n",
      "14    194 non-null float64\n",
      "15    53 non-null float64\n",
      "16    198 non-null float64\n",
      "17    182 non-null float64\n",
      "18    271 non-null float64\n",
      "19    267 non-null float64\n",
      "20    135 non-null float64\n",
      "21    102 non-null float64\n",
      "22    299 non-null float64\n",
      "23    300 non-null int64\n",
      "24    300 non-null int64\n",
      "25    300 non-null int64\n",
      "26    300 non-null int64\n",
      "27    300 non-null int64\n",
      "dtypes: float64(21), int64(7)\n",
      "memory usage: 65.7 KB\n"
     ]
    }
   ],
   "source": [
    "data.info()"
   ]
  },
  {
   "cell_type": "markdown",
   "metadata": {},
   "source": [
    "Все данные представлены числовым форматом, хотя большинство признаков фактически категориальные.  \n",
    "Составим словарь описания признаков и сразу для названий столбцов добавим _num или _cat  \n",
    "для числовых и категориальных признаков соотвественно, чтобы отдельно расчитать базовые метрики для них."
   ]
  },
  {
   "cell_type": "code",
   "execution_count": 6,
   "metadata": {},
   "outputs": [],
   "source": [
    "description = {1: ['surgery?', 'была ли операция: да, нет', 'had_surgery_cat'],\n",
    "               2: ['Age', 'возраст: взрослая, молодая (< 6 мес)', 'age_cat'],\n",
    "               3: ['Hospital Number', 'числовой идентификатор', 'id_cat'],\n",
    "               4: ['rectal temperature', 'ректальная температура в градусах цельсия', 'rectal_temp_num'],\n",
    "               5: ['pulse', 'частота сердечных сокращений в ударах в минуту', 'pulse_num'],\n",
    "               6: ['respiratory rate', 'частота дыхания', 'respiratory_rate_num'],\n",
    "               7: ['temperature of extremities', 'температура конечностей', 'extremities_temp_cat'],\n",
    "               8: ['peripheral pulse', 'периферический пульс', 'peripheral_pulse_cat'],\n",
    "               9: ['mucous membranes', 'слизистые оболочки, измерение цвета', 'mucous_membranes_cat'],\n",
    "              10: ['capillary refill time', 'время пополнения капилляров', 'capillary_refill_time_cat'],\n",
    "              11: ['pain', 'субъективное суждение об уровне боли лошади', 'pain_cat'],\n",
    "              12: ['peristalsis', 'перистальтика', 'peristalsis_cat'],\n",
    "              13: ['abdominal distension', 'вздутие живота', 'abdominal_distension_cat'],\n",
    "              14: ['nasogastric tube', 'назогастральная трубка', 'nasogastric_tube_cat'],\n",
    "              15: ['nasogastric reflux', 'назогастральный рефлюкс', 'nasogastric_reflux_cat'],\n",
    "              16: ['nasogastric reflux PH', 'назогастральный рефлюкс РН', 'nasogastric_reflux_ph_cat'],\n",
    "              17: ['rectal examination - feces', 'ректальное исследование - кал', 'feces_cat'],\n",
    "              18: ['abdomen', 'живот', 'abdomen_cat'],\n",
    "              19: ['packed cell volume', 'количество эритроцитов по объему в крови', 'pcv_num'],\n",
    "              20: ['total protein', 'общий белок', 'total_protein_num'],\n",
    "              21: ['abdominocentesis appearance', 'внешний вид абдоминоцентеза', 'abdominocentesis_appearance_cat'],\n",
    "              22: ['abdomcentesis total protein', 'абдоминоцентез общий белок', 'atp_num'],\n",
    "              23: ['outcome', 'итоги - что стало с лошадью', 'outcome_cat'],\n",
    "              24: ['surgical lesion?', 'была ли проблема (поражение) хирургической?', 'was_surgical_cat'],\n",
    "              25: ['type of lesion_1', 'тип поражения', 'lesion_type_1_cat'],\n",
    "              26: ['type of lesion_2', 'тип поражения', 'lesion_type_2_cat'],\n",
    "              27: ['type of lesion_3', 'тип поражения', 'lesion_type_3_cat'],\n",
    "              28: ['cp_data', 'имеются ли данные патологии в данном случае?', 'cp_data_cat']}"
   ]
  },
  {
   "cell_type": "markdown",
   "metadata": {},
   "source": [
    "Добавим названия столбцов в датафрейм:"
   ]
  },
  {
   "cell_type": "code",
   "execution_count": 7,
   "metadata": {},
   "outputs": [],
   "source": [
    "data.columns = [description[x+1][2] for x in range(28)]"
   ]
  },
  {
   "cell_type": "code",
   "execution_count": 8,
   "metadata": {},
   "outputs": [
    {
     "data": {
      "text/html": [
       "<div>\n",
       "<style scoped>\n",
       "    .dataframe tbody tr th:only-of-type {\n",
       "        vertical-align: middle;\n",
       "    }\n",
       "\n",
       "    .dataframe tbody tr th {\n",
       "        vertical-align: top;\n",
       "    }\n",
       "\n",
       "    .dataframe thead th {\n",
       "        text-align: right;\n",
       "    }\n",
       "</style>\n",
       "<table border=\"1\" class=\"dataframe\">\n",
       "  <thead>\n",
       "    <tr style=\"text-align: right;\">\n",
       "      <th></th>\n",
       "      <th>had_surgery_cat</th>\n",
       "      <th>age_cat</th>\n",
       "      <th>id_cat</th>\n",
       "      <th>rectal_temp_num</th>\n",
       "      <th>pulse_num</th>\n",
       "      <th>respiratory_rate_num</th>\n",
       "      <th>extremities_temp_cat</th>\n",
       "      <th>peripheral_pulse_cat</th>\n",
       "      <th>mucous_membranes_cat</th>\n",
       "      <th>capillary_refill_time_cat</th>\n",
       "      <th>...</th>\n",
       "      <th>pcv_num</th>\n",
       "      <th>total_protein_num</th>\n",
       "      <th>abdominocentesis_appearance_cat</th>\n",
       "      <th>atp_num</th>\n",
       "      <th>outcome_cat</th>\n",
       "      <th>was_surgical_cat</th>\n",
       "      <th>lesion_type_1_cat</th>\n",
       "      <th>lesion_type_2_cat</th>\n",
       "      <th>lesion_type_3_cat</th>\n",
       "      <th>cp_data_cat</th>\n",
       "    </tr>\n",
       "  </thead>\n",
       "  <tbody>\n",
       "    <tr>\n",
       "      <th>0</th>\n",
       "      <td>2.0</td>\n",
       "      <td>1</td>\n",
       "      <td>530101</td>\n",
       "      <td>38.5</td>\n",
       "      <td>66.0</td>\n",
       "      <td>28.0</td>\n",
       "      <td>3.0</td>\n",
       "      <td>3.0</td>\n",
       "      <td>NaN</td>\n",
       "      <td>2.0</td>\n",
       "      <td>...</td>\n",
       "      <td>45.0</td>\n",
       "      <td>8.4</td>\n",
       "      <td>NaN</td>\n",
       "      <td>NaN</td>\n",
       "      <td>2.0</td>\n",
       "      <td>2</td>\n",
       "      <td>11300</td>\n",
       "      <td>0</td>\n",
       "      <td>0</td>\n",
       "      <td>2</td>\n",
       "    </tr>\n",
       "    <tr>\n",
       "      <th>1</th>\n",
       "      <td>1.0</td>\n",
       "      <td>1</td>\n",
       "      <td>534817</td>\n",
       "      <td>39.2</td>\n",
       "      <td>88.0</td>\n",
       "      <td>20.0</td>\n",
       "      <td>NaN</td>\n",
       "      <td>NaN</td>\n",
       "      <td>4.0</td>\n",
       "      <td>1.0</td>\n",
       "      <td>...</td>\n",
       "      <td>50.0</td>\n",
       "      <td>85.0</td>\n",
       "      <td>2.0</td>\n",
       "      <td>2.0</td>\n",
       "      <td>3.0</td>\n",
       "      <td>2</td>\n",
       "      <td>2208</td>\n",
       "      <td>0</td>\n",
       "      <td>0</td>\n",
       "      <td>2</td>\n",
       "    </tr>\n",
       "    <tr>\n",
       "      <th>2</th>\n",
       "      <td>2.0</td>\n",
       "      <td>1</td>\n",
       "      <td>530334</td>\n",
       "      <td>38.3</td>\n",
       "      <td>40.0</td>\n",
       "      <td>24.0</td>\n",
       "      <td>1.0</td>\n",
       "      <td>1.0</td>\n",
       "      <td>3.0</td>\n",
       "      <td>1.0</td>\n",
       "      <td>...</td>\n",
       "      <td>33.0</td>\n",
       "      <td>6.7</td>\n",
       "      <td>NaN</td>\n",
       "      <td>NaN</td>\n",
       "      <td>1.0</td>\n",
       "      <td>2</td>\n",
       "      <td>0</td>\n",
       "      <td>0</td>\n",
       "      <td>0</td>\n",
       "      <td>1</td>\n",
       "    </tr>\n",
       "    <tr>\n",
       "      <th>3</th>\n",
       "      <td>1.0</td>\n",
       "      <td>9</td>\n",
       "      <td>5290409</td>\n",
       "      <td>39.1</td>\n",
       "      <td>164.0</td>\n",
       "      <td>84.0</td>\n",
       "      <td>4.0</td>\n",
       "      <td>1.0</td>\n",
       "      <td>6.0</td>\n",
       "      <td>2.0</td>\n",
       "      <td>...</td>\n",
       "      <td>48.0</td>\n",
       "      <td>7.2</td>\n",
       "      <td>3.0</td>\n",
       "      <td>5.3</td>\n",
       "      <td>2.0</td>\n",
       "      <td>1</td>\n",
       "      <td>2208</td>\n",
       "      <td>0</td>\n",
       "      <td>0</td>\n",
       "      <td>1</td>\n",
       "    </tr>\n",
       "    <tr>\n",
       "      <th>4</th>\n",
       "      <td>2.0</td>\n",
       "      <td>1</td>\n",
       "      <td>530255</td>\n",
       "      <td>37.3</td>\n",
       "      <td>104.0</td>\n",
       "      <td>35.0</td>\n",
       "      <td>NaN</td>\n",
       "      <td>NaN</td>\n",
       "      <td>6.0</td>\n",
       "      <td>2.0</td>\n",
       "      <td>...</td>\n",
       "      <td>74.0</td>\n",
       "      <td>7.4</td>\n",
       "      <td>NaN</td>\n",
       "      <td>NaN</td>\n",
       "      <td>2.0</td>\n",
       "      <td>2</td>\n",
       "      <td>4300</td>\n",
       "      <td>0</td>\n",
       "      <td>0</td>\n",
       "      <td>2</td>\n",
       "    </tr>\n",
       "  </tbody>\n",
       "</table>\n",
       "<p>5 rows × 28 columns</p>\n",
       "</div>"
      ],
      "text/plain": [
       "   had_surgery_cat  age_cat   id_cat  rectal_temp_num  pulse_num  \\\n",
       "0              2.0        1   530101             38.5       66.0   \n",
       "1              1.0        1   534817             39.2       88.0   \n",
       "2              2.0        1   530334             38.3       40.0   \n",
       "3              1.0        9  5290409             39.1      164.0   \n",
       "4              2.0        1   530255             37.3      104.0   \n",
       "\n",
       "   respiratory_rate_num  extremities_temp_cat  peripheral_pulse_cat  \\\n",
       "0                  28.0                   3.0                   3.0   \n",
       "1                  20.0                   NaN                   NaN   \n",
       "2                  24.0                   1.0                   1.0   \n",
       "3                  84.0                   4.0                   1.0   \n",
       "4                  35.0                   NaN                   NaN   \n",
       "\n",
       "   mucous_membranes_cat  capillary_refill_time_cat     ...       pcv_num  \\\n",
       "0                   NaN                        2.0     ...          45.0   \n",
       "1                   4.0                        1.0     ...          50.0   \n",
       "2                   3.0                        1.0     ...          33.0   \n",
       "3                   6.0                        2.0     ...          48.0   \n",
       "4                   6.0                        2.0     ...          74.0   \n",
       "\n",
       "   total_protein_num  abdominocentesis_appearance_cat  atp_num  outcome_cat  \\\n",
       "0                8.4                              NaN      NaN          2.0   \n",
       "1               85.0                              2.0      2.0          3.0   \n",
       "2                6.7                              NaN      NaN          1.0   \n",
       "3                7.2                              3.0      5.3          2.0   \n",
       "4                7.4                              NaN      NaN          2.0   \n",
       "\n",
       "   was_surgical_cat  lesion_type_1_cat  lesion_type_2_cat  lesion_type_3_cat  \\\n",
       "0                 2              11300                  0                  0   \n",
       "1                 2               2208                  0                  0   \n",
       "2                 2                  0                  0                  0   \n",
       "3                 1               2208                  0                  0   \n",
       "4                 2               4300                  0                  0   \n",
       "\n",
       "   cp_data_cat  \n",
       "0            2  \n",
       "1            2  \n",
       "2            1  \n",
       "3            1  \n",
       "4            2  \n",
       "\n",
       "[5 rows x 28 columns]"
      ]
     },
     "execution_count": 8,
     "metadata": {},
     "output_type": "execute_result"
    }
   ],
   "source": [
    "data.head()"
   ]
  },
  {
   "cell_type": "code",
   "execution_count": 9,
   "metadata": {},
   "outputs": [],
   "source": [
    "categorical_columns = [c for c in data.columns if c[-4:] == '_cat']\n",
    "numerical_columns = [c for c in data.columns if c[-4:] == '_num']"
   ]
  },
  {
   "cell_type": "markdown",
   "metadata": {},
   "source": [
    "Преобразуем тип данных для категориальных признаков:"
   ]
  },
  {
   "cell_type": "code",
   "execution_count": 10,
   "metadata": {},
   "outputs": [],
   "source": [
    "data[categorical_columns] = data[categorical_columns].astype('category')"
   ]
  },
  {
   "cell_type": "code",
   "execution_count": 11,
   "metadata": {},
   "outputs": [
    {
     "name": "stdout",
     "output_type": "stream",
     "text": [
      "<class 'pandas.core.frame.DataFrame'>\n",
      "RangeIndex: 300 entries, 0 to 299\n",
      "Data columns (total 28 columns):\n",
      "had_surgery_cat                    299 non-null category\n",
      "age_cat                            300 non-null category\n",
      "id_cat                             300 non-null category\n",
      "rectal_temp_num                    240 non-null float64\n",
      "pulse_num                          276 non-null float64\n",
      "respiratory_rate_num               242 non-null float64\n",
      "extremities_temp_cat               244 non-null category\n",
      "peripheral_pulse_cat               231 non-null category\n",
      "mucous_membranes_cat               253 non-null category\n",
      "capillary_refill_time_cat          268 non-null category\n",
      "pain_cat                           245 non-null category\n",
      "peristalsis_cat                    256 non-null category\n",
      "abdominal_distension_cat           244 non-null category\n",
      "nasogastric_tube_cat               196 non-null category\n",
      "nasogastric_reflux_cat             194 non-null category\n",
      "nasogastric_reflux_ph_cat          53 non-null category\n",
      "feces_cat                          198 non-null category\n",
      "abdomen_cat                        182 non-null category\n",
      "pcv_num                            271 non-null float64\n",
      "total_protein_num                  267 non-null float64\n",
      "abdominocentesis_appearance_cat    135 non-null category\n",
      "atp_num                            102 non-null float64\n",
      "outcome_cat                        299 non-null category\n",
      "was_surgical_cat                   300 non-null category\n",
      "lesion_type_1_cat                  300 non-null category\n",
      "lesion_type_2_cat                  300 non-null category\n",
      "lesion_type_3_cat                  300 non-null category\n",
      "cp_data_cat                        300 non-null category\n",
      "dtypes: category(22), float64(6)\n",
      "memory usage: 39.6 KB\n"
     ]
    }
   ],
   "source": [
    "data.info()"
   ]
  },
  {
   "cell_type": "markdown",
   "metadata": {},
   "source": [
    "Теперь для категориальных признаков можно посмотреть количество уникальных значений **unique**,  \n",
    "самое часто встречающееся значение **top**, и его количество **freq**:"
   ]
  },
  {
   "cell_type": "code",
   "execution_count": 12,
   "metadata": {},
   "outputs": [
    {
     "data": {
      "text/html": [
       "<div>\n",
       "<style scoped>\n",
       "    .dataframe tbody tr th:only-of-type {\n",
       "        vertical-align: middle;\n",
       "    }\n",
       "\n",
       "    .dataframe tbody tr th {\n",
       "        vertical-align: top;\n",
       "    }\n",
       "\n",
       "    .dataframe thead th {\n",
       "        text-align: right;\n",
       "    }\n",
       "</style>\n",
       "<table border=\"1\" class=\"dataframe\">\n",
       "  <thead>\n",
       "    <tr style=\"text-align: right;\">\n",
       "      <th></th>\n",
       "      <th>had_surgery_cat</th>\n",
       "      <th>age_cat</th>\n",
       "      <th>id_cat</th>\n",
       "      <th>extremities_temp_cat</th>\n",
       "      <th>peripheral_pulse_cat</th>\n",
       "      <th>mucous_membranes_cat</th>\n",
       "      <th>capillary_refill_time_cat</th>\n",
       "      <th>pain_cat</th>\n",
       "      <th>peristalsis_cat</th>\n",
       "      <th>abdominal_distension_cat</th>\n",
       "      <th>...</th>\n",
       "      <th>nasogastric_reflux_ph_cat</th>\n",
       "      <th>feces_cat</th>\n",
       "      <th>abdomen_cat</th>\n",
       "      <th>abdominocentesis_appearance_cat</th>\n",
       "      <th>outcome_cat</th>\n",
       "      <th>was_surgical_cat</th>\n",
       "      <th>lesion_type_1_cat</th>\n",
       "      <th>lesion_type_2_cat</th>\n",
       "      <th>lesion_type_3_cat</th>\n",
       "      <th>cp_data_cat</th>\n",
       "    </tr>\n",
       "  </thead>\n",
       "  <tbody>\n",
       "    <tr>\n",
       "      <th>count</th>\n",
       "      <td>299.0</td>\n",
       "      <td>300</td>\n",
       "      <td>300</td>\n",
       "      <td>244.0</td>\n",
       "      <td>231.0</td>\n",
       "      <td>253.0</td>\n",
       "      <td>268.0</td>\n",
       "      <td>245.0</td>\n",
       "      <td>256.0</td>\n",
       "      <td>244.0</td>\n",
       "      <td>...</td>\n",
       "      <td>53.0</td>\n",
       "      <td>198.0</td>\n",
       "      <td>182.0</td>\n",
       "      <td>135.0</td>\n",
       "      <td>299.0</td>\n",
       "      <td>300</td>\n",
       "      <td>300</td>\n",
       "      <td>300</td>\n",
       "      <td>300</td>\n",
       "      <td>300</td>\n",
       "    </tr>\n",
       "    <tr>\n",
       "      <th>unique</th>\n",
       "      <td>2.0</td>\n",
       "      <td>2</td>\n",
       "      <td>284</td>\n",
       "      <td>4.0</td>\n",
       "      <td>4.0</td>\n",
       "      <td>6.0</td>\n",
       "      <td>3.0</td>\n",
       "      <td>5.0</td>\n",
       "      <td>4.0</td>\n",
       "      <td>4.0</td>\n",
       "      <td>...</td>\n",
       "      <td>20.0</td>\n",
       "      <td>4.0</td>\n",
       "      <td>5.0</td>\n",
       "      <td>3.0</td>\n",
       "      <td>3.0</td>\n",
       "      <td>2</td>\n",
       "      <td>61</td>\n",
       "      <td>6</td>\n",
       "      <td>2</td>\n",
       "      <td>2</td>\n",
       "    </tr>\n",
       "    <tr>\n",
       "      <th>top</th>\n",
       "      <td>1.0</td>\n",
       "      <td>1</td>\n",
       "      <td>5279822</td>\n",
       "      <td>3.0</td>\n",
       "      <td>1.0</td>\n",
       "      <td>1.0</td>\n",
       "      <td>1.0</td>\n",
       "      <td>3.0</td>\n",
       "      <td>3.0</td>\n",
       "      <td>1.0</td>\n",
       "      <td>...</td>\n",
       "      <td>2.0</td>\n",
       "      <td>4.0</td>\n",
       "      <td>5.0</td>\n",
       "      <td>2.0</td>\n",
       "      <td>1.0</td>\n",
       "      <td>1</td>\n",
       "      <td>0</td>\n",
       "      <td>0</td>\n",
       "      <td>0</td>\n",
       "      <td>2</td>\n",
       "    </tr>\n",
       "    <tr>\n",
       "      <th>freq</th>\n",
       "      <td>180.0</td>\n",
       "      <td>276</td>\n",
       "      <td>2</td>\n",
       "      <td>109.0</td>\n",
       "      <td>115.0</td>\n",
       "      <td>79.0</td>\n",
       "      <td>188.0</td>\n",
       "      <td>67.0</td>\n",
       "      <td>128.0</td>\n",
       "      <td>76.0</td>\n",
       "      <td>...</td>\n",
       "      <td>9.0</td>\n",
       "      <td>79.0</td>\n",
       "      <td>79.0</td>\n",
       "      <td>48.0</td>\n",
       "      <td>178.0</td>\n",
       "      <td>191</td>\n",
       "      <td>56</td>\n",
       "      <td>293</td>\n",
       "      <td>299</td>\n",
       "      <td>201</td>\n",
       "    </tr>\n",
       "  </tbody>\n",
       "</table>\n",
       "<p>4 rows × 22 columns</p>\n",
       "</div>"
      ],
      "text/plain": [
       "        had_surgery_cat  age_cat   id_cat  extremities_temp_cat  \\\n",
       "count             299.0      300      300                 244.0   \n",
       "unique              2.0        2      284                   4.0   \n",
       "top                 1.0        1  5279822                   3.0   \n",
       "freq              180.0      276        2                 109.0   \n",
       "\n",
       "        peripheral_pulse_cat  mucous_membranes_cat  capillary_refill_time_cat  \\\n",
       "count                  231.0                 253.0                      268.0   \n",
       "unique                   4.0                   6.0                        3.0   \n",
       "top                      1.0                   1.0                        1.0   \n",
       "freq                   115.0                  79.0                      188.0   \n",
       "\n",
       "        pain_cat  peristalsis_cat  abdominal_distension_cat     ...       \\\n",
       "count      245.0            256.0                     244.0     ...        \n",
       "unique       5.0              4.0                       4.0     ...        \n",
       "top          3.0              3.0                       1.0     ...        \n",
       "freq        67.0            128.0                      76.0     ...        \n",
       "\n",
       "        nasogastric_reflux_ph_cat  feces_cat  abdomen_cat  \\\n",
       "count                        53.0      198.0        182.0   \n",
       "unique                       20.0        4.0          5.0   \n",
       "top                           2.0        4.0          5.0   \n",
       "freq                          9.0       79.0         79.0   \n",
       "\n",
       "        abdominocentesis_appearance_cat  outcome_cat  was_surgical_cat  \\\n",
       "count                             135.0        299.0               300   \n",
       "unique                              3.0          3.0                 2   \n",
       "top                                 2.0          1.0                 1   \n",
       "freq                               48.0        178.0               191   \n",
       "\n",
       "        lesion_type_1_cat  lesion_type_2_cat  lesion_type_3_cat  cp_data_cat  \n",
       "count                 300                300                300          300  \n",
       "unique                 61                  6                  2            2  \n",
       "top                     0                  0                  0            2  \n",
       "freq                   56                293                299          201  \n",
       "\n",
       "[4 rows x 22 columns]"
      ]
     },
     "execution_count": 12,
     "metadata": {},
     "output_type": "execute_result"
    }
   ],
   "source": [
    "data[categorical_columns].describe()"
   ]
  },
  {
   "cell_type": "markdown",
   "metadata": {},
   "source": [
    "Базовые метрики для числовых признаков:"
   ]
  },
  {
   "cell_type": "code",
   "execution_count": 13,
   "metadata": {},
   "outputs": [
    {
     "data": {
      "text/html": [
       "<div>\n",
       "<style scoped>\n",
       "    .dataframe tbody tr th:only-of-type {\n",
       "        vertical-align: middle;\n",
       "    }\n",
       "\n",
       "    .dataframe tbody tr th {\n",
       "        vertical-align: top;\n",
       "    }\n",
       "\n",
       "    .dataframe thead th {\n",
       "        text-align: right;\n",
       "    }\n",
       "</style>\n",
       "<table border=\"1\" class=\"dataframe\">\n",
       "  <thead>\n",
       "    <tr style=\"text-align: right;\">\n",
       "      <th></th>\n",
       "      <th>rectal_temp_num</th>\n",
       "      <th>pulse_num</th>\n",
       "      <th>respiratory_rate_num</th>\n",
       "      <th>pcv_num</th>\n",
       "      <th>total_protein_num</th>\n",
       "      <th>atp_num</th>\n",
       "    </tr>\n",
       "  </thead>\n",
       "  <tbody>\n",
       "    <tr>\n",
       "      <th>count</th>\n",
       "      <td>240.000000</td>\n",
       "      <td>276.000000</td>\n",
       "      <td>242.000000</td>\n",
       "      <td>271.000000</td>\n",
       "      <td>267.000000</td>\n",
       "      <td>102.000000</td>\n",
       "    </tr>\n",
       "    <tr>\n",
       "      <th>mean</th>\n",
       "      <td>38.167917</td>\n",
       "      <td>71.913043</td>\n",
       "      <td>30.417355</td>\n",
       "      <td>46.295203</td>\n",
       "      <td>24.456929</td>\n",
       "      <td>3.019608</td>\n",
       "    </tr>\n",
       "    <tr>\n",
       "      <th>std</th>\n",
       "      <td>0.732289</td>\n",
       "      <td>28.630557</td>\n",
       "      <td>17.642231</td>\n",
       "      <td>10.419335</td>\n",
       "      <td>27.475009</td>\n",
       "      <td>1.968567</td>\n",
       "    </tr>\n",
       "    <tr>\n",
       "      <th>min</th>\n",
       "      <td>35.400000</td>\n",
       "      <td>30.000000</td>\n",
       "      <td>8.000000</td>\n",
       "      <td>23.000000</td>\n",
       "      <td>3.300000</td>\n",
       "      <td>0.100000</td>\n",
       "    </tr>\n",
       "    <tr>\n",
       "      <th>25%</th>\n",
       "      <td>37.800000</td>\n",
       "      <td>48.000000</td>\n",
       "      <td>18.500000</td>\n",
       "      <td>38.000000</td>\n",
       "      <td>6.500000</td>\n",
       "      <td>2.000000</td>\n",
       "    </tr>\n",
       "    <tr>\n",
       "      <th>50%</th>\n",
       "      <td>38.200000</td>\n",
       "      <td>64.000000</td>\n",
       "      <td>24.500000</td>\n",
       "      <td>45.000000</td>\n",
       "      <td>7.500000</td>\n",
       "      <td>2.250000</td>\n",
       "    </tr>\n",
       "    <tr>\n",
       "      <th>75%</th>\n",
       "      <td>38.500000</td>\n",
       "      <td>88.000000</td>\n",
       "      <td>36.000000</td>\n",
       "      <td>52.000000</td>\n",
       "      <td>57.000000</td>\n",
       "      <td>3.900000</td>\n",
       "    </tr>\n",
       "    <tr>\n",
       "      <th>max</th>\n",
       "      <td>40.800000</td>\n",
       "      <td>184.000000</td>\n",
       "      <td>96.000000</td>\n",
       "      <td>75.000000</td>\n",
       "      <td>89.000000</td>\n",
       "      <td>10.100000</td>\n",
       "    </tr>\n",
       "  </tbody>\n",
       "</table>\n",
       "</div>"
      ],
      "text/plain": [
       "       rectal_temp_num   pulse_num  respiratory_rate_num     pcv_num  \\\n",
       "count       240.000000  276.000000            242.000000  271.000000   \n",
       "mean         38.167917   71.913043             30.417355   46.295203   \n",
       "std           0.732289   28.630557             17.642231   10.419335   \n",
       "min          35.400000   30.000000              8.000000   23.000000   \n",
       "25%          37.800000   48.000000             18.500000   38.000000   \n",
       "50%          38.200000   64.000000             24.500000   45.000000   \n",
       "75%          38.500000   88.000000             36.000000   52.000000   \n",
       "max          40.800000  184.000000             96.000000   75.000000   \n",
       "\n",
       "       total_protein_num     atp_num  \n",
       "count         267.000000  102.000000  \n",
       "mean           24.456929    3.019608  \n",
       "std            27.475009    1.968567  \n",
       "min             3.300000    0.100000  \n",
       "25%             6.500000    2.000000  \n",
       "50%             7.500000    2.250000  \n",
       "75%            57.000000    3.900000  \n",
       "max            89.000000   10.100000  "
      ]
     },
     "execution_count": 13,
     "metadata": {},
     "output_type": "execute_result"
    }
   ],
   "source": [
    "data[numerical_columns].describe()"
   ]
  },
  {
   "cell_type": "markdown",
   "metadata": {},
   "source": [
    "<div class=\"alert alert-success\">\n",
    "<h3> Задание 2. Работа с выбросами </h3>\n",
    "</div>"
   ]
  },
  {
   "cell_type": "markdown",
   "metadata": {},
   "source": [
    "<div class=\"alert alert-block alert-info\">\n",
    "В выбранных числовых столбцах найти выбросы, выдвинуть гипотезы об их причинах и проинтерпретировать результаты.<br>  \n",
    "Принять и обосновать решение о дальнейшей работе с ними.</div>"
   ]
  },
  {
   "cell_type": "markdown",
   "metadata": {},
   "source": [
    "Напишем функцию для нахождения выбросов через межквартильный размах:"
   ]
  },
  {
   "cell_type": "code",
   "execution_count": 14,
   "metadata": {},
   "outputs": [],
   "source": [
    "def find_outliers(series):\n",
    "    q1 = series.quantile(0.25)\n",
    "    q3 = series.quantile(0.75)\n",
    "    iqr = q3 - q1\n",
    "    lower_bound = q1 - (1.5 * iqr) \n",
    "    upper_bound = q3 + (1.5 * iqr)\n",
    "    return series.loc[(series < lower_bound) | (series > upper_bound)].sort_values()"
   ]
  },
  {
   "cell_type": "markdown",
   "metadata": {},
   "source": [
    "И посмотрим на сами выбросы, для сравнения добавив медиану по признакам:"
   ]
  },
  {
   "cell_type": "code",
   "execution_count": 15,
   "metadata": {},
   "outputs": [
    {
     "name": "stdout",
     "output_type": "stream",
     "text": [
      "-------------------------------------------------\n",
      "Медианное значение rectal_temp_num = 38.2\n",
      "Выбросы:\n",
      "[35.4, 36.0, 36.1, 36.4, 36.5, 36.5, 36.6, 39.6, 39.7, 39.9, 40.0, 40.3, 40.3, 40.8]\n",
      "-------------------------------------------------\n",
      "Медианное значение pulse_num = 64.0\n",
      "Выбросы:\n",
      "[150.0, 150.0, 160.0, 164.0, 184.0]\n",
      "-------------------------------------------------\n",
      "Медианное значение respiratory_rate_num = 24.5\n",
      "Выбросы:\n",
      "[66.0, 68.0, 68.0, 68.0, 70.0, 70.0, 72.0, 80.0, 80.0, 80.0, 84.0, 84.0, 88.0, 90.0, 90.0, 96.0, 96.0]\n",
      "-------------------------------------------------\n",
      "Медианное значение pcv_num = 45.0\n",
      "Выбросы:\n",
      "[74.0, 75.0, 75.0]\n",
      "-------------------------------------------------\n",
      "Медианное значение total_protein_num = 7.5\n",
      "Выбросы:\n",
      "[]\n",
      "-------------------------------------------------\n",
      "Медианное значение atp_num = 2.25\n",
      "Выбросы:\n",
      "[7.0, 7.0, 7.0, 7.4, 8.0, 10.0, 10.1]\n"
     ]
    }
   ],
   "source": [
    "for c in numerical_columns:\n",
    "    print('-------------------------------------------------')\n",
    "    print(f'Медианное значение {c} = {data[c].median()}\\nВыбросы:')\n",
    "    print(list(find_outliers(data[c])))#, end='\\n\\n')"
   ]
  },
  {
   "cell_type": "markdown",
   "metadata": {},
   "source": [
    "Тут хорошо бы получить консультацию лошадиного ветеринара :)  \n",
    "Но похоже, что ошибок в данных нет и выбросы, по крайней мере по температуре, пульсу и частоте дыхания, вполне реалистичны.  \n",
    "Причины - в тяжести или особенности состояния животных.  \n",
    "Естественно выбрасывать эти строки с выбросами нельзя, чтобы не потерять информацию."
   ]
  },
  {
   "cell_type": "markdown",
   "metadata": {},
   "source": [
    "<div class=\"alert alert-success\">\n",
    "<h3> Задание 3. Работа с пропусками </h3>\n",
    "</div>"
   ]
  },
  {
   "cell_type": "markdown",
   "metadata": {},
   "source": [
    "<div class=\"alert alert-block alert-info\">\n",
    "Рассчитать количество пропусков для всех выбранных столбцов. Принять и обосновать решение о методе работы с пропусками по каждому столбцу, сформировать датафрейм, в котором пропуски будут отсутствовать.</div>"
   ]
  },
  {
   "cell_type": "markdown",
   "metadata": {},
   "source": [
    "Здесь тоже бы неплохо знать какие группы признаков с каким скоррелированы, чтобы заполнять пропуски по сложным условиям. А из простых методов можно предложить удалить столбцы у которых больше половины данных отсутствует, далее пропуски по числовым признакам заполнить медианными значениями, чтобы исключить влияние выбросов, а по категориальным - модой."
   ]
  },
  {
   "cell_type": "markdown",
   "metadata": {},
   "source": [
    "Признаки с большим количеством пропусков, > 150:"
   ]
  },
  {
   "cell_type": "code",
   "execution_count": 16,
   "metadata": {},
   "outputs": [
    {
     "name": "stdout",
     "output_type": "stream",
     "text": [
      "nasogastric_reflux_ph_cat, missing data: N = 247, % = 82.3%\n",
      "abdominocentesis_appearance_cat, missing data: N = 165, % = 55.0%\n",
      "atp_num, missing data: N = 198, % = 66.0%\n"
     ]
    }
   ],
   "source": [
    "for c in data.columns[data.isna().sum() > 150]:\n",
    "    print(f'{c}, missing data: N = {data[c].isnull().sum()}, % = {data[c].isnull().mean() :.1%}')"
   ]
  },
  {
   "cell_type": "markdown",
   "metadata": {},
   "source": [
    "Удалим их и обновим группы столбцов:"
   ]
  },
  {
   "cell_type": "code",
   "execution_count": 17,
   "metadata": {},
   "outputs": [],
   "source": [
    "data = data.drop(columns=data.columns[data.isna().sum() > 150])"
   ]
  },
  {
   "cell_type": "code",
   "execution_count": 18,
   "metadata": {},
   "outputs": [],
   "source": [
    "categorical_columns = [c for c in data.columns if c[-4:] == '_cat']\n",
    "numerical_columns = [c for c in data.columns if c[-4:] == '_num']"
   ]
  },
  {
   "cell_type": "markdown",
   "metadata": {},
   "source": [
    "Посмотрим на пропуски в числовых столбцах:"
   ]
  },
  {
   "cell_type": "code",
   "execution_count": 19,
   "metadata": {},
   "outputs": [
    {
     "name": "stdout",
     "output_type": "stream",
     "text": [
      "rectal_temp_num, missing data: N = 60, % = 20.0%\n",
      "pulse_num, missing data: N = 24, % = 8.0%\n",
      "respiratory_rate_num, missing data: N = 58, % = 19.3%\n",
      "pcv_num, missing data: N = 29, % = 9.7%\n",
      "total_protein_num, missing data: N = 33, % = 11.0%\n"
     ]
    }
   ],
   "source": [
    "for c in numerical_columns:\n",
    "    print(f'{c}, missing data: N = {data[c].isnull().sum()}, % = {data[c].isnull().mean() :.1%}')"
   ]
  },
  {
   "cell_type": "markdown",
   "metadata": {},
   "source": [
    "Заменим пропуски медианными значениями:"
   ]
  },
  {
   "cell_type": "code",
   "execution_count": 20,
   "metadata": {},
   "outputs": [],
   "source": [
    "data[numerical_columns] = data[numerical_columns].fillna(data[numerical_columns].median())"
   ]
  },
  {
   "cell_type": "markdown",
   "metadata": {},
   "source": [
    "Теперь пропуски по категориальным столбцам:"
   ]
  },
  {
   "cell_type": "code",
   "execution_count": 21,
   "metadata": {},
   "outputs": [
    {
     "name": "stdout",
     "output_type": "stream",
     "text": [
      "had_surgery_cat, missing data: N = 1, % = 0.3%\n",
      "age_cat, missing data: N = 0, % = 0.0%\n",
      "id_cat, missing data: N = 0, % = 0.0%\n",
      "extremities_temp_cat, missing data: N = 56, % = 18.7%\n",
      "peripheral_pulse_cat, missing data: N = 69, % = 23.0%\n",
      "mucous_membranes_cat, missing data: N = 47, % = 15.7%\n",
      "capillary_refill_time_cat, missing data: N = 32, % = 10.7%\n",
      "pain_cat, missing data: N = 55, % = 18.3%\n",
      "peristalsis_cat, missing data: N = 44, % = 14.7%\n",
      "abdominal_distension_cat, missing data: N = 56, % = 18.7%\n",
      "nasogastric_tube_cat, missing data: N = 104, % = 34.7%\n",
      "nasogastric_reflux_cat, missing data: N = 106, % = 35.3%\n",
      "feces_cat, missing data: N = 102, % = 34.0%\n",
      "abdomen_cat, missing data: N = 118, % = 39.3%\n",
      "outcome_cat, missing data: N = 1, % = 0.3%\n",
      "was_surgical_cat, missing data: N = 0, % = 0.0%\n",
      "lesion_type_1_cat, missing data: N = 0, % = 0.0%\n",
      "lesion_type_2_cat, missing data: N = 0, % = 0.0%\n",
      "lesion_type_3_cat, missing data: N = 0, % = 0.0%\n",
      "cp_data_cat, missing data: N = 0, % = 0.0%\n"
     ]
    }
   ],
   "source": [
    "for c in categorical_columns:\n",
    "    print(f'{c}, missing data: N = {data[c].isnull().sum()}, % = {data[c].isnull().mean() :.1%}')"
   ]
  },
  {
   "cell_type": "markdown",
   "metadata": {},
   "source": [
    "Заменяем самым часто встречающимся значением:"
   ]
  },
  {
   "cell_type": "code",
   "execution_count": 22,
   "metadata": {},
   "outputs": [],
   "source": [
    "for c in categorical_columns:\n",
    "    data[c] = data[c].fillna(data[c].mode()[0])"
   ]
  },
  {
   "cell_type": "markdown",
   "metadata": {},
   "source": [
    "Общая информация по итоговому датафрейму:"
   ]
  },
  {
   "cell_type": "code",
   "execution_count": 23,
   "metadata": {},
   "outputs": [
    {
     "name": "stdout",
     "output_type": "stream",
     "text": [
      "<class 'pandas.core.frame.DataFrame'>\n",
      "RangeIndex: 300 entries, 0 to 299\n",
      "Data columns (total 25 columns):\n",
      "had_surgery_cat              300 non-null category\n",
      "age_cat                      300 non-null category\n",
      "id_cat                       300 non-null category\n",
      "rectal_temp_num              300 non-null float64\n",
      "pulse_num                    300 non-null float64\n",
      "respiratory_rate_num         300 non-null float64\n",
      "extremities_temp_cat         300 non-null category\n",
      "peripheral_pulse_cat         300 non-null category\n",
      "mucous_membranes_cat         300 non-null category\n",
      "capillary_refill_time_cat    300 non-null category\n",
      "pain_cat                     300 non-null category\n",
      "peristalsis_cat              300 non-null category\n",
      "abdominal_distension_cat     300 non-null category\n",
      "nasogastric_tube_cat         300 non-null category\n",
      "nasogastric_reflux_cat       300 non-null category\n",
      "feces_cat                    300 non-null category\n",
      "abdomen_cat                  300 non-null category\n",
      "pcv_num                      300 non-null float64\n",
      "total_protein_num            300 non-null float64\n",
      "outcome_cat                  300 non-null category\n",
      "was_surgical_cat             300 non-null category\n",
      "lesion_type_1_cat            300 non-null category\n",
      "lesion_type_2_cat            300 non-null category\n",
      "lesion_type_3_cat            300 non-null category\n",
      "cp_data_cat                  300 non-null category\n",
      "dtypes: category(20), float64(5)\n",
      "memory usage: 35.8 KB\n"
     ]
    }
   ],
   "source": [
    "data.info()"
   ]
  },
  {
   "cell_type": "markdown",
   "metadata": {},
   "source": [
    "<div class=\"alert alert-block alert-info\"></div>"
   ]
  }
 ],
 "metadata": {
  "kernelspec": {
   "display_name": "Python 3",
   "language": "python",
   "name": "python3"
  },
  "language_info": {
   "codemirror_mode": {
    "name": "ipython",
    "version": 3
   },
   "file_extension": ".py",
   "mimetype": "text/x-python",
   "name": "python",
   "nbconvert_exporter": "python",
   "pygments_lexer": "ipython3",
   "version": "3.7.1"
  }
 },
 "nbformat": 4,
 "nbformat_minor": 2
}
