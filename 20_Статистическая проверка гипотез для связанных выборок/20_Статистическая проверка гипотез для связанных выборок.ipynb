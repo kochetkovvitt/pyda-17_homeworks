{
 "cells": [
  {
   "cell_type": "markdown",
   "metadata": {},
   "source": [
    "# Домашнее задание «Статистическая проверка гипотез для связанных выборок»"
   ]
  },
  {
   "cell_type": "code",
   "execution_count": 1,
   "metadata": {},
   "outputs": [],
   "source": [
    "import numpy as np\n",
    "import pandas as pd\n",
    "import scipy.stats as stats\n",
    "import matplotlib.pyplot as plt\n",
    "import seaborn as sns"
   ]
  },
  {
   "cell_type": "markdown",
   "metadata": {},
   "source": [
    "<div class=\"alert alert-info\">\n",
    "<b>Задание № 1</b>\n",
    "Вам даны результаты проверки двух препаратов.\n",
    "    \n",
    "Требуется:\n",
    "- Оценить, есть ли различие в эффекте у этих пациентов?\n",
    "- Визуально подтвердить результат\n",
    "    \n",
    "`A` - результаты для группы людей получающих препарат А.\n",
    "\n",
    "`B` - результаты для другой группы людей, получающих препарат B.\n",
    "    \n",
    "</div>"
   ]
  },
  {
   "cell_type": "code",
   "execution_count": 2,
   "metadata": {},
   "outputs": [],
   "source": [
    "np.random.seed(11)\n",
    "A = stats.norm.rvs(scale=30, loc=11, size=100)\n",
    "B = A + stats.norm.rvs(scale=54, loc=11, size=100)"
   ]
  },
  {
   "cell_type": "markdown",
   "metadata": {},
   "source": [
    "Нулевая гипотеза: Нет значимого различия эффективности препаратов А и B.<br>\n",
    "Альтернативная гипотеза: Имеется значимое различие эффективности препаратов А и B.<br>\n",
    "Уровень значимости: 5%"
   ]
  },
  {
   "cell_type": "code",
   "execution_count": 3,
   "metadata": {},
   "outputs": [
    {
     "name": "stdout",
     "output_type": "stream",
     "text": [
      "\n",
      "pvalue = 0.08511123469659897\n",
      "Не получилось отвергнуть нулевую гипотезу\n"
     ]
    },
    {
     "data": {
      "image/png": "[encoded data removed]",
      "text/plain": [
       "<Figure size 432x288 with 1 Axes>"
      ]
     },
     "metadata": {
      "needs_background": "light"
     },
     "output_type": "display_data"
    }
   ],
   "source": [
    "alpha = 0.05\n",
    "pvalue = stats.ttest_ind(A, B, equal_var=False).pvalue\n",
    "print(f'\\npvalue = {pvalue}')\n",
    "if (pvalue < alpha):\n",
    "    print(\"Отвергаем нулевую гипотезу\")\n",
    "else:\n",
    "    print(\"Не получилось отвергнуть нулевую гипотезу\")\n",
    "plt.hist(A, alpha=0.7);\n",
    "plt.hist(B, alpha=0.7);"
   ]
  },
  {
   "cell_type": "markdown",
   "metadata": {},
   "source": [
    "<div class=\"alert alert-info\">\n",
    "<b>Задание № 2</b>\n",
    "Вам даны результаты проверки двух препаратов. \n",
    "    \n",
    "Требуется: \n",
    "- Оценить, есть ли различие в эффекте у этих пациентов?\n",
    "- Визуально подтвердить результат\n",
    "    \n",
    "`А` - группа людей без препарата.\n",
    "\n",
    "`B` - та же группа людей, но получающая препарат\n",
    "</div>"
   ]
  },
  {
   "cell_type": "code",
   "execution_count": 4,
   "metadata": {},
   "outputs": [],
   "source": [
    "np.random.seed(11)\n",
    "A = stats.norm.rvs(scale=30, loc=11, size=100)\n",
    "B = A + stats.norm.rvs(scale=54, loc=11, size=100)"
   ]
  },
  {
   "cell_type": "markdown",
   "metadata": {},
   "source": [
    "Нулевая гипотеза: Нет значимого различия при отсутствии приема и приеме препарата.<br>\n",
    "Альтернативная гипотеза: Имеется значимое различие при приеме и без.<br>\n",
    "Уровень значимости: 5%"
   ]
  },
  {
   "cell_type": "code",
   "execution_count": 5,
   "metadata": {},
   "outputs": [
    {
     "name": "stdout",
     "output_type": "stream",
     "text": [
      "\n",
      "pvalue = 0.03238579156467659\n",
      "Отвергаем нулевую гипотезу\n"
     ]
    },
    {
     "data": {
      "image/png": "[encoded data removed]",
      "text/plain": [
       "<Figure size 432x288 with 1 Axes>"
      ]
     },
     "metadata": {
      "needs_background": "light"
     },
     "output_type": "display_data"
    }
   ],
   "source": [
    "alpha = 0.05\n",
    "pvalue = stats.ttest_rel(A, B).pvalue\n",
    "print(f'\\npvalue = {pvalue}')\n",
    "if (pvalue < alpha):\n",
    "    print(\"Отвергаем нулевую гипотезу\")\n",
    "else:\n",
    "    print(\"Не получилось отвергнуть нулевую гипотезу\")\n",
    "plt.hist(A, alpha=0.7);\n",
    "plt.hist(B, alpha=0.7);"
   ]
  },
  {
   "cell_type": "markdown",
   "metadata": {},
   "source": [
    "<div class=\"alert alert-info\">\n",
    "<b>Задание № 3</b>\n",
    "Допустим вы решили устроить дачный эксперимент. Берем и поливаем одни огурцы водой, другие огурцы водой с удобнением, третью группу огурцов будем поливать минералкой. \n",
    "    \n",
    " - Используя дисперсионный анализ, сделайте выводы о распредлениях результатов. Есть ли эффект от удобрения по сравнению с минералкой? \n",
    " - Помимо результата статистического теста, продемонстрируйте отличия визуально с помощью `boxplot` или `hist`\n",
    "    \n",
    "`water = [1,2,3,4,2,4,2,4,5,2,3,4,2,1,3,4,3,2,5,1]`\n",
    "\n",
    "`nutri = [1,2,4,6,5,6,7,5,4,5,6,7,4,3,5,5,6,5,4,3,5]`\n",
    "\n",
    "`mineral =[2,1,1,3,2,4,2,4,5,4,3,2,3,2,3,1,3,4,5,1,4]`\n",
    "</div>"
   ]
  },
  {
   "cell_type": "code",
   "execution_count": 6,
   "metadata": {},
   "outputs": [],
   "source": [
    "water = [1,2,3,4,2,4,2,4,5,2,3,4,2,1,3,4,3,2,5,1]\n",
    "nutri = [1,2,4,6,5,6,7,5,4,5,6,7,4,3,5,5,6,5,4,3,5]\n",
    "mineral =[2,1,1,3,2,4,2,4,5,4,3,2,3,2,3,1,3,4,5,1,4]"
   ]
  },
  {
   "cell_type": "markdown",
   "metadata": {},
   "source": [
    "Нулевая гипотеза: Нет значимого различия разных видов полива.<br>\n",
    "Альтернативная гипотеза: Есть значимое различие.<br>\n",
    "Уровень значимости: 5%"
   ]
  },
  {
   "cell_type": "code",
   "execution_count": 7,
   "metadata": {},
   "outputs": [
    {
     "name": "stdout",
     "output_type": "stream",
     "text": [
      "\n",
      "pvalue = 2.9240047906326866e-05\n",
      "Отвергаем нулевую гипотезу\n",
      "\n",
      "Гистограмма и Диаграмма размаха:\n"
     ]
    },
    {
     "data": {
      "image/png": "[encoded data removed]",
      "text/plain": [
       "<Figure size 432x288 with 1 Axes>"
      ]
     },
     "metadata": {
      "needs_background": "light"
     },
     "output_type": "display_data"
    },
    {
     "data": {
      "image/png": "[encoded data removed]",
      "text/plain": [
       "<Figure size 432x288 with 1 Axes>"
      ]
     },
     "metadata": {
      "needs_background": "light"
     },
     "output_type": "display_data"
    }
   ],
   "source": [
    "alpha = 0.05\n",
    "pvalue = stats.f_oneway(water, nutri, mineral).pvalue\n",
    "print(f'\\npvalue = {pvalue}')\n",
    "if (pvalue < alpha):\n",
    "    print(\"Отвергаем нулевую гипотезу\")\n",
    "else:\n",
    "    print(\"Не получилось отвергнуть нулевую гипотезу\")\n",
    "print(f'\\nГистограмма и Диаграмма размаха:')\n",
    "plt.hist(water, alpha=0.5);\n",
    "plt.hist(nutri, alpha=0.5);\n",
    "plt.hist(mineral, alpha=0.5);\n",
    "plt.show()\n",
    "sns.boxplot(data=[water, nutri, mineral]);"
   ]
  },
  {
   "cell_type": "markdown",
   "metadata": {},
   "source": [
    "Отдельно посмотрим на эффект удобрения по сравнению с минералкой.<br>\n",
    "Для двух выборок тесты **f_oneway** и **ttest_ind** дадут одинаковый результат:"
   ]
  },
  {
   "cell_type": "code",
   "execution_count": 8,
   "metadata": {},
   "outputs": [
    {
     "name": "stdout",
     "output_type": "stream",
     "text": [
      "pvalue_1 = 0.9198340218471527,\n",
      "pvalue_2 = 0.919834021847144\n"
     ]
    }
   ],
   "source": [
    "pvalue_1 = stats.f_oneway(water, mineral).pvalue\n",
    "pvalue_2 = stats.ttest_ind(water, mineral).pvalue\n",
    "\n",
    "print(f'pvalue_1 = {pvalue_1},\\npvalue_2 = {pvalue_2}')"
   ]
  },
  {
   "cell_type": "code",
   "execution_count": 9,
   "metadata": {},
   "outputs": [
    {
     "data": {
      "image/png": "[encoded data removed]",
      "text/plain": [
       "<Figure size 432x288 with 1 Axes>"
      ]
     },
     "metadata": {
      "needs_background": "light"
     },
     "output_type": "display_data"
    }
   ],
   "source": [
    "plt.hist(water, alpha=0.5);\n",
    "plt.hist(mineral, alpha=0.5);"
   ]
  },
  {
   "cell_type": "markdown",
   "metadata": {},
   "source": [
    "Как видим значимого эффекта от минералки нет.<br>\n",
    "А вот от удобрения есть:"
   ]
  },
  {
   "cell_type": "code",
   "execution_count": 10,
   "metadata": {},
   "outputs": [
    {
     "name": "stdout",
     "output_type": "stream",
     "text": [
      "pvalue = 0.0001840453200503376\n"
     ]
    },
    {
     "data": {
      "image/png": "[encoded data removed]",
      "text/plain": [
       "<Figure size 432x288 with 1 Axes>"
      ]
     },
     "metadata": {
      "needs_background": "light"
     },
     "output_type": "display_data"
    }
   ],
   "source": [
    "print(f'pvalue = {stats.ttest_ind(water, nutri).pvalue}')\n",
    "plt.hist(water, alpha=0.5);\n",
    "plt.hist(nutri, alpha=0.5);"
   ]
  },
  {
   "cell_type": "markdown",
   "metadata": {},
   "source": [
    "<div class=\"alert alert-success\">\n",
    "<h4></h4>\n",
    "</div>"
   ]
  },
  {
   "cell_type": "markdown",
   "metadata": {},
   "source": [
    "# Cookie Cats"
   ]
  },
  {
   "cell_type": "markdown",
   "metadata": {},
   "source": [
    "<div class=\"alert alert-info\">\n",
    "Cookie Cats - чрезвычайно популярная мобильная игра-головоломка, разработанная Tactile Entertainment. Это классическая игра-головоломка в стиле «соедините три», в которой игрок должен соединять плитки одного цвета, чтобы очистить поле и выиграть уровень. Здесь также есть поющие кошки.\n",
    "</div>"
   ]
  },
  {
   "cell_type": "markdown",
   "metadata": {},
   "source": [
    "<div class=\"alert alert-info\">\n",
    "По мере прохождения уровней игры игроки время от времени сталкиваются с воротами, которые заставляют их ждать нетривиальное количество времени или совершать покупки в приложении, чтобы продолжить. Помимо стимулирования покупок в приложении, эти ворота служат важной цели - дать игрокам вынужденный перерыв в игре, что, как мы надеемся, приведет к увеличению и продлению удовольствия от игры.\n",
    "</div>"
   ]
  },
  {
   "cell_type": "markdown",
   "metadata": {},
   "source": [
    "<p style=\"align: center;\"><img align=center src=\"https://i.ytimg.com/vi/iPxZIp0cbJE/maxresdefault.jpg\"  width=500></p>\n",
    " \n",
    " \n",
    "<p style=\"align: center;\"><img align=center src=\"https://s3.amazonaws.com/assets.datacamp.com/production/project_184/img/cc_gates.png\"  width=500></p>"
   ]
  },
  {
   "cell_type": "markdown",
   "metadata": {},
   "source": [
    "<div class=\"alert alert-info\">\n",
    "<b>Но где ставить ворота? </b>\n",
    "Первоначально первые ворота были размещены на уровне 30. В этом проекте вам предлагается проанализировать AB-тест, в котором создатели переместили первые ворота в Cookie Cats с 30 уровня на уровень 40. В частности, вам надо рассмотрим влияние A/B теста на удержание игроков.\n",
    "</div>"
   ]
  },
  {
   "cell_type": "code",
   "execution_count": 11,
   "metadata": {},
   "outputs": [
    {
     "data": {
      "text/html": [
       "<div>\n",
       "<style scoped>\n",
       "    .dataframe tbody tr th:only-of-type {\n",
       "        vertical-align: middle;\n",
       "    }\n",
       "\n",
       "    .dataframe tbody tr th {\n",
       "        vertical-align: top;\n",
       "    }\n",
       "\n",
       "    .dataframe thead th {\n",
       "        text-align: right;\n",
       "    }\n",
       "</style>\n",
       "<table border=\"1\" class=\"dataframe\">\n",
       "  <thead>\n",
       "    <tr style=\"text-align: right;\">\n",
       "      <th></th>\n",
       "      <th>userid</th>\n",
       "      <th>version</th>\n",
       "      <th>sum_gamerounds</th>\n",
       "      <th>retention_1</th>\n",
       "      <th>retention_7</th>\n",
       "    </tr>\n",
       "  </thead>\n",
       "  <tbody>\n",
       "    <tr>\n",
       "      <th>0</th>\n",
       "      <td>116</td>\n",
       "      <td>gate_30</td>\n",
       "      <td>3</td>\n",
       "      <td>False</td>\n",
       "      <td>False</td>\n",
       "    </tr>\n",
       "    <tr>\n",
       "      <th>1</th>\n",
       "      <td>337</td>\n",
       "      <td>gate_30</td>\n",
       "      <td>38</td>\n",
       "      <td>True</td>\n",
       "      <td>False</td>\n",
       "    </tr>\n",
       "    <tr>\n",
       "      <th>2</th>\n",
       "      <td>377</td>\n",
       "      <td>gate_40</td>\n",
       "      <td>165</td>\n",
       "      <td>True</td>\n",
       "      <td>False</td>\n",
       "    </tr>\n",
       "    <tr>\n",
       "      <th>3</th>\n",
       "      <td>483</td>\n",
       "      <td>gate_40</td>\n",
       "      <td>1</td>\n",
       "      <td>False</td>\n",
       "      <td>False</td>\n",
       "    </tr>\n",
       "    <tr>\n",
       "      <th>4</th>\n",
       "      <td>488</td>\n",
       "      <td>gate_40</td>\n",
       "      <td>179</td>\n",
       "      <td>True</td>\n",
       "      <td>True</td>\n",
       "    </tr>\n",
       "  </tbody>\n",
       "</table>\n",
       "</div>"
      ],
      "text/plain": [
       "   userid  version  sum_gamerounds  retention_1  retention_7\n",
       "0     116  gate_30               3        False        False\n",
       "1     337  gate_30              38         True        False\n",
       "2     377  gate_40             165         True        False\n",
       "3     483  gate_40               1        False        False\n",
       "4     488  gate_40             179         True         True"
      ]
     },
     "execution_count": 11,
     "metadata": {},
     "output_type": "execute_result"
    }
   ],
   "source": [
    "# Данные A/B тестирования\n",
    "cookie_cats = 'https://raw.githubusercontent.com/a-milenkin/datasets_for_t-tests/main/cookie_cats.csv'\n",
    "\n",
    "data = pd.read_csv(cookie_cats, error_bad_lines=False)\n",
    "data.head()"
   ]
  },
  {
   "cell_type": "markdown",
   "metadata": {},
   "source": [
    "**Данные получены от 90 189 игроков, которые установили игру во время проведения AB-теста. Переменные:**\n",
    "\n",
    "* `userid` - уникальный номер, идентифицирующий каждого игрока.\n",
    "\n",
    "* `version` - был ли игрок помещен в контрольную группу (gate_30 - ворота на уровне 30) или в тестовую группу (gate_40 - ворота на уровне 40).\n",
    "\n",
    "* `sum_gamerounds` - количество игровых раундов, сыгранных игроком в течение первой недели после установки\n",
    "* `retention_1` - проигрыватель вернулся и поиграл через 1 день после установки?\n",
    "* `retention_7` - проигрыватель вернулся и играл через 7 дней после установки?\n",
    "\n",
    "Когда игрок устанавливал игру, ему случайным образом назначали `gate_30` или `gate_40`."
   ]
  },
  {
   "cell_type": "markdown",
   "metadata": {},
   "source": [
    "<div class=\"alert alert-info\">\n",
    "<b>Задание: провести анализ данных и сделать выводы о лучшем месте для установки ворот. </b>\n",
    "    \n",
    "Замечание: приведенных вспомогательных фрагментов кода не хватает для ответа на вопрос. \n",
    "Делать выводы необходимо опираясь на статистические тесты, разобранные в лекции. Большим плюсом будет построение визуализиции для подтверждения ваших выводом. Рекомендую использовать `seaborn` c его `sns.boxplot`/`sns.carplot`, `sns.barplot`, но можно обойтись и обычном `matplotlib`\n",
    "</div>"
   ]
  },
  {
   "cell_type": "code",
   "execution_count": 12,
   "metadata": {},
   "outputs": [
    {
     "data": {
      "text/html": [
       "<div>\n",
       "<style scoped>\n",
       "    .dataframe tbody tr th:only-of-type {\n",
       "        vertical-align: middle;\n",
       "    }\n",
       "\n",
       "    .dataframe tbody tr th {\n",
       "        vertical-align: top;\n",
       "    }\n",
       "\n",
       "    .dataframe thead th {\n",
       "        text-align: right;\n",
       "    }\n",
       "</style>\n",
       "<table border=\"1\" class=\"dataframe\">\n",
       "  <thead>\n",
       "    <tr style=\"text-align: right;\">\n",
       "      <th></th>\n",
       "      <th>userid</th>\n",
       "      <th>sum_gamerounds</th>\n",
       "      <th>retention_1</th>\n",
       "      <th>retention_7</th>\n",
       "    </tr>\n",
       "    <tr>\n",
       "      <th>version</th>\n",
       "      <th></th>\n",
       "      <th></th>\n",
       "      <th></th>\n",
       "      <th></th>\n",
       "    </tr>\n",
       "  </thead>\n",
       "  <tbody>\n",
       "    <tr>\n",
       "      <th>gate_30</th>\n",
       "      <td>44700</td>\n",
       "      <td>44700</td>\n",
       "      <td>44700</td>\n",
       "      <td>44700</td>\n",
       "    </tr>\n",
       "    <tr>\n",
       "      <th>gate_40</th>\n",
       "      <td>45489</td>\n",
       "      <td>45489</td>\n",
       "      <td>45489</td>\n",
       "      <td>45489</td>\n",
       "    </tr>\n",
       "  </tbody>\n",
       "</table>\n",
       "</div>"
      ],
      "text/plain": [
       "         userid  sum_gamerounds  retention_1  retention_7\n",
       "version                                                  \n",
       "gate_30   44700           44700        44700        44700\n",
       "gate_40   45489           45489        45489        45489"
      ]
     },
     "execution_count": 12,
     "metadata": {},
     "output_type": "execute_result"
    }
   ],
   "source": [
    "#Сгрупируем результаты теста по версиям игры.\n",
    "data.groupby('version').count()"
   ]
  },
  {
   "cell_type": "markdown",
   "metadata": {},
   "source": [
    "Группы примерно равны по размерам"
   ]
  },
  {
   "cell_type": "code",
   "execution_count": 13,
   "metadata": {},
   "outputs": [
    {
     "data": {
      "image/png": "[encoded data removed]",
      "text/plain": [
       "<Figure size 1080x720 with 1 Axes>"
      ]
     },
     "metadata": {
      "needs_background": "light"
     },
     "output_type": "display_data"
    }
   ],
   "source": [
    "v_30 = data.loc[data.version == 'gate_30']\n",
    "v_40 = data.loc[data.version == 'gate_40']\n",
    "v_30 = v_30.drop(v_30.loc[v_30.sum_gamerounds > 200].index)\n",
    "v_40 = v_40.drop(v_40.loc[v_40.sum_gamerounds > 200].index)\n",
    "\n",
    "bins = 200\n",
    "plt.figure(figsize=(15, 10))\n",
    "plt.hist(v_30['sum_gamerounds'], bins=bins, alpha=1, edgecolor='black', label='gate 30')\n",
    "plt.hist(v_40['sum_gamerounds'], bins=bins, alpha=0.7, label='gate 40')\n",
    "plt.legend(loc='upper right', bbox_to_anchor=(0.45, 0.35))\n",
    "plt.show()"
   ]
  },
  {
   "cell_type": "markdown",
   "metadata": {},
   "source": [
    "Заметна разница между группами в диапазоне (25, 50) раундов.<br>\n",
    "Нужно посмотреть подробнее на разницу в показателе **retention** - есть ли значимая разница в удержании игроков."
   ]
  },
  {
   "cell_type": "code",
   "execution_count": 14,
   "metadata": {},
   "outputs": [],
   "source": [
    "# Creating an list with bootstrapped means for each AB-group\n",
    "\n",
    "boot_1d = []\n",
    "for i in range(1000):\n",
    "    boot_mean = data.sample(frac = 1, replace = True).groupby('version')['retention_7'].mean()\n",
    "    boot_1d.append(boot_mean)"
   ]
  },
  {
   "cell_type": "code",
   "execution_count": 15,
   "metadata": {},
   "outputs": [
    {
     "data": {
      "text/plain": [
       "<Figure size 1080x720 with 0 Axes>"
      ]
     },
     "metadata": {},
     "output_type": "display_data"
    },
    {
     "data": {
      "image/png": "[encoded data removed]",
      "text/plain": [
       "<Figure size 432x288 with 1 Axes>"
      ]
     },
     "metadata": {
      "needs_background": "light"
     },
     "output_type": "display_data"
    }
   ],
   "source": [
    "plt.figure(figsize=(15, 10))\n",
    "# Преобразование списка в DataFrame\n",
    "boot_1d = pd.DataFrame(boot_1d)\n",
    "    \n",
    "# A Kernel Density Estimate plot of the bootstrap distributions\n",
    "boot_1d.plot(kind='density');"
   ]
  },
  {
   "cell_type": "code",
   "execution_count": 16,
   "metadata": {},
   "outputs": [
    {
     "name": "stdout",
     "output_type": "stream",
     "text": [
      "gate_30 median retention_7 = 0.19033039411288738\n",
      "gate_40 median retention_7 = 0.181973985329079\n"
     ]
    }
   ],
   "source": [
    "print(f'gate_30 median retention_7 = {boot_1d.gate_30.median()}')\n",
    "print(f'gate_40 median retention_7 = {boot_1d.gate_40.median()}')"
   ]
  },
  {
   "cell_type": "markdown",
   "metadata": {},
   "source": [
    "Применив бутстраповский отбор, видим что распределения средних **retention_7** для гипотетических генеральных совокупностей различны.<br>\n",
    "Также, используя U-тест Манна-Уитни, продемонстрируем наличие эффекта из-за сдвига ворот в отношении количества игровых раундов, сыгранных игроком в течение первой недели после установки.<br>\n",
    "H0 - Одинаковые распределения, H1 - Разные распределения:"
   ]
  },
  {
   "cell_type": "code",
   "execution_count": 17,
   "metadata": {},
   "outputs": [
    {
     "name": "stdout",
     "output_type": "stream",
     "text": [
      "\n",
      "pvalue = 0.026880187162778638\n",
      "Разные распределения (отвергаем H0)\n"
     ]
    }
   ],
   "source": [
    "# https://www.statology.org/mann-whitney-u-test-python/\n",
    "\n",
    "alpha = 0.05\n",
    "pvalue = stats.mannwhitneyu(v_30.sum_gamerounds, v_40.sum_gamerounds)[1]\n",
    "print(f'\\npvalue = {pvalue}')\n",
    "if (pvalue < alpha):\n",
    "    print(\"Разные распределения (отвергаем H0)\")\n",
    "else:\n",
    "    print(\"Одинаковые распределения (не отвергаем H0)\")"
   ]
  },
  {
   "cell_type": "markdown",
   "metadata": {},
   "source": [
    "Можно сделать вывод, что существует статистически значимая разница между двумя группами относительно перемещения первых ворот с уровня 30 на уровень 40.<br>\n",
    "\n",
    "И если например для нашей игры важным показателем для выручки является удержание, то переносить ворота на более поздние уровни не нужно. Похоже, что играя больше игр подряд, не получая перерыв, игроки быстрее теряют интерес.<br>\n",
    "\n",
    "Хоть разница средних значений удержания retention_7 кажется небольшой: 0.190 и 0.182, но для больших масштабов (миллионы игроков) в денежном выражении она уже будет существенна."
   ]
  },
  {
   "cell_type": "markdown",
   "metadata": {},
   "source": [
    "<div class=\"alert alert-success\">\n",
    "<h4></h4>\n",
    "</div>"
   ]
  },
  {
   "cell_type": "markdown",
   "metadata": {},
   "source": [
    "# Покемоны и AB-тестирование \n",
    "(реальный кейс собеседования на позицию Аналитика).\n",
    "\n",
    "\n",
    "# Описание задачи\n",
    "\n",
    "![banner](https://storage.googleapis.com/kaggle-datasets-images/635/1204/126be74882028aac7241553cef0e27a7/dataset-original.jpg)\n",
    "\n",
    "Покемоны - это маленькие существа, которые сражаются друг с другом на соревнованиях. Все покемоны имеют разные характеристики (сила атаки, защиты и т. д.) И относятся к одному или двум так называемым классам (вода, огонь и т. д.).\n",
    "Профессор Оук является изобретателем Pokedex, портативного устройства, которое хранит информацию обо всех существующих покемонах. Как его ведущий специалист по данным, Вы только что получили от него запрос с просьбой осуществить аналитику данных на всех устройствах Pokedex. \n",
    "\n",
    "## Описание набора данных\n",
    "Профессор Оук скопировал все содержимое память одного устройства Pokedex, в результате чего получился набор данных, с которым Вы будете работать в этой задаче. В этом файле каждая строка представляет характеристики одного покемона:\n",
    "\n",
    "* `pid`: Numeric - ID покемона\n",
    "* `HP`: Numeric - Очки здоровья\n",
    "* `Attack`: Numeric - Сила обычной атаки\n",
    "* `Defense`: Numeric - Сила обычной защиты\n",
    "* `Sp. Atk`: Numeric - Сила специальной атаки\n",
    "* `Sp. Def`: Numeric - Сила специальной защиты\n",
    "* `Speed`: Numeric - Скорость движений\n",
    "* `Legendary`: Boolean - «True», если покемон редкий\n",
    "* `Class 1`: Categorical - Класс покемона\n",
    "* `Class 2`: Categorical - Класс покемона"
   ]
  },
  {
   "cell_type": "code",
   "execution_count": 18,
   "metadata": {},
   "outputs": [
    {
     "data": {
      "text/html": [
       "<div>\n",
       "<style scoped>\n",
       "    .dataframe tbody tr th:only-of-type {\n",
       "        vertical-align: middle;\n",
       "    }\n",
       "\n",
       "    .dataframe tbody tr th {\n",
       "        vertical-align: top;\n",
       "    }\n",
       "\n",
       "    .dataframe thead th {\n",
       "        text-align: right;\n",
       "    }\n",
       "</style>\n",
       "<table border=\"1\" class=\"dataframe\">\n",
       "  <thead>\n",
       "    <tr style=\"text-align: right;\">\n",
       "      <th></th>\n",
       "      <th>pid</th>\n",
       "      <th>Name</th>\n",
       "      <th>Class 1</th>\n",
       "      <th>Class 2</th>\n",
       "      <th>HP</th>\n",
       "      <th>Attack</th>\n",
       "      <th>Defense</th>\n",
       "      <th>Sp. Atk</th>\n",
       "      <th>Sp. Def</th>\n",
       "      <th>Speed</th>\n",
       "      <th>Legendary</th>\n",
       "    </tr>\n",
       "  </thead>\n",
       "  <tbody>\n",
       "    <tr>\n",
       "      <th>0</th>\n",
       "      <td>1</td>\n",
       "      <td>Bulbasaur</td>\n",
       "      <td>Grass</td>\n",
       "      <td>Poison</td>\n",
       "      <td>45</td>\n",
       "      <td>49</td>\n",
       "      <td>49</td>\n",
       "      <td>65</td>\n",
       "      <td>65</td>\n",
       "      <td>45</td>\n",
       "      <td>False</td>\n",
       "    </tr>\n",
       "    <tr>\n",
       "      <th>1</th>\n",
       "      <td>2</td>\n",
       "      <td>Ivysaur</td>\n",
       "      <td>Grass</td>\n",
       "      <td>Poison</td>\n",
       "      <td>60</td>\n",
       "      <td>62</td>\n",
       "      <td>63</td>\n",
       "      <td>80</td>\n",
       "      <td>80</td>\n",
       "      <td>60</td>\n",
       "      <td>False</td>\n",
       "    </tr>\n",
       "    <tr>\n",
       "      <th>2</th>\n",
       "      <td>3</td>\n",
       "      <td>Venusaur</td>\n",
       "      <td>Grass</td>\n",
       "      <td>Poison</td>\n",
       "      <td>80</td>\n",
       "      <td>82</td>\n",
       "      <td>83</td>\n",
       "      <td>100</td>\n",
       "      <td>100</td>\n",
       "      <td>80</td>\n",
       "      <td>False</td>\n",
       "    </tr>\n",
       "    <tr>\n",
       "      <th>3</th>\n",
       "      <td>4</td>\n",
       "      <td>Mega Venusaur</td>\n",
       "      <td>Grass</td>\n",
       "      <td>Poison</td>\n",
       "      <td>80</td>\n",
       "      <td>100</td>\n",
       "      <td>123</td>\n",
       "      <td>122</td>\n",
       "      <td>120</td>\n",
       "      <td>80</td>\n",
       "      <td>False</td>\n",
       "    </tr>\n",
       "    <tr>\n",
       "      <th>4</th>\n",
       "      <td>5</td>\n",
       "      <td>Charmander</td>\n",
       "      <td>Fire</td>\n",
       "      <td>NaN</td>\n",
       "      <td>39</td>\n",
       "      <td>52</td>\n",
       "      <td>43</td>\n",
       "      <td>60</td>\n",
       "      <td>50</td>\n",
       "      <td>65</td>\n",
       "      <td>False</td>\n",
       "    </tr>\n",
       "  </tbody>\n",
       "</table>\n",
       "</div>"
      ],
      "text/plain": [
       "   pid           Name Class 1 Class 2  HP  Attack  Defense  Sp. Atk  Sp. Def  \\\n",
       "0    1      Bulbasaur   Grass  Poison  45      49       49       65       65   \n",
       "1    2        Ivysaur   Grass  Poison  60      62       63       80       80   \n",
       "2    3       Venusaur   Grass  Poison  80      82       83      100      100   \n",
       "3    4  Mega Venusaur   Grass  Poison  80     100      123      122      120   \n",
       "4    5     Charmander    Fire     NaN  39      52       43       60       50   \n",
       "\n",
       "   Speed  Legendary  \n",
       "0     45      False  \n",
       "1     60      False  \n",
       "2     80      False  \n",
       "3     80      False  \n",
       "4     65      False  "
      ]
     },
     "execution_count": 18,
     "metadata": {},
     "output_type": "execute_result"
    }
   ],
   "source": [
    "pokemon_path = 'https://raw.githubusercontent.com/a-milenkin/datasets_for_t-tests/main/pokemon.csv'\n",
    "pokemon = pd.read_csv(pokemon_path, error_bad_lines=False)  # Откроем датасет\n",
    "pokemon.head()\n",
    "\n",
    " \n",
    "#Обратите внимание, что у покемона может быть один или два класса. Если у покемона два класса, считается,\n",
    "#что они имеют одинаковую значимость."
   ]
  },
  {
   "cell_type": "markdown",
   "metadata": {},
   "source": [
    "<div class=\"alert alert-info\">\n",
    "<b>Задание № 1:</b>\n",
    "    \n",
    "Профессор Оук подозревает, что покемоны в классе `grass` имеют более сильную обычную атаку, чем у покемонов в классе `rock`. Проверьте, прав ли он, и убедите его в своем выводе статистически.\n",
    "    \n",
    "    \n",
    "Примечание: если есть покемоны, которые относятся к обоим классам, просто выбросьте их;\n",
    "    \n",
    "Вы можете предположить, что распределение обычных атак является нормальным для всех классов покемонов.\n",
    "\n",
    "</div>\n"
   ]
  },
  {
   "cell_type": "code",
   "execution_count": 19,
   "metadata": {},
   "outputs": [],
   "source": [
    "pokemon.columns = ['pid', 'name', 'class_1', 'class_2', 'hp', 'attack', 'defense',\n",
    "       'sp_attack', 'sp_defense', 'speed', 'legendary']"
   ]
  },
  {
   "cell_type": "code",
   "execution_count": 20,
   "metadata": {},
   "outputs": [
    {
     "data": {
      "text/html": [
       "<div>\n",
       "<style scoped>\n",
       "    .dataframe tbody tr th:only-of-type {\n",
       "        vertical-align: middle;\n",
       "    }\n",
       "\n",
       "    .dataframe tbody tr th {\n",
       "        vertical-align: top;\n",
       "    }\n",
       "\n",
       "    .dataframe thead th {\n",
       "        text-align: right;\n",
       "    }\n",
       "</style>\n",
       "<table border=\"1\" class=\"dataframe\">\n",
       "  <thead>\n",
       "    <tr style=\"text-align: right;\">\n",
       "      <th></th>\n",
       "      <th>pid</th>\n",
       "      <th>name</th>\n",
       "      <th>class_1</th>\n",
       "      <th>class_2</th>\n",
       "      <th>hp</th>\n",
       "      <th>attack</th>\n",
       "      <th>defense</th>\n",
       "      <th>sp_attack</th>\n",
       "      <th>sp_defense</th>\n",
       "      <th>speed</th>\n",
       "      <th>legendary</th>\n",
       "    </tr>\n",
       "  </thead>\n",
       "  <tbody>\n",
       "    <tr>\n",
       "      <th>377</th>\n",
       "      <td>378</td>\n",
       "      <td>Lileep</td>\n",
       "      <td>Rock</td>\n",
       "      <td>Grass</td>\n",
       "      <td>66</td>\n",
       "      <td>41</td>\n",
       "      <td>77</td>\n",
       "      <td>61</td>\n",
       "      <td>87</td>\n",
       "      <td>23</td>\n",
       "      <td>False</td>\n",
       "    </tr>\n",
       "    <tr>\n",
       "      <th>378</th>\n",
       "      <td>379</td>\n",
       "      <td>Cradily</td>\n",
       "      <td>Rock</td>\n",
       "      <td>Grass</td>\n",
       "      <td>86</td>\n",
       "      <td>81</td>\n",
       "      <td>97</td>\n",
       "      <td>81</td>\n",
       "      <td>107</td>\n",
       "      <td>43</td>\n",
       "      <td>False</td>\n",
       "    </tr>\n",
       "  </tbody>\n",
       "</table>\n",
       "</div>"
      ],
      "text/plain": [
       "     pid     name class_1 class_2  hp  attack  defense  sp_attack  sp_defense  \\\n",
       "377  378   Lileep    Rock   Grass  66      41       77         61          87   \n",
       "378  379  Cradily    Rock   Grass  86      81       97         81         107   \n",
       "\n",
       "     speed  legendary  \n",
       "377     23      False  \n",
       "378     43      False  "
      ]
     },
     "execution_count": 20,
     "metadata": {},
     "output_type": "execute_result"
    }
   ],
   "source": [
    "t1 = pokemon.query(\"(class_1 == 'Grass' and class_2 == 'Rock') or (class_2 == 'Grass' and class_1 == 'Rock')\")\n",
    "t1"
   ]
  },
  {
   "cell_type": "code",
   "execution_count": 21,
   "metadata": {},
   "outputs": [],
   "source": [
    "pokemon_t1 = pokemon.drop(t1.index)"
   ]
  },
  {
   "cell_type": "code",
   "execution_count": 22,
   "metadata": {},
   "outputs": [],
   "source": [
    "A = pokemon_t1.query(\"class_1 == 'Grass' or class_2 == 'Grass'\")\n",
    "B = pokemon_t1.query(\"class_1 == 'Rock' or class_2 == 'Rock'\")"
   ]
  },
  {
   "cell_type": "markdown",
   "metadata": {},
   "source": [
    "H0 - обычная атака у покемонов класса **Grass** такая же как у класса **Rock** или меньше<br>\n",
    "H1 - обычная атака у покемонов класса **Grass** больше, чем у класса **Rock**<br>"
   ]
  },
  {
   "cell_type": "code",
   "execution_count": 23,
   "metadata": {},
   "outputs": [
    {
     "name": "stdout",
     "output_type": "stream",
     "text": [
      "\n",
      "pvalue = 0.9995179726543227\n",
      "Не получилось отвергнуть нулевую гипотезу\n"
     ]
    },
    {
     "data": {
      "image/png": "[encoded data removed]",
      "text/plain": [
       "<Figure size 432x288 with 1 Axes>"
      ]
     },
     "metadata": {
      "needs_background": "light"
     },
     "output_type": "display_data"
    }
   ],
   "source": [
    "alpha = 0.05\n",
    "pvalue = stats.ttest_ind(A.attack, B.attack, equal_var=False, alternative='greater').pvalue\n",
    "print(f'\\npvalue = {pvalue}')\n",
    "if (pvalue < alpha):\n",
    "    print(\"Отвергаем нулевую гипотезу\")\n",
    "else:\n",
    "    print(\"Не получилось отвергнуть нулевую гипотезу\")\n",
    "plt.hist(A.attack, alpha=0.7, label='Grass attack');\n",
    "plt.hist(B.attack, alpha=0.7, label='Rock attack');\n",
    "plt.legend(loc='upper right');"
   ]
  },
  {
   "cell_type": "markdown",
   "metadata": {},
   "source": [
    "<div class=\"alert alert-info\">\n",
    "<b>Задание № 2:</b>\n",
    "    \n",
    "Профессор Оук уже долго не может спать по ночам ведь его волнует вопрос, а правда, что покемоны что покемоны в классе `Water` в среднем более быстрые, чем покемоны в классе `Normal`. \n",
    "    \n",
    "    \n",
    "Проверьте, прав ли он, и убедите его в своем выводе статистически.\n",
    "    \n",
    "Примечание: если есть покемоны относятся к обоим классам, выбросьте их;\n",
    "    \n",
    "Вы можете предположить, что распределение скорости движения является нормальным для всех классов покемонов.\n",
    "\n",
    "</div>"
   ]
  },
  {
   "cell_type": "code",
   "execution_count": 24,
   "metadata": {},
   "outputs": [
    {
     "data": {
      "text/html": [
       "<div>\n",
       "<style scoped>\n",
       "    .dataframe tbody tr th:only-of-type {\n",
       "        vertical-align: middle;\n",
       "    }\n",
       "\n",
       "    .dataframe tbody tr th {\n",
       "        vertical-align: top;\n",
       "    }\n",
       "\n",
       "    .dataframe thead th {\n",
       "        text-align: right;\n",
       "    }\n",
       "</style>\n",
       "<table border=\"1\" class=\"dataframe\">\n",
       "  <thead>\n",
       "    <tr style=\"text-align: right;\">\n",
       "      <th></th>\n",
       "      <th>pid</th>\n",
       "      <th>name</th>\n",
       "      <th>class_1</th>\n",
       "      <th>class_2</th>\n",
       "      <th>hp</th>\n",
       "      <th>attack</th>\n",
       "      <th>defense</th>\n",
       "      <th>sp_attack</th>\n",
       "      <th>sp_defense</th>\n",
       "      <th>speed</th>\n",
       "      <th>legendary</th>\n",
       "    </tr>\n",
       "  </thead>\n",
       "  <tbody>\n",
       "    <tr>\n",
       "      <th>445</th>\n",
       "      <td>446</td>\n",
       "      <td>Bibarel</td>\n",
       "      <td>Normal</td>\n",
       "      <td>Water</td>\n",
       "      <td>79</td>\n",
       "      <td>85</td>\n",
       "      <td>60</td>\n",
       "      <td>55</td>\n",
       "      <td>60</td>\n",
       "      <td>71</td>\n",
       "      <td>False</td>\n",
       "    </tr>\n",
       "  </tbody>\n",
       "</table>\n",
       "</div>"
      ],
      "text/plain": [
       "     pid     name class_1 class_2  hp  attack  defense  sp_attack  sp_defense  \\\n",
       "445  446  Bibarel  Normal   Water  79      85       60         55          60   \n",
       "\n",
       "     speed  legendary  \n",
       "445     71      False  "
      ]
     },
     "execution_count": 24,
     "metadata": {},
     "output_type": "execute_result"
    }
   ],
   "source": [
    "t2 = pokemon.query(\"(class_1 == 'Water' and class_2 == 'Normal') or (class_2 == 'Water' and class_1 == 'Normal')\")\n",
    "t2"
   ]
  },
  {
   "cell_type": "code",
   "execution_count": 25,
   "metadata": {},
   "outputs": [],
   "source": [
    "pokemon_t2 = pokemon.drop(t2.index)"
   ]
  },
  {
   "cell_type": "code",
   "execution_count": 26,
   "metadata": {},
   "outputs": [],
   "source": [
    "A = pokemon_t2.query(\"class_1 == 'Water' or class_2 == 'Water'\")\n",
    "B = pokemon_t2.query(\"class_1 == 'Normal' or class_2 == 'Normal'\")"
   ]
  },
  {
   "cell_type": "markdown",
   "metadata": {},
   "source": [
    "H0 - скорость у покемонов класса Water такая же как у класса Normal или меньше <br>\n",
    "H1 - скорость у покемонов класса Water больше, чем у класса Normal"
   ]
  },
  {
   "cell_type": "code",
   "execution_count": 28,
   "metadata": {},
   "outputs": [
    {
     "name": "stdout",
     "output_type": "stream",
     "text": [
      "\n",
      "pvalue = 0.9815261383086286\n",
      "Не получилось отвергнуть нулевую гипотезу\n"
     ]
    },
    {
     "data": {
      "image/png": "[encoded data removed]",
      "text/plain": [
       "<Figure size 432x288 with 1 Axes>"
      ]
     },
     "metadata": {
      "needs_background": "light"
     },
     "output_type": "display_data"
    }
   ],
   "source": [
    "alpha = 0.05\n",
    "pvalue = stats.ttest_ind(A.speed, B.speed, equal_var=False, alternative='greater').pvalue\n",
    "print(f'\\npvalue = {pvalue}')\n",
    "if (pvalue < alpha):\n",
    "    print(\"Отвергаем нулевую гипотезу\")\n",
    "else:\n",
    "    print(\"Не получилось отвергнуть нулевую гипотезу\")\n",
    "plt.hist(A.speed, alpha=0.7, label='Water speed');\n",
    "plt.hist(B.speed, alpha=0.7, label='Normal speed');\n",
    "plt.legend(loc='upper right');"
   ]
  },
  {
   "cell_type": "markdown",
   "metadata": {},
   "source": [
    "<div class=\"alert alert-info\">\n",
    "<b>Задание № 3:</b>\n",
    "    \n",
    "Профессор Оук тот еще безумец. Он изобрел сыворотку, способную ускорить покемона. Однако, мы усомнились в эффективности его вакцины. Професоор дал эту сыворотку следующим покемонам: смотри массив `treathed_pokemon`. Проверьте, работает ли вообще его сыворотка, убедите всех в своем выводе статистически.\n",
    "    \n",
    "    \n",
    "Вы можете предположить, что распределение скорости движения является нормальным для всех классов покемонов.\n",
    "\n",
    "</div>"
   ]
  },
  {
   "cell_type": "code",
   "execution_count": 29,
   "metadata": {},
   "outputs": [],
   "source": [
    "# аналогичная задача №4"
   ]
  },
  {
   "cell_type": "markdown",
   "metadata": {},
   "source": [
    "<div class=\"alert alert-info\">\n",
    "<b>Задание № 4:</b>\n",
    "    \n",
    "Профессор Оук тот еще безумец. Он изобрел сыворотку, способную ускорить покемона. Однако, мы усомнились в эффективности его вакцины. Професоор дал эту сыворотку следующим покемонам: смотри массив `treathed_pokemon`. Проверьте, работает ли вообще его сыворотка, убедите всех в своем выводе статистически.\n",
    "    \n",
    "    \n",
    "Вы можете предположить, что распределение скорости движения является нормальным для всех классов покемонов.\n",
    "\n",
    "</div>"
   ]
  },
  {
   "cell_type": "code",
   "execution_count": 30,
   "metadata": {},
   "outputs": [],
   "source": [
    "# Покемоны, которые принимали сыворотку увеличения скорости\n",
    "treathed_pokemon = ['Mega Beedrill','Mega Alakazam', 'Deoxys Normal Forme', 'Mega Lopunny']"
   ]
  },
  {
   "cell_type": "code",
   "execution_count": 31,
   "metadata": {},
   "outputs": [
    {
     "data": {
      "text/html": [
       "<div>\n",
       "<style scoped>\n",
       "    .dataframe tbody tr th:only-of-type {\n",
       "        vertical-align: middle;\n",
       "    }\n",
       "\n",
       "    .dataframe tbody tr th {\n",
       "        vertical-align: top;\n",
       "    }\n",
       "\n",
       "    .dataframe thead th {\n",
       "        text-align: right;\n",
       "    }\n",
       "</style>\n",
       "<table border=\"1\" class=\"dataframe\">\n",
       "  <thead>\n",
       "    <tr style=\"text-align: right;\">\n",
       "      <th></th>\n",
       "      <th>pid</th>\n",
       "      <th>name</th>\n",
       "      <th>class_1</th>\n",
       "      <th>class_2</th>\n",
       "      <th>hp</th>\n",
       "      <th>attack</th>\n",
       "      <th>defense</th>\n",
       "      <th>sp_attack</th>\n",
       "      <th>sp_defense</th>\n",
       "      <th>speed</th>\n",
       "      <th>legendary</th>\n",
       "    </tr>\n",
       "  </thead>\n",
       "  <tbody>\n",
       "    <tr>\n",
       "      <th>19</th>\n",
       "      <td>20</td>\n",
       "      <td>Mega Beedrill</td>\n",
       "      <td>Bug</td>\n",
       "      <td>Poison</td>\n",
       "      <td>65</td>\n",
       "      <td>150</td>\n",
       "      <td>40</td>\n",
       "      <td>15</td>\n",
       "      <td>80</td>\n",
       "      <td>145</td>\n",
       "      <td>False</td>\n",
       "    </tr>\n",
       "    <tr>\n",
       "      <th>71</th>\n",
       "      <td>72</td>\n",
       "      <td>Mega Alakazam</td>\n",
       "      <td>Psychic</td>\n",
       "      <td>NaN</td>\n",
       "      <td>55</td>\n",
       "      <td>50</td>\n",
       "      <td>65</td>\n",
       "      <td>175</td>\n",
       "      <td>95</td>\n",
       "      <td>150</td>\n",
       "      <td>False</td>\n",
       "    </tr>\n",
       "    <tr>\n",
       "      <th>428</th>\n",
       "      <td>429</td>\n",
       "      <td>Deoxys Normal Forme</td>\n",
       "      <td>Psychic</td>\n",
       "      <td>NaN</td>\n",
       "      <td>50</td>\n",
       "      <td>150</td>\n",
       "      <td>50</td>\n",
       "      <td>150</td>\n",
       "      <td>50</td>\n",
       "      <td>150</td>\n",
       "      <td>True</td>\n",
       "    </tr>\n",
       "    <tr>\n",
       "      <th>476</th>\n",
       "      <td>477</td>\n",
       "      <td>Mega Lopunny</td>\n",
       "      <td>Normal</td>\n",
       "      <td>Fighting</td>\n",
       "      <td>65</td>\n",
       "      <td>136</td>\n",
       "      <td>94</td>\n",
       "      <td>54</td>\n",
       "      <td>96</td>\n",
       "      <td>135</td>\n",
       "      <td>False</td>\n",
       "    </tr>\n",
       "  </tbody>\n",
       "</table>\n",
       "</div>"
      ],
      "text/plain": [
       "     pid                 name  class_1   class_2  hp  attack  defense  \\\n",
       "19    20        Mega Beedrill      Bug    Poison  65     150       40   \n",
       "71    72        Mega Alakazam  Psychic       NaN  55      50       65   \n",
       "428  429  Deoxys Normal Forme  Psychic       NaN  50     150       50   \n",
       "476  477         Mega Lopunny   Normal  Fighting  65     136       94   \n",
       "\n",
       "     sp_attack  sp_defense  speed  legendary  \n",
       "19          15          80    145      False  \n",
       "71         175          95    150      False  \n",
       "428        150          50    150       True  \n",
       "476         54          96    135      False  "
      ]
     },
     "execution_count": 31,
     "metadata": {},
     "output_type": "execute_result"
    }
   ],
   "source": [
    "A = pokemon.query(\"name == @treathed_pokemon\")\n",
    "A"
   ]
  },
  {
   "cell_type": "code",
   "execution_count": 32,
   "metadata": {},
   "outputs": [],
   "source": [
    "B = pokemon.drop(A.index)"
   ]
  },
  {
   "cell_type": "markdown",
   "metadata": {},
   "source": [
    "H0 - скорость у покемонов, которые принимали сыворотку такая же как у остальных или меньше <br>\n",
    "H1 - скорость у покемонов, которые принимали сыворотку больше, чем у остальных"
   ]
  },
  {
   "cell_type": "code",
   "execution_count": 34,
   "metadata": {},
   "outputs": [
    {
     "name": "stdout",
     "output_type": "stream",
     "text": [
      "\n",
      "pvalue = 4.053762771821796e-05\n",
      "Отвергаем нулевую гипотезу\n"
     ]
    },
    {
     "data": {
      "image/png": "[encoded data removed]",
      "text/plain": [
       "<Figure size 432x288 with 1 Axes>"
      ]
     },
     "metadata": {
      "needs_background": "light"
     },
     "output_type": "display_data"
    }
   ],
   "source": [
    "alpha = 0.05\n",
    "pvalue = stats.ttest_ind(A.speed, B.speed, equal_var=False, alternative='greater').pvalue\n",
    "print(f'\\npvalue = {pvalue}')\n",
    "if (pvalue < alpha):\n",
    "    print(\"Отвергаем нулевую гипотезу\")\n",
    "else:\n",
    "    print(\"Не получилось отвергнуть нулевую гипотезу\")\n",
    "plt.hist(A.speed, alpha=0.7, label='treathed', density=True);\n",
    "plt.hist(B.speed, alpha=0.7, label='not treathed', density=True);\n",
    "plt.legend(loc='upper left');"
   ]
  },
  {
   "cell_type": "markdown",
   "metadata": {},
   "source": [
    "<div class=\"alert alert-info\">\n",
    "<b>Задание № 5:</b>\n",
    "    \n",
    "Профессор Оук всегда любил истории про легендарных покемонов. Однако, профессор не очень уверен, что они самые лучшие относительно остальных покемонов. Оук предложил разобраться в этом нам. Проверьте, действительно ли сумма характеристик `HP`,`Attack`,`Defense` у легендарных покемонов выше, чем у других покемонов? А произведение этих же параметров?? Найдите ответы на эти вопросы и убедите всех в своем выводе статистически.\n",
    "   \n",
    "\n",
    "Вы можете предположить, что распределение сум и произведений этих параметров является нормальным для всех классов покемонов.\n",
    "\n",
    "</div>"
   ]
  },
  {
   "cell_type": "code",
   "execution_count": 35,
   "metadata": {},
   "outputs": [],
   "source": [
    "def get_hp_attack_defense_sum(row):\n",
    "    return row.hp + row.attack + row.defense\n",
    "\n",
    "def get_hp_attack_defense_product(row):\n",
    "    return row.hp * row.attack * row.defense"
   ]
  },
  {
   "cell_type": "code",
   "execution_count": 36,
   "metadata": {},
   "outputs": [],
   "source": [
    "pokemon['p_sum'] = pokemon.apply(get_hp_attack_defense_sum, axis=1)\n",
    "pokemon['p_product'] = pokemon.apply(get_hp_attack_defense_product, axis=1)"
   ]
  },
  {
   "cell_type": "code",
   "execution_count": 37,
   "metadata": {},
   "outputs": [
    {
     "data": {
      "text/html": [
       "<div>\n",
       "<style scoped>\n",
       "    .dataframe tbody tr th:only-of-type {\n",
       "        vertical-align: middle;\n",
       "    }\n",
       "\n",
       "    .dataframe tbody tr th {\n",
       "        vertical-align: top;\n",
       "    }\n",
       "\n",
       "    .dataframe thead th {\n",
       "        text-align: right;\n",
       "    }\n",
       "</style>\n",
       "<table border=\"1\" class=\"dataframe\">\n",
       "  <thead>\n",
       "    <tr style=\"text-align: right;\">\n",
       "      <th></th>\n",
       "      <th>pid</th>\n",
       "      <th>name</th>\n",
       "      <th>class_1</th>\n",
       "      <th>class_2</th>\n",
       "      <th>hp</th>\n",
       "      <th>attack</th>\n",
       "      <th>defense</th>\n",
       "      <th>sp_attack</th>\n",
       "      <th>sp_defense</th>\n",
       "      <th>speed</th>\n",
       "      <th>legendary</th>\n",
       "      <th>p_sum</th>\n",
       "      <th>p_product</th>\n",
       "    </tr>\n",
       "  </thead>\n",
       "  <tbody>\n",
       "    <tr>\n",
       "      <th>0</th>\n",
       "      <td>1</td>\n",
       "      <td>Bulbasaur</td>\n",
       "      <td>Grass</td>\n",
       "      <td>Poison</td>\n",
       "      <td>45</td>\n",
       "      <td>49</td>\n",
       "      <td>49</td>\n",
       "      <td>65</td>\n",
       "      <td>65</td>\n",
       "      <td>45</td>\n",
       "      <td>False</td>\n",
       "      <td>143</td>\n",
       "      <td>108045</td>\n",
       "    </tr>\n",
       "    <tr>\n",
       "      <th>1</th>\n",
       "      <td>2</td>\n",
       "      <td>Ivysaur</td>\n",
       "      <td>Grass</td>\n",
       "      <td>Poison</td>\n",
       "      <td>60</td>\n",
       "      <td>62</td>\n",
       "      <td>63</td>\n",
       "      <td>80</td>\n",
       "      <td>80</td>\n",
       "      <td>60</td>\n",
       "      <td>False</td>\n",
       "      <td>185</td>\n",
       "      <td>234360</td>\n",
       "    </tr>\n",
       "    <tr>\n",
       "      <th>2</th>\n",
       "      <td>3</td>\n",
       "      <td>Venusaur</td>\n",
       "      <td>Grass</td>\n",
       "      <td>Poison</td>\n",
       "      <td>80</td>\n",
       "      <td>82</td>\n",
       "      <td>83</td>\n",
       "      <td>100</td>\n",
       "      <td>100</td>\n",
       "      <td>80</td>\n",
       "      <td>False</td>\n",
       "      <td>245</td>\n",
       "      <td>544480</td>\n",
       "    </tr>\n",
       "  </tbody>\n",
       "</table>\n",
       "</div>"
      ],
      "text/plain": [
       "   pid       name class_1 class_2  hp  attack  defense  sp_attack  sp_defense  \\\n",
       "0    1  Bulbasaur   Grass  Poison  45      49       49         65          65   \n",
       "1    2    Ivysaur   Grass  Poison  60      62       63         80          80   \n",
       "2    3   Venusaur   Grass  Poison  80      82       83        100         100   \n",
       "\n",
       "   speed  legendary  p_sum  p_product  \n",
       "0     45      False    143     108045  \n",
       "1     60      False    185     234360  \n",
       "2     80      False    245     544480  "
      ]
     },
     "execution_count": 37,
     "metadata": {},
     "output_type": "execute_result"
    }
   ],
   "source": [
    "pokemon.head(3)"
   ]
  },
  {
   "cell_type": "code",
   "execution_count": 38,
   "metadata": {},
   "outputs": [],
   "source": [
    "A = pokemon.loc[pokemon.legendary]\n",
    "B = pokemon.drop(A.index)"
   ]
  },
  {
   "cell_type": "markdown",
   "metadata": {},
   "source": [
    "H0 - сумма характеристик HP, Attack, Defense у легендарных покемонов такая же как у остальных или меньше <br>\n",
    "H1 - сумма характеристик HP, Attack, Defense у легендарных покемонов больше, чем у остальных"
   ]
  },
  {
   "cell_type": "code",
   "execution_count": 40,
   "metadata": {},
   "outputs": [
    {
     "name": "stdout",
     "output_type": "stream",
     "text": [
      "\n",
      "pvalue = 1.4641359351664928e-26\n",
      "Отвергаем нулевую гипотезу\n"
     ]
    },
    {
     "data": {
      "image/png": "[encoded data removed]",
      "text/plain": [
       "<Figure size 432x288 with 1 Axes>"
      ]
     },
     "metadata": {
      "needs_background": "light"
     },
     "output_type": "display_data"
    }
   ],
   "source": [
    "alpha = 0.05\n",
    "pvalue = stats.ttest_ind(A.p_sum, B.p_sum, equal_var=False, alternative='greater').pvalue\n",
    "print(f'\\npvalue = {pvalue}')\n",
    "if (pvalue < alpha):\n",
    "    print(\"Отвергаем нулевую гипотезу\")\n",
    "else:\n",
    "    print(\"Не получилось отвергнуть нулевую гипотезу\")\n",
    "plt.hist(A.p_sum, alpha=0.7, label='legendary', density=True);\n",
    "plt.hist(B.p_sum, alpha=0.7, label='not legendary', density=True);\n",
    "plt.legend(loc='upper left');"
   ]
  },
  {
   "cell_type": "markdown",
   "metadata": {},
   "source": [
    "H0 - произведение характеристик HP, Attack, Defense у легендарных покемонов такая же как у остальных или меньше <br>\n",
    "H1 - произведение характеристик HP, Attack, Defense у легендарных покемонов больше, чем у остальных"
   ]
  },
  {
   "cell_type": "code",
   "execution_count": 41,
   "metadata": {},
   "outputs": [
    {
     "name": "stdout",
     "output_type": "stream",
     "text": [
      "\n",
      "pvalue = 1.447519440453694e-15\n",
      "Отвергаем нулевую гипотезу\n"
     ]
    },
    {
     "data": {
      "image/png": "[encoded data removed]",
      "text/plain": [
       "<Figure size 432x288 with 1 Axes>"
      ]
     },
     "metadata": {
      "needs_background": "light"
     },
     "output_type": "display_data"
    }
   ],
   "source": [
    "alpha = 0.05\n",
    "pvalue = stats.ttest_ind(A.p_product, B.p_product, equal_var=False, alternative='greater').pvalue\n",
    "print(f'\\npvalue = {pvalue}')\n",
    "if (pvalue < alpha):\n",
    "    print(\"Отвергаем нулевую гипотезу\")\n",
    "else:\n",
    "    print(\"Не получилось отвергнуть нулевую гипотезу\")\n",
    "plt.hist(A.p_product/10**5, alpha=0.7, label='legendary', density=True);\n",
    "plt.hist(B.p_product/10**5, alpha=0.7, label='not legendary', density=True);\n",
    "plt.legend(loc='upper right');"
   ]
  },
  {
   "cell_type": "markdown",
   "metadata": {},
   "source": [
    "<div class=\"alert alert-info\">\n",
    "<b>Задание № 6:</b>\n",
    "    \n",
    "Профессор Оук частенько наблюдает за боями покемонов. После очередных таких боев Оук выделил три класса `best_defence_class`, которые на его взгляд одинаковы по \"силе обычной защиты\" `Defense`. Проверьте, действительно ли эти классы покемонов не отличаются по уровню защиты статистически значимо? Все та же статистика вам в помощь! \n",
    "   \n",
    "\n",
    "Вы можете предположить, что распределение сум и произведений этих параметров является нормальным для всех классов покемонов.\n",
    "\n",
    "</div>"
   ]
  },
  {
   "cell_type": "code",
   "execution_count": 42,
   "metadata": {},
   "outputs": [],
   "source": [
    "# описание задания нужно поправить: \n",
    "# 1) четыре класса, а не три \n",
    "# 2) последний абзац остался с предыдущего задания"
   ]
  },
  {
   "cell_type": "code",
   "execution_count": 43,
   "metadata": {},
   "outputs": [],
   "source": [
    "best_defence_class = ['Rock','Ground','Steel','Ice']"
   ]
  },
  {
   "cell_type": "code",
   "execution_count": 44,
   "metadata": {},
   "outputs": [],
   "source": [
    "rock_pokemons = pokemon.query(\"class_1 == 'Rock' or class_2 == 'Rock'\")\n",
    "ground_pokemons = pokemon.query(\"class_1 == 'Ground' or class_2 == 'Ground'\")\n",
    "steel_pokemons = pokemon.query(\"class_1 == 'Steel' or class_2 == 'Steel'\")\n",
    "ice_pokemons = pokemon.query(\"class_1 == 'Ice' or class_2 == 'Ice'\")"
   ]
  },
  {
   "cell_type": "markdown",
   "metadata": {},
   "source": [
    "H0: Нет значимого различия по уровню защиты у выбранных классов покемонов<br>\n",
    "H1: Есть значимое различие<br>\n",
    "Уровень значимости: 5%"
   ]
  },
  {
   "cell_type": "code",
   "execution_count": 45,
   "metadata": {},
   "outputs": [
    {
     "name": "stdout",
     "output_type": "stream",
     "text": [
      "\n",
      "pvalue = 1.231528168152447e-06\n",
      "Отвергаем нулевую гипотезу\n",
      "\n",
      "Гистограмма и Диаграмма размаха:\n"
     ]
    },
    {
     "data": {
      "image/png": "[encoded data removed]",
      "text/plain": [
       "<Figure size 432x288 with 1 Axes>"
      ]
     },
     "metadata": {
      "needs_background": "light"
     },
     "output_type": "display_data"
    },
    {
     "data": {
      "image/png": "[encoded data removed]",
      "text/plain": [
       "<Figure size 432x288 with 1 Axes>"
      ]
     },
     "metadata": {
      "needs_background": "light"
     },
     "output_type": "display_data"
    }
   ],
   "source": [
    "alpha = 0.05\n",
    "pvalue = stats.f_oneway(rock_pokemons.defense, ground_pokemons.defense, \n",
    "                        steel_pokemons.defense, ice_pokemons.defense).pvalue\n",
    "print(f'\\npvalue = {pvalue}')\n",
    "if (pvalue < alpha):\n",
    "    print(\"Отвергаем нулевую гипотезу\")\n",
    "else:\n",
    "    print(\"Не получилось отвергнуть нулевую гипотезу\")\n",
    "print(f'\\nГистограмма и Диаграмма размаха:')\n",
    "plt.hist(rock_pokemons.defense, alpha=0.7);\n",
    "plt.hist(ground_pokemons.defense, alpha=0.7);\n",
    "plt.hist(steel_pokemons.defense, alpha=0.7);\n",
    "plt.hist(ice_pokemons.defense, alpha=0.7);\n",
    "plt.show()\n",
    "sns.boxplot(data=[rock_pokemons.defense, ground_pokemons.defense, \n",
    "                  steel_pokemons.defense, ice_pokemons.defense]);"
   ]
  },
  {
   "cell_type": "markdown",
   "metadata": {},
   "source": [
    "<div class=\"alert alert-success\">\n",
    "<h4></h4>\n",
    "</div>"
   ]
  }
 ],
 "metadata": {
  "kernelspec": {
   "display_name": "Python 3",
   "language": "python",
   "name": "python3"
  },
  "language_info": {
   "codemirror_mode": {
    "name": "ipython",
    "version": 3
   },
   "file_extension": ".py",
   "mimetype": "text/x-python",
   "name": "python",
   "nbconvert_exporter": "python",
   "pygments_lexer": "ipython3",
   "version": "3.7.1"
  }
 },
 "nbformat": 4,
 "nbformat_minor": 2
}
