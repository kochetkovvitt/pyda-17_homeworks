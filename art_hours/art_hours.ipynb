{
 "cells": [
  {
   "cell_type": "code",
   "execution_count": 1,
   "metadata": {},
   "outputs": [],
   "source": [
    "import pandas as pd\n",
    "import seaborn as sns\n",
    "import matplotlib.pyplot as plt"
   ]
  },
  {
   "cell_type": "markdown",
   "metadata": {},
   "source": [
    "<div class=\"alert alert-block alert-info\">\n",
    "\n",
    "**stage_to_project**:\n",
    "- stagedproject_id — id этапа; <br> \n",
    "- project_id — id проекта. <br>\n",
    "\n",
    "**hours_to_projects**:\n",
    "- day — дата, на которую запланирован специалист; <br>\n",
    "- project_id — id этапа или проекта; * <br>\n",
    "- executive_id — id специалиста, который был запланирован; <br>\n",
    "- hours — кол-во часов; <br>\n",
    "- dt — datetime заявки. <br>\n",
    "\n",
    "\\**Если id есть в поле stage_to_project.stagedroject_id, значит это id этапа, который является частью проекта. <br>\n",
    "   Если id в поле stage_to_project.stagedroject_id не встречается, значит этот проект имеет только один этап, <br>\n",
    "   потому сразу указан id проекта.* <br>\n",
    "\n",
    "**executive_to_spec**:\n",
    "- executive_id — id специалиста; <br>\n",
    "- spec — его специальность.\n",
    "</div>"
   ]
  },
  {
   "cell_type": "code",
   "execution_count": 2,
   "metadata": {},
   "outputs": [],
   "source": [
    "df_executive_to_spec = pd.read_csv('executive_to_spec.csv')\n",
    "df_hours_to_project = pd.read_csv('hours_to_project.csv')\n",
    "df_stage_to_project = pd.read_csv('stage_to_project.csv')"
   ]
  },
  {
   "cell_type": "markdown",
   "metadata": {},
   "source": [
    "<div class=\"alert alert-success\">\n",
    "<h3> 1. Почистить данные. <br>\n",
    "Специалист не может быть запланирован более чем на 8 часов в день. <br>\n",
    "Все, что более 8 часов, должно быть срезано. <br>\n",
    "Срезать нужно по принципу: кто раньше успел запланировать специалиста, тот и прав. <br>\n",
    "Время планирования указано в колонке dt.</h3>\n",
    "</div>"
   ]
  },
  {
   "cell_type": "markdown",
   "metadata": {},
   "source": [
    "Удалим строки с нулевым значением количества запланированных часов и отсортируем по времени заявки:"
   ]
  },
  {
   "cell_type": "code",
   "execution_count": 3,
   "metadata": {},
   "outputs": [],
   "source": [
    "df_hours_to_project = df_hours_to_project.query(\"hours != 0\").sort_values(['dt'])"
   ]
  },
  {
   "cell_type": "markdown",
   "metadata": {},
   "source": [
    "Добавим накопительную сумму часов в разрезе дня и исполнителя:"
   ]
  },
  {
   "cell_type": "code",
   "execution_count": 4,
   "metadata": {},
   "outputs": [],
   "source": [
    "df_hours_to_project['hours_cumsum'] = df_hours_to_project.groupby(['day', 'executive_id'])['hours'].cumsum()"
   ]
  },
  {
   "cell_type": "markdown",
   "metadata": {},
   "source": [
    "Посмотрим на примере одного исполнителя и пары дней. <br>\n",
    "В строке 1491 в итоге должно остаться 3 часа, т.к. максимум 8 часов в день. <br>\n",
    "А строки 2033 и 2034 должны быть отброшены:"
   ]
  },
  {
   "cell_type": "code",
   "execution_count": 5,
   "metadata": {},
   "outputs": [
    {
     "data": {
      "text/html": [
       "<div>\n",
       "<style scoped>\n",
       "    .dataframe tbody tr th:only-of-type {\n",
       "        vertical-align: middle;\n",
       "    }\n",
       "\n",
       "    .dataframe tbody tr th {\n",
       "        vertical-align: top;\n",
       "    }\n",
       "\n",
       "    .dataframe thead th {\n",
       "        text-align: right;\n",
       "    }\n",
       "</style>\n",
       "<table border=\"1\" class=\"dataframe\">\n",
       "  <thead>\n",
       "    <tr style=\"text-align: right;\">\n",
       "      <th></th>\n",
       "      <th>day</th>\n",
       "      <th>project_id</th>\n",
       "      <th>executive_id</th>\n",
       "      <th>hours</th>\n",
       "      <th>dt</th>\n",
       "      <th>hours_cumsum</th>\n",
       "    </tr>\n",
       "  </thead>\n",
       "  <tbody>\n",
       "    <tr>\n",
       "      <th>1297</th>\n",
       "      <td>2019-01-14</td>\n",
       "      <td>5852176997052179571</td>\n",
       "      <td>5998389653881847132</td>\n",
       "      <td>3</td>\n",
       "      <td>2018-12-26 15:45:16</td>\n",
       "      <td>3</td>\n",
       "    </tr>\n",
       "    <tr>\n",
       "      <th>1313</th>\n",
       "      <td>2019-01-14</td>\n",
       "      <td>3016404</td>\n",
       "      <td>5998389653881847132</td>\n",
       "      <td>1</td>\n",
       "      <td>2018-12-26 15:45:22</td>\n",
       "      <td>4</td>\n",
       "    </tr>\n",
       "    <tr>\n",
       "      <th>1273</th>\n",
       "      <td>2019-01-14</td>\n",
       "      <td>4444406835586699375</td>\n",
       "      <td>5998389653881847132</td>\n",
       "      <td>1</td>\n",
       "      <td>2018-12-26 16:28:18</td>\n",
       "      <td>5</td>\n",
       "    </tr>\n",
       "    <tr>\n",
       "      <th>1491</th>\n",
       "      <td>2019-01-14</td>\n",
       "      <td>3017043</td>\n",
       "      <td>5998389653881847132</td>\n",
       "      <td>4</td>\n",
       "      <td>2018-12-26 16:28:40</td>\n",
       "      <td>9</td>\n",
       "    </tr>\n",
       "    <tr>\n",
       "      <th>2033</th>\n",
       "      <td>2019-01-14</td>\n",
       "      <td>4444406853899056045</td>\n",
       "      <td>5998389653881847132</td>\n",
       "      <td>1</td>\n",
       "      <td>2019-01-09 14:37:21</td>\n",
       "      <td>10</td>\n",
       "    </tr>\n",
       "    <tr>\n",
       "      <th>1298</th>\n",
       "      <td>2019-01-15</td>\n",
       "      <td>5852176997052179571</td>\n",
       "      <td>5998389653881847132</td>\n",
       "      <td>3</td>\n",
       "      <td>2018-12-26 15:45:16</td>\n",
       "      <td>3</td>\n",
       "    </tr>\n",
       "    <tr>\n",
       "      <th>1314</th>\n",
       "      <td>2019-01-15</td>\n",
       "      <td>3016404</td>\n",
       "      <td>5998389653881847132</td>\n",
       "      <td>1</td>\n",
       "      <td>2018-12-26 15:45:22</td>\n",
       "      <td>4</td>\n",
       "    </tr>\n",
       "    <tr>\n",
       "      <th>1492</th>\n",
       "      <td>2019-01-15</td>\n",
       "      <td>3017043</td>\n",
       "      <td>5998389653881847132</td>\n",
       "      <td>4</td>\n",
       "      <td>2018-12-26 16:28:40</td>\n",
       "      <td>8</td>\n",
       "    </tr>\n",
       "    <tr>\n",
       "      <th>2034</th>\n",
       "      <td>2019-01-15</td>\n",
       "      <td>4444406853899056045</td>\n",
       "      <td>5998389653881847132</td>\n",
       "      <td>1</td>\n",
       "      <td>2019-01-09 14:37:21</td>\n",
       "      <td>9</td>\n",
       "    </tr>\n",
       "  </tbody>\n",
       "</table>\n",
       "</div>"
      ],
      "text/plain": [
       "             day           project_id         executive_id  hours  \\\n",
       "1297  2019-01-14  5852176997052179571  5998389653881847132      3   \n",
       "1313  2019-01-14              3016404  5998389653881847132      1   \n",
       "1273  2019-01-14  4444406835586699375  5998389653881847132      1   \n",
       "1491  2019-01-14              3017043  5998389653881847132      4   \n",
       "2033  2019-01-14  4444406853899056045  5998389653881847132      1   \n",
       "1298  2019-01-15  5852176997052179571  5998389653881847132      3   \n",
       "1314  2019-01-15              3016404  5998389653881847132      1   \n",
       "1492  2019-01-15              3017043  5998389653881847132      4   \n",
       "2034  2019-01-15  4444406853899056045  5998389653881847132      1   \n",
       "\n",
       "                       dt  hours_cumsum  \n",
       "1297  2018-12-26 15:45:16             3  \n",
       "1313  2018-12-26 15:45:22             4  \n",
       "1273  2018-12-26 16:28:18             5  \n",
       "1491  2018-12-26 16:28:40             9  \n",
       "2033  2019-01-09 14:37:21            10  \n",
       "1298  2018-12-26 15:45:16             3  \n",
       "1314  2018-12-26 15:45:22             4  \n",
       "1492  2018-12-26 16:28:40             8  \n",
       "2034  2019-01-09 14:37:21             9  "
      ]
     },
     "execution_count": 5,
     "metadata": {},
     "output_type": "execute_result"
    }
   ],
   "source": [
    "df_hours_to_project.query(\"executive_id == 5998389653881847132 and day == ['2019-01-14', '2019-01-15']\").sort_values(['day'])"
   ]
  },
  {
   "cell_type": "markdown",
   "metadata": {},
   "source": [
    "Сформируем новый столбец с часами **'hours_cleared'**.  \n",
    "Если накопленное время меньше либо равно 8-ми часам - оставляем количество часов как текущее значение **hours**,  \n",
    "иначе уменьшаем **hours** на количество превышения нормы **(hours_cumsum - 8)**."
   ]
  },
  {
   "cell_type": "code",
   "execution_count": 6,
   "metadata": {},
   "outputs": [],
   "source": [
    "def get_cleared_hours(row):\n",
    "    if row.hours_cumsum <= 8:\n",
    "        return row.hours\n",
    "    return row.hours - (row.hours_cumsum - 8)"
   ]
  },
  {
   "cell_type": "code",
   "execution_count": 7,
   "metadata": {},
   "outputs": [],
   "source": [
    "df_hours_to_project['hours_cleared'] = df_hours_to_project.apply(get_cleared_hours, axis=1)"
   ]
  },
  {
   "cell_type": "markdown",
   "metadata": {},
   "source": [
    "Проверим наш пример:"
   ]
  },
  {
   "cell_type": "code",
   "execution_count": 8,
   "metadata": {},
   "outputs": [
    {
     "data": {
      "text/html": [
       "<div>\n",
       "<style scoped>\n",
       "    .dataframe tbody tr th:only-of-type {\n",
       "        vertical-align: middle;\n",
       "    }\n",
       "\n",
       "    .dataframe tbody tr th {\n",
       "        vertical-align: top;\n",
       "    }\n",
       "\n",
       "    .dataframe thead th {\n",
       "        text-align: right;\n",
       "    }\n",
       "</style>\n",
       "<table border=\"1\" class=\"dataframe\">\n",
       "  <thead>\n",
       "    <tr style=\"text-align: right;\">\n",
       "      <th></th>\n",
       "      <th>day</th>\n",
       "      <th>project_id</th>\n",
       "      <th>executive_id</th>\n",
       "      <th>hours</th>\n",
       "      <th>dt</th>\n",
       "      <th>hours_cumsum</th>\n",
       "      <th>hours_cleared</th>\n",
       "    </tr>\n",
       "  </thead>\n",
       "  <tbody>\n",
       "    <tr>\n",
       "      <th>1297</th>\n",
       "      <td>2019-01-14</td>\n",
       "      <td>5852176997052179571</td>\n",
       "      <td>5998389653881847132</td>\n",
       "      <td>3</td>\n",
       "      <td>2018-12-26 15:45:16</td>\n",
       "      <td>3</td>\n",
       "      <td>3</td>\n",
       "    </tr>\n",
       "    <tr>\n",
       "      <th>1313</th>\n",
       "      <td>2019-01-14</td>\n",
       "      <td>3016404</td>\n",
       "      <td>5998389653881847132</td>\n",
       "      <td>1</td>\n",
       "      <td>2018-12-26 15:45:22</td>\n",
       "      <td>4</td>\n",
       "      <td>1</td>\n",
       "    </tr>\n",
       "    <tr>\n",
       "      <th>1273</th>\n",
       "      <td>2019-01-14</td>\n",
       "      <td>4444406835586699375</td>\n",
       "      <td>5998389653881847132</td>\n",
       "      <td>1</td>\n",
       "      <td>2018-12-26 16:28:18</td>\n",
       "      <td>5</td>\n",
       "      <td>1</td>\n",
       "    </tr>\n",
       "    <tr>\n",
       "      <th>1491</th>\n",
       "      <td>2019-01-14</td>\n",
       "      <td>3017043</td>\n",
       "      <td>5998389653881847132</td>\n",
       "      <td>4</td>\n",
       "      <td>2018-12-26 16:28:40</td>\n",
       "      <td>9</td>\n",
       "      <td>3</td>\n",
       "    </tr>\n",
       "    <tr>\n",
       "      <th>2033</th>\n",
       "      <td>2019-01-14</td>\n",
       "      <td>4444406853899056045</td>\n",
       "      <td>5998389653881847132</td>\n",
       "      <td>1</td>\n",
       "      <td>2019-01-09 14:37:21</td>\n",
       "      <td>10</td>\n",
       "      <td>-1</td>\n",
       "    </tr>\n",
       "    <tr>\n",
       "      <th>1298</th>\n",
       "      <td>2019-01-15</td>\n",
       "      <td>5852176997052179571</td>\n",
       "      <td>5998389653881847132</td>\n",
       "      <td>3</td>\n",
       "      <td>2018-12-26 15:45:16</td>\n",
       "      <td>3</td>\n",
       "      <td>3</td>\n",
       "    </tr>\n",
       "    <tr>\n",
       "      <th>1314</th>\n",
       "      <td>2019-01-15</td>\n",
       "      <td>3016404</td>\n",
       "      <td>5998389653881847132</td>\n",
       "      <td>1</td>\n",
       "      <td>2018-12-26 15:45:22</td>\n",
       "      <td>4</td>\n",
       "      <td>1</td>\n",
       "    </tr>\n",
       "    <tr>\n",
       "      <th>1492</th>\n",
       "      <td>2019-01-15</td>\n",
       "      <td>3017043</td>\n",
       "      <td>5998389653881847132</td>\n",
       "      <td>4</td>\n",
       "      <td>2018-12-26 16:28:40</td>\n",
       "      <td>8</td>\n",
       "      <td>4</td>\n",
       "    </tr>\n",
       "    <tr>\n",
       "      <th>2034</th>\n",
       "      <td>2019-01-15</td>\n",
       "      <td>4444406853899056045</td>\n",
       "      <td>5998389653881847132</td>\n",
       "      <td>1</td>\n",
       "      <td>2019-01-09 14:37:21</td>\n",
       "      <td>9</td>\n",
       "      <td>0</td>\n",
       "    </tr>\n",
       "  </tbody>\n",
       "</table>\n",
       "</div>"
      ],
      "text/plain": [
       "             day           project_id         executive_id  hours  \\\n",
       "1297  2019-01-14  5852176997052179571  5998389653881847132      3   \n",
       "1313  2019-01-14              3016404  5998389653881847132      1   \n",
       "1273  2019-01-14  4444406835586699375  5998389653881847132      1   \n",
       "1491  2019-01-14              3017043  5998389653881847132      4   \n",
       "2033  2019-01-14  4444406853899056045  5998389653881847132      1   \n",
       "1298  2019-01-15  5852176997052179571  5998389653881847132      3   \n",
       "1314  2019-01-15              3016404  5998389653881847132      1   \n",
       "1492  2019-01-15              3017043  5998389653881847132      4   \n",
       "2034  2019-01-15  4444406853899056045  5998389653881847132      1   \n",
       "\n",
       "                       dt  hours_cumsum  hours_cleared  \n",
       "1297  2018-12-26 15:45:16             3              3  \n",
       "1313  2018-12-26 15:45:22             4              1  \n",
       "1273  2018-12-26 16:28:18             5              1  \n",
       "1491  2018-12-26 16:28:40             9              3  \n",
       "2033  2019-01-09 14:37:21            10             -1  \n",
       "1298  2018-12-26 15:45:16             3              3  \n",
       "1314  2018-12-26 15:45:22             4              1  \n",
       "1492  2018-12-26 16:28:40             8              4  \n",
       "2034  2019-01-09 14:37:21             9              0  "
      ]
     },
     "execution_count": 8,
     "metadata": {},
     "output_type": "execute_result"
    }
   ],
   "source": [
    "df_hours_to_project.query(\"executive_id == 5998389653881847132 and day == ['2019-01-14', '2019-01-15']\").sort_values(['day'])"
   ]
  },
  {
   "cell_type": "markdown",
   "metadata": {},
   "source": [
    "Все верно. Далее просто уберем строки с нулевыми и отрицательными значениями **'hours_cleared'** и сформируем итоговый датафрейм:"
   ]
  },
  {
   "cell_type": "code",
   "execution_count": 9,
   "metadata": {},
   "outputs": [],
   "source": [
    "df_hours_to_project = (df_hours_to_project.query(\"hours_cleared > 0\")\n",
    "                       [['day', 'project_id', 'executive_id', 'hours_cleared', 'dt']].reset_index(drop = True))"
   ]
  },
  {
   "cell_type": "code",
   "execution_count": 10,
   "metadata": {},
   "outputs": [
    {
     "data": {
      "text/html": [
       "<div>\n",
       "<style scoped>\n",
       "    .dataframe tbody tr th:only-of-type {\n",
       "        vertical-align: middle;\n",
       "    }\n",
       "\n",
       "    .dataframe tbody tr th {\n",
       "        vertical-align: top;\n",
       "    }\n",
       "\n",
       "    .dataframe thead th {\n",
       "        text-align: right;\n",
       "    }\n",
       "</style>\n",
       "<table border=\"1\" class=\"dataframe\">\n",
       "  <thead>\n",
       "    <tr style=\"text-align: right;\">\n",
       "      <th></th>\n",
       "      <th>day</th>\n",
       "      <th>project_id</th>\n",
       "      <th>executive_id</th>\n",
       "      <th>hours_cleared</th>\n",
       "      <th>dt</th>\n",
       "    </tr>\n",
       "  </thead>\n",
       "  <tbody>\n",
       "    <tr>\n",
       "      <th>692</th>\n",
       "      <td>2019-01-14</td>\n",
       "      <td>5852176997052179571</td>\n",
       "      <td>5998389653881847132</td>\n",
       "      <td>3</td>\n",
       "      <td>2018-12-26 15:45:16</td>\n",
       "    </tr>\n",
       "    <tr>\n",
       "      <th>710</th>\n",
       "      <td>2019-01-14</td>\n",
       "      <td>3016404</td>\n",
       "      <td>5998389653881847132</td>\n",
       "      <td>1</td>\n",
       "      <td>2018-12-26 15:45:22</td>\n",
       "    </tr>\n",
       "    <tr>\n",
       "      <th>927</th>\n",
       "      <td>2019-01-14</td>\n",
       "      <td>4444406835586699375</td>\n",
       "      <td>5998389653881847132</td>\n",
       "      <td>1</td>\n",
       "      <td>2018-12-26 16:28:18</td>\n",
       "    </tr>\n",
       "    <tr>\n",
       "      <th>936</th>\n",
       "      <td>2019-01-14</td>\n",
       "      <td>3017043</td>\n",
       "      <td>5998389653881847132</td>\n",
       "      <td>3</td>\n",
       "      <td>2018-12-26 16:28:40</td>\n",
       "    </tr>\n",
       "    <tr>\n",
       "      <th>693</th>\n",
       "      <td>2019-01-15</td>\n",
       "      <td>5852176997052179571</td>\n",
       "      <td>5998389653881847132</td>\n",
       "      <td>3</td>\n",
       "      <td>2018-12-26 15:45:16</td>\n",
       "    </tr>\n",
       "    <tr>\n",
       "      <th>706</th>\n",
       "      <td>2019-01-15</td>\n",
       "      <td>3016404</td>\n",
       "      <td>5998389653881847132</td>\n",
       "      <td>1</td>\n",
       "      <td>2018-12-26 15:45:22</td>\n",
       "    </tr>\n",
       "    <tr>\n",
       "      <th>937</th>\n",
       "      <td>2019-01-15</td>\n",
       "      <td>3017043</td>\n",
       "      <td>5998389653881847132</td>\n",
       "      <td>4</td>\n",
       "      <td>2018-12-26 16:28:40</td>\n",
       "    </tr>\n",
       "  </tbody>\n",
       "</table>\n",
       "</div>"
      ],
      "text/plain": [
       "            day           project_id         executive_id  hours_cleared  \\\n",
       "692  2019-01-14  5852176997052179571  5998389653881847132              3   \n",
       "710  2019-01-14              3016404  5998389653881847132              1   \n",
       "927  2019-01-14  4444406835586699375  5998389653881847132              1   \n",
       "936  2019-01-14              3017043  5998389653881847132              3   \n",
       "693  2019-01-15  5852176997052179571  5998389653881847132              3   \n",
       "706  2019-01-15              3016404  5998389653881847132              1   \n",
       "937  2019-01-15              3017043  5998389653881847132              4   \n",
       "\n",
       "                      dt  \n",
       "692  2018-12-26 15:45:16  \n",
       "710  2018-12-26 15:45:22  \n",
       "927  2018-12-26 16:28:18  \n",
       "936  2018-12-26 16:28:40  \n",
       "693  2018-12-26 15:45:16  \n",
       "706  2018-12-26 15:45:22  \n",
       "937  2018-12-26 16:28:40  "
      ]
     },
     "execution_count": 10,
     "metadata": {},
     "output_type": "execute_result"
    }
   ],
   "source": [
    "df_hours_to_project.query(\"executive_id == 5998389653881847132 and day == ['2019-01-14', '2019-01-15']\").sort_values(['day'])"
   ]
  },
  {
   "cell_type": "markdown",
   "metadata": {},
   "source": [
    "<div class=\"alert alert-success\">\n",
    "<h3>2. Найти 20 наименее занятых специалистов (на уровне id) за март.</h3>\n",
    "</div>"
   ]
  },
  {
   "cell_type": "code",
   "execution_count": 11,
   "metadata": {},
   "outputs": [
    {
     "data": {
      "text/html": [
       "<div>\n",
       "<style scoped>\n",
       "    .dataframe tbody tr th:only-of-type {\n",
       "        vertical-align: middle;\n",
       "    }\n",
       "\n",
       "    .dataframe tbody tr th {\n",
       "        vertical-align: top;\n",
       "    }\n",
       "\n",
       "    .dataframe thead th {\n",
       "        text-align: right;\n",
       "    }\n",
       "</style>\n",
       "<table border=\"1\" class=\"dataframe\">\n",
       "  <thead>\n",
       "    <tr style=\"text-align: right;\">\n",
       "      <th></th>\n",
       "      <th>executive_id</th>\n",
       "      <th>march_hours_sum</th>\n",
       "    </tr>\n",
       "  </thead>\n",
       "  <tbody>\n",
       "    <tr>\n",
       "      <th>0</th>\n",
       "      <td>4769141486593889576</td>\n",
       "      <td>4</td>\n",
       "    </tr>\n",
       "    <tr>\n",
       "      <th>1</th>\n",
       "      <td>6533079396805353174</td>\n",
       "      <td>5</td>\n",
       "    </tr>\n",
       "    <tr>\n",
       "      <th>2</th>\n",
       "      <td>6513879110580805865</td>\n",
       "      <td>7</td>\n",
       "    </tr>\n",
       "    <tr>\n",
       "      <th>3</th>\n",
       "      <td>6665533916176314412</td>\n",
       "      <td>20</td>\n",
       "    </tr>\n",
       "    <tr>\n",
       "      <th>4</th>\n",
       "      <td>6080792866358144384</td>\n",
       "      <td>22</td>\n",
       "    </tr>\n",
       "    <tr>\n",
       "      <th>5</th>\n",
       "      <td>6470047208388519868</td>\n",
       "      <td>26</td>\n",
       "    </tr>\n",
       "    <tr>\n",
       "      <th>6</th>\n",
       "      <td>6573593990812262863</td>\n",
       "      <td>37</td>\n",
       "    </tr>\n",
       "    <tr>\n",
       "      <th>7</th>\n",
       "      <td>6668223824129031472</td>\n",
       "      <td>40</td>\n",
       "    </tr>\n",
       "    <tr>\n",
       "      <th>8</th>\n",
       "      <td>4638737517754019940</td>\n",
       "      <td>42</td>\n",
       "    </tr>\n",
       "    <tr>\n",
       "      <th>9</th>\n",
       "      <td>6497176700026191849</td>\n",
       "      <td>42</td>\n",
       "    </tr>\n",
       "    <tr>\n",
       "      <th>10</th>\n",
       "      <td>6472966665163348977</td>\n",
       "      <td>44</td>\n",
       "    </tr>\n",
       "    <tr>\n",
       "      <th>11</th>\n",
       "      <td>6171384064617043520</td>\n",
       "      <td>47</td>\n",
       "    </tr>\n",
       "    <tr>\n",
       "      <th>12</th>\n",
       "      <td>6051914588591616764</td>\n",
       "      <td>50</td>\n",
       "    </tr>\n",
       "    <tr>\n",
       "      <th>13</th>\n",
       "      <td>6667159870535480136</td>\n",
       "      <td>54</td>\n",
       "    </tr>\n",
       "    <tr>\n",
       "      <th>14</th>\n",
       "      <td>6621860154679826121</td>\n",
       "      <td>56</td>\n",
       "    </tr>\n",
       "    <tr>\n",
       "      <th>15</th>\n",
       "      <td>5928236353853661053</td>\n",
       "      <td>60</td>\n",
       "    </tr>\n",
       "    <tr>\n",
       "      <th>16</th>\n",
       "      <td>6175053134918917924</td>\n",
       "      <td>64</td>\n",
       "    </tr>\n",
       "    <tr>\n",
       "      <th>17</th>\n",
       "      <td>5470699466405307582</td>\n",
       "      <td>66</td>\n",
       "    </tr>\n",
       "    <tr>\n",
       "      <th>18</th>\n",
       "      <td>6532085790481137245</td>\n",
       "      <td>80</td>\n",
       "    </tr>\n",
       "    <tr>\n",
       "      <th>19</th>\n",
       "      <td>6114037270438810381</td>\n",
       "      <td>80</td>\n",
       "    </tr>\n",
       "  </tbody>\n",
       "</table>\n",
       "</div>"
      ],
      "text/plain": [
       "           executive_id  march_hours_sum\n",
       "0   4769141486593889576                4\n",
       "1   6533079396805353174                5\n",
       "2   6513879110580805865                7\n",
       "3   6665533916176314412               20\n",
       "4   6080792866358144384               22\n",
       "5   6470047208388519868               26\n",
       "6   6573593990812262863               37\n",
       "7   6668223824129031472               40\n",
       "8   4638737517754019940               42\n",
       "9   6497176700026191849               42\n",
       "10  6472966665163348977               44\n",
       "11  6171384064617043520               47\n",
       "12  6051914588591616764               50\n",
       "13  6667159870535480136               54\n",
       "14  6621860154679826121               56\n",
       "15  5928236353853661053               60\n",
       "16  6175053134918917924               64\n",
       "17  5470699466405307582               66\n",
       "18  6532085790481137245               80\n",
       "19  6114037270438810381               80"
      ]
     },
     "execution_count": 11,
     "metadata": {},
     "output_type": "execute_result"
    }
   ],
   "source": [
    "(df_hours_to_project.query(\"'2019-03-01' <= day <= '2019-03-31'\")\n",
    "                    .groupby(['executive_id'])['hours_cleared'].sum().sort_values()\n",
    "                    .head(20).to_frame(name='march_hours_sum').reset_index())"
   ]
  },
  {
   "cell_type": "markdown",
   "metadata": {},
   "source": [
    "<div class=\"alert alert-success\">\n",
    "<h3> 3. Построить распределение длительностей проектов.</h3>\n",
    "</div>"
   ]
  },
  {
   "cell_type": "markdown",
   "metadata": {},
   "source": [
    "Объединим два датафрейма **df_hours_to_project** и **df_stage_to_project**, оставив только необходимые столбцы:"
   ]
  },
  {
   "cell_type": "code",
   "execution_count": 12,
   "metadata": {
    "scrolled": true
   },
   "outputs": [],
   "source": [
    "projects_durations = (df_hours_to_project[['day', 'project_id']]\n",
    "                     .merge(df_stage_to_project, how='left', left_on='project_id', right_on='stagedproject_id'))"
   ]
  },
  {
   "cell_type": "code",
   "execution_count": 13,
   "metadata": {},
   "outputs": [
    {
     "data": {
      "text/html": [
       "<div>\n",
       "<style scoped>\n",
       "    .dataframe tbody tr th:only-of-type {\n",
       "        vertical-align: middle;\n",
       "    }\n",
       "\n",
       "    .dataframe tbody tr th {\n",
       "        vertical-align: top;\n",
       "    }\n",
       "\n",
       "    .dataframe thead th {\n",
       "        text-align: right;\n",
       "    }\n",
       "</style>\n",
       "<table border=\"1\" class=\"dataframe\">\n",
       "  <thead>\n",
       "    <tr style=\"text-align: right;\">\n",
       "      <th></th>\n",
       "      <th>day</th>\n",
       "      <th>project_id_x</th>\n",
       "      <th>stagedproject_id</th>\n",
       "      <th>project_id_y</th>\n",
       "    </tr>\n",
       "  </thead>\n",
       "  <tbody>\n",
       "    <tr>\n",
       "      <th>0</th>\n",
       "      <td>2019-01-17</td>\n",
       "      <td>3016817</td>\n",
       "      <td>3016817.0</td>\n",
       "      <td>6.612947e+18</td>\n",
       "    </tr>\n",
       "    <tr>\n",
       "      <th>1</th>\n",
       "      <td>2019-01-16</td>\n",
       "      <td>3016817</td>\n",
       "      <td>3016817.0</td>\n",
       "      <td>6.612947e+18</td>\n",
       "    </tr>\n",
       "    <tr>\n",
       "      <th>2</th>\n",
       "      <td>2019-01-15</td>\n",
       "      <td>3016817</td>\n",
       "      <td>3016817.0</td>\n",
       "      <td>6.612947e+18</td>\n",
       "    </tr>\n",
       "    <tr>\n",
       "      <th>3</th>\n",
       "      <td>2019-01-14</td>\n",
       "      <td>3016817</td>\n",
       "      <td>3016817.0</td>\n",
       "      <td>6.612947e+18</td>\n",
       "    </tr>\n",
       "    <tr>\n",
       "      <th>4</th>\n",
       "      <td>2019-01-18</td>\n",
       "      <td>3016817</td>\n",
       "      <td>3016817.0</td>\n",
       "      <td>6.612947e+18</td>\n",
       "    </tr>\n",
       "    <tr>\n",
       "      <th>5</th>\n",
       "      <td>2019-01-28</td>\n",
       "      <td>3016817</td>\n",
       "      <td>3016817.0</td>\n",
       "      <td>6.612947e+18</td>\n",
       "    </tr>\n",
       "    <tr>\n",
       "      <th>6</th>\n",
       "      <td>2019-01-29</td>\n",
       "      <td>3016817</td>\n",
       "      <td>3016817.0</td>\n",
       "      <td>6.612947e+18</td>\n",
       "    </tr>\n",
       "    <tr>\n",
       "      <th>7</th>\n",
       "      <td>2019-01-09</td>\n",
       "      <td>4444406876895586307</td>\n",
       "      <td>NaN</td>\n",
       "      <td>NaN</td>\n",
       "    </tr>\n",
       "    <tr>\n",
       "      <th>8</th>\n",
       "      <td>2019-01-11</td>\n",
       "      <td>4444406876895586307</td>\n",
       "      <td>NaN</td>\n",
       "      <td>NaN</td>\n",
       "    </tr>\n",
       "    <tr>\n",
       "      <th>9</th>\n",
       "      <td>2019-01-14</td>\n",
       "      <td>4444406876895586307</td>\n",
       "      <td>NaN</td>\n",
       "      <td>NaN</td>\n",
       "    </tr>\n",
       "  </tbody>\n",
       "</table>\n",
       "</div>"
      ],
      "text/plain": [
       "          day         project_id_x  stagedproject_id  project_id_y\n",
       "0  2019-01-17              3016817         3016817.0  6.612947e+18\n",
       "1  2019-01-16              3016817         3016817.0  6.612947e+18\n",
       "2  2019-01-15              3016817         3016817.0  6.612947e+18\n",
       "3  2019-01-14              3016817         3016817.0  6.612947e+18\n",
       "4  2019-01-18              3016817         3016817.0  6.612947e+18\n",
       "5  2019-01-28              3016817         3016817.0  6.612947e+18\n",
       "6  2019-01-29              3016817         3016817.0  6.612947e+18\n",
       "7  2019-01-09  4444406876895586307               NaN           NaN\n",
       "8  2019-01-11  4444406876895586307               NaN           NaN\n",
       "9  2019-01-14  4444406876895586307               NaN           NaN"
      ]
     },
     "execution_count": 13,
     "metadata": {},
     "output_type": "execute_result"
    }
   ],
   "source": [
    "projects_durations.head(10)"
   ]
  },
  {
   "cell_type": "markdown",
   "metadata": {},
   "source": [
    "Заполним пропуски в **project_id_y** значениями из столбца **project_id_x** и преобразуем формат даты:"
   ]
  },
  {
   "cell_type": "code",
   "execution_count": 14,
   "metadata": {},
   "outputs": [],
   "source": [
    "projects_durations['project_id_y'] = projects_durations['project_id_y'].fillna(projects_durations['project_id_x'])"
   ]
  },
  {
   "cell_type": "code",
   "execution_count": 15,
   "metadata": {},
   "outputs": [],
   "source": [
    "projects_durations['day'] = pd.to_datetime(projects_durations['day'])"
   ]
  },
  {
   "cell_type": "markdown",
   "metadata": {},
   "source": [
    "Сформируем итоговый датафрейм, вычислив продолжительность проектов:"
   ]
  },
  {
   "cell_type": "code",
   "execution_count": 16,
   "metadata": {},
   "outputs": [],
   "source": [
    "projects_durations = (projects_durations[['day', 'project_id_y']].groupby('project_id_y')\n",
    "                     .day.agg([lambda x: max(x) - min(x) + pd.Timedelta(1, unit=\"d\")])\n",
    "                     .reset_index()).rename(columns={'<lambda>': 'duration', 'project_id_y': 'project_id_'})"
   ]
  },
  {
   "cell_type": "code",
   "execution_count": 17,
   "metadata": {},
   "outputs": [
    {
     "data": {
      "text/html": [
       "<div>\n",
       "<style scoped>\n",
       "    .dataframe tbody tr th:only-of-type {\n",
       "        vertical-align: middle;\n",
       "    }\n",
       "\n",
       "    .dataframe tbody tr th {\n",
       "        vertical-align: top;\n",
       "    }\n",
       "\n",
       "    .dataframe thead th {\n",
       "        text-align: right;\n",
       "    }\n",
       "</style>\n",
       "<table border=\"1\" class=\"dataframe\">\n",
       "  <thead>\n",
       "    <tr style=\"text-align: right;\">\n",
       "      <th></th>\n",
       "      <th>project_id_</th>\n",
       "      <th>duration</th>\n",
       "    </tr>\n",
       "  </thead>\n",
       "  <tbody>\n",
       "    <tr>\n",
       "      <th>0</th>\n",
       "      <td>3.017137e+06</td>\n",
       "      <td>164 days</td>\n",
       "    </tr>\n",
       "    <tr>\n",
       "      <th>1</th>\n",
       "      <td>3.017138e+06</td>\n",
       "      <td>179 days</td>\n",
       "    </tr>\n",
       "    <tr>\n",
       "      <th>2</th>\n",
       "      <td>3.017139e+06</td>\n",
       "      <td>8 days</td>\n",
       "    </tr>\n",
       "    <tr>\n",
       "      <th>3</th>\n",
       "      <td>3.018203e+06</td>\n",
       "      <td>61 days</td>\n",
       "    </tr>\n",
       "    <tr>\n",
       "      <th>4</th>\n",
       "      <td>3.018249e+06</td>\n",
       "      <td>1 days</td>\n",
       "    </tr>\n",
       "    <tr>\n",
       "      <th>5</th>\n",
       "      <td>3.018554e+06</td>\n",
       "      <td>4 days</td>\n",
       "    </tr>\n",
       "    <tr>\n",
       "      <th>6</th>\n",
       "      <td>3.018612e+06</td>\n",
       "      <td>18 days</td>\n",
       "    </tr>\n",
       "    <tr>\n",
       "      <th>7</th>\n",
       "      <td>3.018903e+06</td>\n",
       "      <td>29 days</td>\n",
       "    </tr>\n",
       "    <tr>\n",
       "      <th>8</th>\n",
       "      <td>3.018952e+06</td>\n",
       "      <td>5 days</td>\n",
       "    </tr>\n",
       "    <tr>\n",
       "      <th>9</th>\n",
       "      <td>4.242424e+17</td>\n",
       "      <td>110 days</td>\n",
       "    </tr>\n",
       "  </tbody>\n",
       "</table>\n",
       "</div>"
      ],
      "text/plain": [
       "    project_id_ duration\n",
       "0  3.017137e+06 164 days\n",
       "1  3.017138e+06 179 days\n",
       "2  3.017139e+06   8 days\n",
       "3  3.018203e+06  61 days\n",
       "4  3.018249e+06   1 days\n",
       "5  3.018554e+06   4 days\n",
       "6  3.018612e+06  18 days\n",
       "7  3.018903e+06  29 days\n",
       "8  3.018952e+06   5 days\n",
       "9  4.242424e+17 110 days"
      ]
     },
     "execution_count": 17,
     "metadata": {},
     "output_type": "execute_result"
    }
   ],
   "source": [
    "projects_durations.head(10)"
   ]
  },
  {
   "cell_type": "markdown",
   "metadata": {},
   "source": [
    "Построим диаграмму размаха (box plot) для длительностей проектов:"
   ]
  },
  {
   "cell_type": "code",
   "execution_count": 18,
   "metadata": {},
   "outputs": [
    {
     "data": {
      "text/plain": [
       "<matplotlib.axes._subplots.AxesSubplot at 0x2184cfc2f28>"
      ]
     },
     "execution_count": 18,
     "metadata": {},
     "output_type": "execute_result"
    },
    {
     "data": {
      "image/png": "[encoded data removed]",
      "text/plain": [
       "<Figure size 432x288 with 1 Axes>"
      ]
     },
     "metadata": {
      "needs_background": "light"
     },
     "output_type": "display_data"
    }
   ],
   "source": [
    "sns.boxplot(data=projects_durations.duration.dt.days, palette='rainbow', orient='h')"
   ]
  },
  {
   "cell_type": "markdown",
   "metadata": {},
   "source": [
    "Медианная продолжительность 78 дней:"
   ]
  },
  {
   "cell_type": "code",
   "execution_count": 19,
   "metadata": {},
   "outputs": [
    {
     "data": {
      "text/plain": [
       "count                         386\n",
       "mean     107 days 19:50:03.108808\n",
       "std       98 days 01:20:11.397475\n",
       "min               1 days 00:00:00\n",
       "25%              29 days 00:00:00\n",
       "50%              78 days 12:00:00\n",
       "75%             158 days 18:00:00\n",
       "max             357 days 00:00:00\n",
       "Name: duration, dtype: object"
      ]
     },
     "execution_count": 19,
     "metadata": {},
     "output_type": "execute_result"
    }
   ],
   "source": [
    "projects_durations.duration.describe()"
   ]
  },
  {
   "cell_type": "markdown",
   "metadata": {},
   "source": [
    "<div class=\"alert alert-success\">\n",
    "<h3> 4. Построить график занятости по специалистам от максимально возможного в течение года: <br>\n",
    "    \n",
    "— дизайнеров; <br>\n",
    "— технологов; <br>\n",
    "— всех сотрудников.</h3>\n",
    "</div>"
   ]
  },
  {
   "cell_type": "markdown",
   "metadata": {},
   "source": [
    "Объединим два необходимых датафрейма **df_hours_to_project** и **df_executive_to_spec**:"
   ]
  },
  {
   "cell_type": "code",
   "execution_count": 20,
   "metadata": {},
   "outputs": [],
   "source": [
    "spec_days = (df_hours_to_project[['day', 'executive_id', 'hours_cleared']]\n",
    "               .merge(df_executive_to_spec, how='left'))"
   ]
  },
  {
   "cell_type": "code",
   "execution_count": 21,
   "metadata": {},
   "outputs": [
    {
     "data": {
      "text/html": [
       "<div>\n",
       "<style scoped>\n",
       "    .dataframe tbody tr th:only-of-type {\n",
       "        vertical-align: middle;\n",
       "    }\n",
       "\n",
       "    .dataframe tbody tr th {\n",
       "        vertical-align: top;\n",
       "    }\n",
       "\n",
       "    .dataframe thead th {\n",
       "        text-align: right;\n",
       "    }\n",
       "</style>\n",
       "<table border=\"1\" class=\"dataframe\">\n",
       "  <thead>\n",
       "    <tr style=\"text-align: right;\">\n",
       "      <th></th>\n",
       "      <th>day</th>\n",
       "      <th>executive_id</th>\n",
       "      <th>hours_cleared</th>\n",
       "      <th>spec</th>\n",
       "    </tr>\n",
       "  </thead>\n",
       "  <tbody>\n",
       "    <tr>\n",
       "      <th>0</th>\n",
       "      <td>2019-01-17</td>\n",
       "      <td>5625394194018276490</td>\n",
       "      <td>3</td>\n",
       "      <td>верстальщик</td>\n",
       "    </tr>\n",
       "    <tr>\n",
       "      <th>1</th>\n",
       "      <td>2019-01-16</td>\n",
       "      <td>5625394194018276490</td>\n",
       "      <td>3</td>\n",
       "      <td>верстальщик</td>\n",
       "    </tr>\n",
       "    <tr>\n",
       "      <th>2</th>\n",
       "      <td>2019-01-15</td>\n",
       "      <td>5625394194018276490</td>\n",
       "      <td>3</td>\n",
       "      <td>верстальщик</td>\n",
       "    </tr>\n",
       "    <tr>\n",
       "      <th>3</th>\n",
       "      <td>2019-01-14</td>\n",
       "      <td>5625394194018276490</td>\n",
       "      <td>3</td>\n",
       "      <td>верстальщик</td>\n",
       "    </tr>\n",
       "    <tr>\n",
       "      <th>4</th>\n",
       "      <td>2019-01-18</td>\n",
       "      <td>5625394194018276490</td>\n",
       "      <td>3</td>\n",
       "      <td>верстальщик</td>\n",
       "    </tr>\n",
       "  </tbody>\n",
       "</table>\n",
       "</div>"
      ],
      "text/plain": [
       "          day         executive_id  hours_cleared         spec\n",
       "0  2019-01-17  5625394194018276490              3  верстальщик\n",
       "1  2019-01-16  5625394194018276490              3  верстальщик\n",
       "2  2019-01-15  5625394194018276490              3  верстальщик\n",
       "3  2019-01-14  5625394194018276490              3  верстальщик\n",
       "4  2019-01-18  5625394194018276490              3  верстальщик"
      ]
     },
     "execution_count": 21,
     "metadata": {},
     "output_type": "execute_result"
    }
   ],
   "source": [
    "spec_days.head()"
   ]
  },
  {
   "cell_type": "markdown",
   "metadata": {},
   "source": [
    "Сгруппируем по дате и специальности, аггрегировав сумму часов и количество уникальных id специалистов:"
   ]
  },
  {
   "cell_type": "code",
   "execution_count": 22,
   "metadata": {},
   "outputs": [],
   "source": [
    "spec_workload = (spec_days.groupby(['day', 'spec'])\n",
    "                              .agg({\"hours_cleared\": \"sum\", \"executive_id\": \"nunique\"}).reset_index())"
   ]
  },
  {
   "cell_type": "code",
   "execution_count": 23,
   "metadata": {},
   "outputs": [
    {
     "data": {
      "text/html": [
       "<div>\n",
       "<style scoped>\n",
       "    .dataframe tbody tr th:only-of-type {\n",
       "        vertical-align: middle;\n",
       "    }\n",
       "\n",
       "    .dataframe tbody tr th {\n",
       "        vertical-align: top;\n",
       "    }\n",
       "\n",
       "    .dataframe thead th {\n",
       "        text-align: right;\n",
       "    }\n",
       "</style>\n",
       "<table border=\"1\" class=\"dataframe\">\n",
       "  <thead>\n",
       "    <tr style=\"text-align: right;\">\n",
       "      <th></th>\n",
       "      <th>day</th>\n",
       "      <th>spec</th>\n",
       "      <th>hours_cleared</th>\n",
       "      <th>executive_id</th>\n",
       "    </tr>\n",
       "  </thead>\n",
       "  <tbody>\n",
       "    <tr>\n",
       "      <th>1</th>\n",
       "      <td>2019-01-09</td>\n",
       "      <td>архитектор</td>\n",
       "      <td>16</td>\n",
       "      <td>2</td>\n",
       "    </tr>\n",
       "    <tr>\n",
       "      <th>2</th>\n",
       "      <td>2019-01-09</td>\n",
       "      <td>бета-тестер</td>\n",
       "      <td>4</td>\n",
       "      <td>1</td>\n",
       "    </tr>\n",
       "    <tr>\n",
       "      <th>3</th>\n",
       "      <td>2019-01-09</td>\n",
       "      <td>верстальщик</td>\n",
       "      <td>22</td>\n",
       "      <td>5</td>\n",
       "    </tr>\n",
       "    <tr>\n",
       "      <th>4</th>\n",
       "      <td>2019-01-09</td>\n",
       "      <td>главный архитектор</td>\n",
       "      <td>4</td>\n",
       "      <td>1</td>\n",
       "    </tr>\n",
       "    <tr>\n",
       "      <th>5</th>\n",
       "      <td>2019-01-09</td>\n",
       "      <td>дизайнер</td>\n",
       "      <td>241</td>\n",
       "      <td>37</td>\n",
       "    </tr>\n",
       "  </tbody>\n",
       "</table>\n",
       "</div>"
      ],
      "text/plain": [
       "          day                spec  hours_cleared  executive_id\n",
       "1  2019-01-09          архитектор             16             2\n",
       "2  2019-01-09         бета-тестер              4             1\n",
       "3  2019-01-09         верстальщик             22             5\n",
       "4  2019-01-09  главный архитектор              4             1\n",
       "5  2019-01-09            дизайнер            241            37"
      ]
     },
     "execution_count": 23,
     "metadata": {},
     "output_type": "execute_result"
    }
   ],
   "source": [
    "spec_workload.query(\"day == '2019-01-09'\").head()"
   ]
  },
  {
   "cell_type": "markdown",
   "metadata": {},
   "source": [
    "Добавим столбец **'spec_workload'**, вычислив отноение количества часов к максимально возможному:"
   ]
  },
  {
   "cell_type": "code",
   "execution_count": 24,
   "metadata": {},
   "outputs": [],
   "source": [
    "spec_workload['spec_workload'] = spec_workload['hours_cleared'] / (spec_workload['executive_id'] * 8)"
   ]
  },
  {
   "cell_type": "code",
   "execution_count": 25,
   "metadata": {},
   "outputs": [
    {
     "data": {
      "text/html": [
       "<div>\n",
       "<style scoped>\n",
       "    .dataframe tbody tr th:only-of-type {\n",
       "        vertical-align: middle;\n",
       "    }\n",
       "\n",
       "    .dataframe tbody tr th {\n",
       "        vertical-align: top;\n",
       "    }\n",
       "\n",
       "    .dataframe thead th {\n",
       "        text-align: right;\n",
       "    }\n",
       "</style>\n",
       "<table border=\"1\" class=\"dataframe\">\n",
       "  <thead>\n",
       "    <tr style=\"text-align: right;\">\n",
       "      <th></th>\n",
       "      <th>day</th>\n",
       "      <th>spec</th>\n",
       "      <th>hours_cleared</th>\n",
       "      <th>executive_id</th>\n",
       "      <th>spec_workload</th>\n",
       "    </tr>\n",
       "  </thead>\n",
       "  <tbody>\n",
       "    <tr>\n",
       "      <th>1</th>\n",
       "      <td>2019-01-09</td>\n",
       "      <td>архитектор</td>\n",
       "      <td>16</td>\n",
       "      <td>2</td>\n",
       "      <td>1.000000</td>\n",
       "    </tr>\n",
       "    <tr>\n",
       "      <th>2</th>\n",
       "      <td>2019-01-09</td>\n",
       "      <td>бета-тестер</td>\n",
       "      <td>4</td>\n",
       "      <td>1</td>\n",
       "      <td>0.500000</td>\n",
       "    </tr>\n",
       "    <tr>\n",
       "      <th>3</th>\n",
       "      <td>2019-01-09</td>\n",
       "      <td>верстальщик</td>\n",
       "      <td>22</td>\n",
       "      <td>5</td>\n",
       "      <td>0.550000</td>\n",
       "    </tr>\n",
       "    <tr>\n",
       "      <th>4</th>\n",
       "      <td>2019-01-09</td>\n",
       "      <td>главный архитектор</td>\n",
       "      <td>4</td>\n",
       "      <td>1</td>\n",
       "      <td>0.500000</td>\n",
       "    </tr>\n",
       "    <tr>\n",
       "      <th>5</th>\n",
       "      <td>2019-01-09</td>\n",
       "      <td>дизайнер</td>\n",
       "      <td>241</td>\n",
       "      <td>37</td>\n",
       "      <td>0.814189</td>\n",
       "    </tr>\n",
       "  </tbody>\n",
       "</table>\n",
       "</div>"
      ],
      "text/plain": [
       "          day                spec  hours_cleared  executive_id  spec_workload\n",
       "1  2019-01-09          архитектор             16             2       1.000000\n",
       "2  2019-01-09         бета-тестер              4             1       0.500000\n",
       "3  2019-01-09         верстальщик             22             5       0.550000\n",
       "4  2019-01-09  главный архитектор              4             1       0.500000\n",
       "5  2019-01-09            дизайнер            241            37       0.814189"
      ]
     },
     "execution_count": 25,
     "metadata": {},
     "output_type": "execute_result"
    }
   ],
   "source": [
    "spec_workload.query(\"day == '2019-01-09'\").head()"
   ]
  },
  {
   "cell_type": "markdown",
   "metadata": {},
   "source": [
    "И посчитаем то же самое для всех сотрудников в целом:"
   ]
  },
  {
   "cell_type": "code",
   "execution_count": 26,
   "metadata": {},
   "outputs": [],
   "source": [
    "all_workload = spec_days.groupby(['day']).agg({\"hours_cleared\": \"sum\", \"executive_id\": \"nunique\"}).reset_index()"
   ]
  },
  {
   "cell_type": "code",
   "execution_count": 27,
   "metadata": {},
   "outputs": [
    {
     "data": {
      "text/html": [
       "<div>\n",
       "<style scoped>\n",
       "    .dataframe tbody tr th:only-of-type {\n",
       "        vertical-align: middle;\n",
       "    }\n",
       "\n",
       "    .dataframe tbody tr th {\n",
       "        vertical-align: top;\n",
       "    }\n",
       "\n",
       "    .dataframe thead th {\n",
       "        text-align: right;\n",
       "    }\n",
       "</style>\n",
       "<table border=\"1\" class=\"dataframe\">\n",
       "  <thead>\n",
       "    <tr style=\"text-align: right;\">\n",
       "      <th></th>\n",
       "      <th>day</th>\n",
       "      <th>hours_cleared</th>\n",
       "      <th>executive_id</th>\n",
       "    </tr>\n",
       "  </thead>\n",
       "  <tbody>\n",
       "    <tr>\n",
       "      <th>0</th>\n",
       "      <td>2019-01-07</td>\n",
       "      <td>4</td>\n",
       "      <td>1</td>\n",
       "    </tr>\n",
       "    <tr>\n",
       "      <th>1</th>\n",
       "      <td>2019-01-09</td>\n",
       "      <td>451</td>\n",
       "      <td>71</td>\n",
       "    </tr>\n",
       "    <tr>\n",
       "      <th>2</th>\n",
       "      <td>2019-01-10</td>\n",
       "      <td>441</td>\n",
       "      <td>70</td>\n",
       "    </tr>\n",
       "    <tr>\n",
       "      <th>3</th>\n",
       "      <td>2019-01-11</td>\n",
       "      <td>470</td>\n",
       "      <td>73</td>\n",
       "    </tr>\n",
       "    <tr>\n",
       "      <th>4</th>\n",
       "      <td>2019-01-14</td>\n",
       "      <td>504</td>\n",
       "      <td>77</td>\n",
       "    </tr>\n",
       "  </tbody>\n",
       "</table>\n",
       "</div>"
      ],
      "text/plain": [
       "          day  hours_cleared  executive_id\n",
       "0  2019-01-07              4             1\n",
       "1  2019-01-09            451            71\n",
       "2  2019-01-10            441            70\n",
       "3  2019-01-11            470            73\n",
       "4  2019-01-14            504            77"
      ]
     },
     "execution_count": 27,
     "metadata": {},
     "output_type": "execute_result"
    }
   ],
   "source": [
    "all_workload.head()"
   ]
  },
  {
   "cell_type": "code",
   "execution_count": 28,
   "metadata": {},
   "outputs": [],
   "source": [
    "all_workload['spec_workload'] = all_workload['hours_cleared'] / (all_workload['executive_id'] * 8)"
   ]
  },
  {
   "cell_type": "code",
   "execution_count": 29,
   "metadata": {},
   "outputs": [
    {
     "data": {
      "text/html": [
       "<div>\n",
       "<style scoped>\n",
       "    .dataframe tbody tr th:only-of-type {\n",
       "        vertical-align: middle;\n",
       "    }\n",
       "\n",
       "    .dataframe tbody tr th {\n",
       "        vertical-align: top;\n",
       "    }\n",
       "\n",
       "    .dataframe thead th {\n",
       "        text-align: right;\n",
       "    }\n",
       "</style>\n",
       "<table border=\"1\" class=\"dataframe\">\n",
       "  <thead>\n",
       "    <tr style=\"text-align: right;\">\n",
       "      <th></th>\n",
       "      <th>day</th>\n",
       "      <th>hours_cleared</th>\n",
       "      <th>executive_id</th>\n",
       "      <th>spec_workload</th>\n",
       "    </tr>\n",
       "  </thead>\n",
       "  <tbody>\n",
       "    <tr>\n",
       "      <th>0</th>\n",
       "      <td>2019-01-07</td>\n",
       "      <td>4</td>\n",
       "      <td>1</td>\n",
       "      <td>0.500000</td>\n",
       "    </tr>\n",
       "    <tr>\n",
       "      <th>1</th>\n",
       "      <td>2019-01-09</td>\n",
       "      <td>451</td>\n",
       "      <td>71</td>\n",
       "      <td>0.794014</td>\n",
       "    </tr>\n",
       "    <tr>\n",
       "      <th>2</th>\n",
       "      <td>2019-01-10</td>\n",
       "      <td>441</td>\n",
       "      <td>70</td>\n",
       "      <td>0.787500</td>\n",
       "    </tr>\n",
       "    <tr>\n",
       "      <th>3</th>\n",
       "      <td>2019-01-11</td>\n",
       "      <td>470</td>\n",
       "      <td>73</td>\n",
       "      <td>0.804795</td>\n",
       "    </tr>\n",
       "    <tr>\n",
       "      <th>4</th>\n",
       "      <td>2019-01-14</td>\n",
       "      <td>504</td>\n",
       "      <td>77</td>\n",
       "      <td>0.818182</td>\n",
       "    </tr>\n",
       "  </tbody>\n",
       "</table>\n",
       "</div>"
      ],
      "text/plain": [
       "          day  hours_cleared  executive_id  spec_workload\n",
       "0  2019-01-07              4             1       0.500000\n",
       "1  2019-01-09            451            71       0.794014\n",
       "2  2019-01-10            441            70       0.787500\n",
       "3  2019-01-11            470            73       0.804795\n",
       "4  2019-01-14            504            77       0.818182"
      ]
     },
     "execution_count": 29,
     "metadata": {},
     "output_type": "execute_result"
    }
   ],
   "source": [
    "all_workload.head()"
   ]
  },
  {
   "cell_type": "markdown",
   "metadata": {},
   "source": [
    "Построим соответствующие графики для дизайнеров, технологов и всех сотрудников:"
   ]
  },
  {
   "cell_type": "code",
   "execution_count": 30,
   "metadata": {},
   "outputs": [
    {
     "data": {
      "text/plain": [
       "<BarContainer object of 249 artists>"
      ]
     },
     "execution_count": 30,
     "metadata": {},
     "output_type": "execute_result"
    },
    {
     "data": {
      "image/png": "[encoded data removed]",
      "text/plain": [
       "<Figure size 1152x302.4 with 1 Axes>"
      ]
     },
     "metadata": {
      "needs_background": "light"
     },
     "output_type": "display_data"
    }
   ],
   "source": [
    "plt.figure(figsize=(16, 4.2))\n",
    "plt.title(label='дизайнеры', fontsize=20)\n",
    "plt.bar(x='day', height='spec_workload', data=spec_workload.query(\"spec == 'дизайнер'\"))"
   ]
  },
  {
   "cell_type": "code",
   "execution_count": 31,
   "metadata": {},
   "outputs": [
    {
     "data": {
      "text/plain": [
       "<BarContainer object of 247 artists>"
      ]
     },
     "execution_count": 31,
     "metadata": {},
     "output_type": "execute_result"
    },
    {
     "data": {
      "image/png": "[encoded data removed]",
      "text/plain": [
       "<Figure size 1152x302.4 with 1 Axes>"
      ]
     },
     "metadata": {
      "needs_background": "light"
     },
     "output_type": "display_data"
    }
   ],
   "source": [
    "plt.figure(figsize=(16, 4.2))\n",
    "plt.title(label='технологи', fontsize=20)\n",
    "plt.bar(x='day', height='spec_workload', data=spec_workload.query(\"spec == 'технолог'\"))"
   ]
  },
  {
   "cell_type": "code",
   "execution_count": 32,
   "metadata": {},
   "outputs": [
    {
     "data": {
      "text/plain": [
       "<BarContainer object of 255 artists>"
      ]
     },
     "execution_count": 32,
     "metadata": {},
     "output_type": "execute_result"
    },
    {
     "data": {
      "image/png": "[encoded data removed]",
      "text/plain": [
       "<Figure size 1152x302.4 with 1 Axes>"
      ]
     },
     "metadata": {
      "needs_background": "light"
     },
     "output_type": "display_data"
    }
   ],
   "source": [
    "plt.figure(figsize=(16, 4.2))\n",
    "plt.title(label='все сотрудники', fontsize=20)\n",
    "plt.bar(x='day', height='spec_workload', data=all_workload)"
   ]
  }
 ],
 "metadata": {
  "kernelspec": {
   "display_name": "Python 3",
   "language": "python",
   "name": "python3"
  },
  "language_info": {
   "codemirror_mode": {
    "name": "ipython",
    "version": 3
   },
   "file_extension": ".py",
   "mimetype": "text/x-python",
   "name": "python",
   "nbconvert_exporter": "python",
   "pygments_lexer": "ipython3",
   "version": "3.7.1"
  }
 },
 "nbformat": 4,
 "nbformat_minor": 2
}
