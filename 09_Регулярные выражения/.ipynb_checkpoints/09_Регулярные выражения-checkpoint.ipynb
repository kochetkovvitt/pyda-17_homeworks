{
 "cells": [
  {
   "cell_type": "markdown",
   "metadata": {},
   "source": [
    "## Домашнее задание «Регулярные выражения»"
   ]
  },
  {
   "cell_type": "code",
   "execution_count": 1,
   "metadata": {},
   "outputs": [],
   "source": [
    "import re"
   ]
  },
  {
   "cell_type": "code",
   "execution_count": 2,
   "metadata": {},
   "outputs": [],
   "source": [
    "# https://docs.python.org/3/library/re.html\n",
    "# https://regex101.com/\n",
    "# https://tproger.ru/translations/regular-expression-python/"
   ]
  },
  {
   "cell_type": "markdown",
   "metadata": {},
   "source": [
    "### Задание 1\n",
    "\n",
    "Напишите функцию, которая принимает на вход строку и проверяет является ли она валидным транспортным номером (1 буква, 3 цифры, 2 буквы, 2-3 цифры). Обратите внимание, что не все буквы кириллического алфавита используются в транспортных номерах.\n",
    "Если номер валиден, то функция должна возвращать отдельно номер и регион.\n",
    "\n",
    "Примеры работы программы:  \n",
    "\n",
    "1. `car_id = 'А222ВС96'`\n",
    "\n",
    "Результат: \n",
    "`Номер А222ВС валиден. Регион: 96`\n",
    "\n",
    "2. `car_id = 'АБ22ВВ193'`\n",
    "\n",
    "Результат: \n",
    "`Номер не валиден`"
   ]
  },
  {
   "cell_type": "code",
   "execution_count": 3,
   "metadata": {},
   "outputs": [
    {
     "name": "stdout",
     "output_type": "stream",
     "text": [
      "Номер А222ВС валиден. Регион: 93\n",
      "Номер не валиден\n",
      "Номер не валиден\n",
      "Номер не валиден\n",
      "Номер А222ВС валиден. Регион: 193\n"
     ]
    }
   ],
   "source": [
    "car_ids = ['А222ВС93', 'АБ22ВВ193', 'А222ВС93А', 'А222ВС093', 'А222ВС193']\n",
    "\n",
    "def check_transport_number_validity(car_id):\n",
    "    match = re.fullmatch(r'([АВЕКМНОРСТУХ]\\d{3}[АВЕКМНОРСТУХ]{2})(\\d{2}|[1-9]\\d{2})', car_id)\n",
    "    return f'Номер {match[1]} валиден. Регион: {match[2]}' if match else 'Номер не валиден'\n",
    "\n",
    "for car_id in car_ids:\n",
    "    print(check_transport_number_validity(car_id))"
   ]
  },
  {
   "cell_type": "markdown",
   "metadata": {},
   "source": [
    "### Задание 2\n",
    "\n",
    "Напишите функцию, которая будет удалять все последовательные повторы слов из заданной строки при помощи регулярных выражений.\n",
    "\n",
    "Пример работы программы:  \n",
    "\n",
    "`some_string = 'Напишите функцию функцию, которая будет будет будет будет удалять все все все все последовательные повторы слов из из из из заданной строки строки при помощи регулярных выражений'`\n",
    "\n",
    "Результат: \n",
    "`Напишите функцию, которая будет удалять все последовательные повторы слов из заданной строки при помощи регулярных выражений.`"
   ]
  },
  {
   "cell_type": "code",
   "execution_count": 4,
   "metadata": {},
   "outputs": [
    {
     "name": "stdout",
     "output_type": "stream",
     "text": [
      "Напишите функцию, которая будет удалять все последовательные повторы слов из заданной строки при помощи регулярных выражений.\n"
     ]
    }
   ],
   "source": [
    "some_string = 'Напишите функцию функцию, которая будет будет будет будет удалять все все все все \\\n",
    "последовательные повторы слов из из из из заданной строки строки при помощи регулярных выражений.'\n",
    "\n",
    "def remove_consecutive_words_repetitions(string):\n",
    "    return re.sub(r'(\\w+)(\\s\\1)+', r'\\1', string)\n",
    "\n",
    "print(remove_consecutive_words_repetitions(some_string))"
   ]
  },
  {
   "cell_type": "markdown",
   "metadata": {},
   "source": [
    "### Задание 3\n",
    "\n",
    "Напишите функцию, которая будет возвращать акроним по переданной в нее строке со словами.\n",
    "\n",
    "Примеры работы программы:  \n",
    "\n",
    "1. `some_words = 'Информационные технологии'`\n",
    "\n",
    "Результат: \n",
    "`ИТ`\n",
    "\n",
    "2. `some_words = 'Near Field Communication'`\n",
    "\n",
    "Результат: \n",
    "`NFC`"
   ]
  },
  {
   "cell_type": "code",
   "execution_count": 5,
   "metadata": {},
   "outputs": [
    {
     "name": "stdout",
     "output_type": "stream",
     "text": [
      "ИТ\n",
      "NFC\n",
      "IW\n"
     ]
    }
   ],
   "source": [
    "full_titles = ['Информационные технологии', 'Near Field Communication', 'I will']\n",
    "\n",
    "def convert_to_acronym(string):\n",
    "    return re.sub(r'(\\w)\\w*(\\s|)', r'\\1', string).upper()\n",
    "\n",
    "for full_title in full_titles:\n",
    "    print(convert_to_acronym(full_title))"
   ]
  },
  {
   "cell_type": "markdown",
   "metadata": {},
   "source": [
    "### Задание 4\n",
    "\n",
    "Напишите функцию, которая будет принимать на вход список email-адресов и выводить их распределение по доменным зонам.\n",
    "\n",
    "Пример работы программы:  \n",
    "\n",
    "`emails = ['test@gmail.com, xyz@test.in, test@ya.ru, xyz@mail.ru, xyz@ya.ru', xyz@gmail.com]`\n",
    "\n",
    "Результат: \n",
    "```\n",
    "gmail.com: 2\n",
    "test.in: 1 \n",
    "ya.ru: 2 \n",
    "mail.ru: 1\n",
    "```"
   ]
  },
  {
   "cell_type": "code",
   "execution_count": 6,
   "metadata": {},
   "outputs": [
    {
     "name": "stdout",
     "output_type": "stream",
     "text": [
      "gmail.com: 2\n",
      "test.in: 1\n",
      "ya.ru: 2\n",
      "mail.ru: 1\n"
     ]
    }
   ],
   "source": [
    "emails = ['test@gmail.com', 'xyz@test.in', 'test@ya.ru', 'xyz@mail.ru', 'xyz@ya.ru', 'xyz@gmail.com']\n",
    "\n",
    "def count_emails_by_domain(emails):\n",
    "    domains_count = {}\n",
    "    \n",
    "    for email in emails:\n",
    "        match = re.fullmatch(r'\\w+@(\\w+\\.\\w+)', email)\n",
    "        if match:\n",
    "            domains_count[match[1]] = domains_count.setdefault(match[1], 0) + 1\n",
    "            \n",
    "    for k, v in domains_count.items():\n",
    "        print(f'{k}: {v}')\n",
    "\n",
    "count_emails_by_domain(emails)"
   ]
  },
  {
   "cell_type": "markdown",
   "metadata": {},
   "source": [
    "### Задание 5\n",
    "\n",
    "Напишите функцию, которая будет подсчитывать сколько слов начинается на гласные, а сколько на согласные буквы в тексте (текст может быть написан как с использованием букв кириллицы, так и латиницы).\n",
    "\n",
    "Пример работы программы:  \n",
    "\n",
    "`some_text = 'Эталонной реализацией Python является интерпретатор CPython, поддерживающий большинство активно используемых платформ. Он распространяется под свободной лицензией Python Software Foundation License, позволяющей использовать его без ограничений в любых приложениях, включая проприетарные.'`\n",
    "\n",
    "Результат: \n",
    "```\n",
    "Слов на гласные буквы: 9\n",
    "Слов на согласные буквы: 21 \n",
    "```"
   ]
  },
  {
   "cell_type": "code",
   "execution_count": 7,
   "metadata": {},
   "outputs": [
    {
     "name": "stdout",
     "output_type": "stream",
     "text": [
      "Слов на гласные буквы: 9\n",
      "Слов на согласные буквы: 21\n"
     ]
    }
   ],
   "source": [
    "some_text = 'Эталонной реализацией Python является интерпретатор CPython, \\\n",
    "поддерживающий большинство активно используемых платформ. Он распространяется \\\n",
    "под свободной лицензией Python Software Foundation License, позволяющей \\\n",
    "использовать его без ограничений в любых приложениях, включая проприетарные.'\n",
    "\n",
    "def count_vowels_consonants_first_letters(string):\n",
    "    vowels_number = len(re.findall(r'\\b[aeiouyаеёиоуыэюя]\\w*', string, flags=re.IGNORECASE))\n",
    "    consonants_number = len(re.findall(r'\\b[b-df-hj-np-tv-zб-джзк-нп-тф-щ]\\w*', string, flags=re.IGNORECASE))\n",
    "    \n",
    "    print(f'Слов на гласные буквы: {vowels_number}')\n",
    "    print(f'Слов на согласные буквы: {consonants_number}')\n",
    "\n",
    "count_vowels_consonants_first_letters(some_text)"
   ]
  },
  {
   "cell_type": "markdown",
   "metadata": {},
   "source": [
    "### Задание 6\n",
    "Напишите функцию, которая будет проверять номер сотового телефона на валидность, если он валиден, то переводить его в формат:   \n",
    "+7-xxx-xxx-xx-xx  \n",
    "Постарайтесь предусмотреть как можно больше адекватных форматов изначального ввода номера.\n",
    "Примеры работы программы:  \n",
    "\n",
    "1. `phone = '+7 955 555-55-55'`\n",
    "\n",
    "Результат: \n",
    "`+7-950-555-55-55`\n",
    "\n",
    "2. `phone = '8(955)555-55-55'`\n",
    "\n",
    "Результат: \n",
    "`+7-950-555-55-55`\n",
    "\n",
    "3. `phone = '+7 955 555 55 55'`\n",
    "\n",
    "Результат: \n",
    "`+7-950-555-55-55`\n",
    "\n",
    "4. `phone = '7(955) 555-55-55'`\n",
    "\n",
    "Результат: \n",
    "`+7-950-555-55-55`\n",
    "\n",
    "5. `phone = '423-555-55-5555'`\n",
    "\n",
    "Результат: \n",
    "`Номер не валиден`\n",
    "\n",
    "6. `phone = '123-456-789'`\n",
    "\n",
    "Результат: \n",
    "`Номер не валиден`"
   ]
  },
  {
   "cell_type": "code",
   "execution_count": 8,
   "metadata": {},
   "outputs": [
    {
     "name": "stdout",
     "output_type": "stream",
     "text": [
      "True\n",
      "True\n",
      "True\n",
      "True\n",
      "True\n",
      "True\n",
      "True\n",
      "True\n"
     ]
    }
   ],
   "source": [
    "phones = {'+7 955 765-43-21': '+7-955-765-43-21', \n",
    "          '8(955)765-43-21': '+7-955-765-43-21', \n",
    "          '+7 955 765 43 21': '+7-955-765-43-21', \n",
    "          '7(955) 765-43-21': '+7-955-765-43-21', \n",
    "          '423-555-55-5555': 'Номер не валиден', \n",
    "          '123-456-789': 'Номер не валиден',\n",
    "          '7(955) 765-4321': '+7-955-765-43-21',\n",
    "          '8 955-765-4321': '+7-955-765-43-21'}\n",
    "\n",
    "\n",
    "def check_phone_number_validity(phone):\n",
    "    match = re.fullmatch(r'(7|\\+7|8)[\\(\\s\\-]*(\\d{3})[\\)\\s\\-]*(\\d{3})[\\s\\-]*(\\d{2}[\\s\\-]\\d{2}|\\d{4})', phone)\n",
    "    return f'+7-{match[2]}-{match[3]}-{match[4][:2]}-{match[4][-2:]}' if match else 'Номер не валиден'\n",
    "\n",
    "for phone in phones:\n",
    "    print(check_phone_number_validity(phone) == phones[phone])"
   ]
  }
 ],
 "metadata": {
  "kernelspec": {
   "display_name": "Python 3",
   "language": "python",
   "name": "python3"
  },
  "language_info": {
   "codemirror_mode": {
    "name": "ipython",
    "version": 3
   },
   "file_extension": ".py",
   "mimetype": "text/x-python",
   "name": "python",
   "nbconvert_exporter": "python",
   "pygments_lexer": "ipython3",
   "version": "3.7.1"
  }
 },
 "nbformat": 4,
 "nbformat_minor": 2
}
