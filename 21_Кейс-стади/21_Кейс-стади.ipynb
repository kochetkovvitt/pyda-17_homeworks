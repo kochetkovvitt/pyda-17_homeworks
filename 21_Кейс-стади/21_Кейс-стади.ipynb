{
 "cells": [
  {
   "cell_type": "markdown",
   "id": "prerequisite-channel",
   "metadata": {},
   "source": [
    "# Домашнее задание «Кейс-стади»"
   ]
  },
  {
   "cell_type": "code",
   "execution_count": 1,
   "id": "virtual-farming",
   "metadata": {},
   "outputs": [],
   "source": [
    "import pandas as pd\n",
    "import scipy.stats as stats\n",
    "import matplotlib.pyplot as plt"
   ]
  },
  {
   "cell_type": "markdown",
   "id": "female-berkeley",
   "metadata": {},
   "source": [
    "<div class=\"alert alert-success\">\n",
    "<h2> Задание 1. vgsales.csv</h2>\n",
    "</div>"
   ]
  },
  {
   "cell_type": "markdown",
   "id": "handy-description",
   "metadata": {},
   "source": [
    "Вернемся к набору данных о видеоиграх.  \n",
    "Ответьте на следующие вопросы:\n",
    "\n",
    "1) Как критики относятся к спортивным играм?  \n",
    "2) Критикам нравятся больше игры на PC или на PS4?  \n",
    "3) Критикам больше нравятся стрелялки или стратегии?  \n",
    "\n",
    "Для каждого вопроса:\n",
    "- сформулируйте нулевую и альтернативную гипотезы;\n",
    "- выберите пороговый уровень статистической значимости;\n",
    "- опишите полученные результаты статистического теста."
   ]
  },
  {
   "cell_type": "code",
   "execution_count": 2,
   "id": "supreme-smell",
   "metadata": {},
   "outputs": [],
   "source": [
    "df = pd.read_csv('vgsales.csv')\n",
    "df.columns = df.columns.str.lower()"
   ]
  },
  {
   "cell_type": "code",
   "execution_count": 3,
   "id": "nominated-garden",
   "metadata": {},
   "outputs": [
    {
     "data": {
      "text/html": [
       "<div>\n",
       "<style scoped>\n",
       "    .dataframe tbody tr th:only-of-type {\n",
       "        vertical-align: middle;\n",
       "    }\n",
       "\n",
       "    .dataframe tbody tr th {\n",
       "        vertical-align: top;\n",
       "    }\n",
       "\n",
       "    .dataframe thead th {\n",
       "        text-align: right;\n",
       "    }\n",
       "</style>\n",
       "<table border=\"1\" class=\"dataframe\">\n",
       "  <thead>\n",
       "    <tr style=\"text-align: right;\">\n",
       "      <th></th>\n",
       "      <th>name</th>\n",
       "      <th>platform</th>\n",
       "      <th>year_of_release</th>\n",
       "      <th>genre</th>\n",
       "      <th>publisher</th>\n",
       "      <th>na_sales</th>\n",
       "      <th>eu_sales</th>\n",
       "      <th>jp_sales</th>\n",
       "      <th>other_sales</th>\n",
       "      <th>global_sales</th>\n",
       "      <th>critic_score</th>\n",
       "      <th>critic_count</th>\n",
       "      <th>user_score</th>\n",
       "      <th>user_count</th>\n",
       "      <th>developer</th>\n",
       "      <th>rating</th>\n",
       "    </tr>\n",
       "  </thead>\n",
       "  <tbody>\n",
       "    <tr>\n",
       "      <th>0</th>\n",
       "      <td>Wii Sports</td>\n",
       "      <td>Wii</td>\n",
       "      <td>2006.0</td>\n",
       "      <td>Sports</td>\n",
       "      <td>Nintendo</td>\n",
       "      <td>41.36</td>\n",
       "      <td>28.96</td>\n",
       "      <td>3.77</td>\n",
       "      <td>8.45</td>\n",
       "      <td>82.53</td>\n",
       "      <td>76.0</td>\n",
       "      <td>51.0</td>\n",
       "      <td>8.0</td>\n",
       "      <td>322.0</td>\n",
       "      <td>Nintendo</td>\n",
       "      <td>E</td>\n",
       "    </tr>\n",
       "    <tr>\n",
       "      <th>1</th>\n",
       "      <td>Super Mario Bros.</td>\n",
       "      <td>NES</td>\n",
       "      <td>1985.0</td>\n",
       "      <td>Platform</td>\n",
       "      <td>Nintendo</td>\n",
       "      <td>29.08</td>\n",
       "      <td>3.58</td>\n",
       "      <td>6.81</td>\n",
       "      <td>0.77</td>\n",
       "      <td>40.24</td>\n",
       "      <td>NaN</td>\n",
       "      <td>NaN</td>\n",
       "      <td>NaN</td>\n",
       "      <td>NaN</td>\n",
       "      <td>NaN</td>\n",
       "      <td>NaN</td>\n",
       "    </tr>\n",
       "    <tr>\n",
       "      <th>2</th>\n",
       "      <td>Mario Kart Wii</td>\n",
       "      <td>Wii</td>\n",
       "      <td>2008.0</td>\n",
       "      <td>Racing</td>\n",
       "      <td>Nintendo</td>\n",
       "      <td>15.68</td>\n",
       "      <td>12.76</td>\n",
       "      <td>3.79</td>\n",
       "      <td>3.29</td>\n",
       "      <td>35.52</td>\n",
       "      <td>82.0</td>\n",
       "      <td>73.0</td>\n",
       "      <td>8.3</td>\n",
       "      <td>709.0</td>\n",
       "      <td>Nintendo</td>\n",
       "      <td>E</td>\n",
       "    </tr>\n",
       "    <tr>\n",
       "      <th>3</th>\n",
       "      <td>Wii Sports Resort</td>\n",
       "      <td>Wii</td>\n",
       "      <td>2009.0</td>\n",
       "      <td>Sports</td>\n",
       "      <td>Nintendo</td>\n",
       "      <td>15.61</td>\n",
       "      <td>10.93</td>\n",
       "      <td>3.28</td>\n",
       "      <td>2.95</td>\n",
       "      <td>32.77</td>\n",
       "      <td>80.0</td>\n",
       "      <td>73.0</td>\n",
       "      <td>8.0</td>\n",
       "      <td>192.0</td>\n",
       "      <td>Nintendo</td>\n",
       "      <td>E</td>\n",
       "    </tr>\n",
       "  </tbody>\n",
       "</table>\n",
       "</div>"
      ],
      "text/plain": [
       "                name platform  year_of_release     genre publisher  na_sales  \\\n",
       "0         Wii Sports      Wii           2006.0    Sports  Nintendo     41.36   \n",
       "1  Super Mario Bros.      NES           1985.0  Platform  Nintendo     29.08   \n",
       "2     Mario Kart Wii      Wii           2008.0    Racing  Nintendo     15.68   \n",
       "3  Wii Sports Resort      Wii           2009.0    Sports  Nintendo     15.61   \n",
       "\n",
       "   eu_sales  jp_sales  other_sales  global_sales  critic_score  critic_count  \\\n",
       "0     28.96      3.77         8.45         82.53          76.0          51.0   \n",
       "1      3.58      6.81         0.77         40.24           NaN           NaN   \n",
       "2     12.76      3.79         3.29         35.52          82.0          73.0   \n",
       "3     10.93      3.28         2.95         32.77          80.0          73.0   \n",
       "\n",
       "   user_score  user_count developer rating  \n",
       "0         8.0       322.0  Nintendo      E  \n",
       "1         NaN         NaN       NaN    NaN  \n",
       "2         8.3       709.0  Nintendo      E  \n",
       "3         8.0       192.0  Nintendo      E  "
      ]
     },
     "execution_count": 3,
     "metadata": {},
     "output_type": "execute_result"
    }
   ],
   "source": [
    "df.head(4)"
   ]
  },
  {
   "cell_type": "markdown",
   "id": "respected-principal",
   "metadata": {},
   "source": [
    "<div class=\"alert alert-block alert-info\"> \n",
    "<h3> 1. Как критики относятся к спортивным играм? </h3>\n",
    "</div>"
   ]
  },
  {
   "cell_type": "code",
   "execution_count": 4,
   "id": "through-wisdom",
   "metadata": {},
   "outputs": [
    {
     "data": {
      "text/html": [
       "<div>\n",
       "<style scoped>\n",
       "    .dataframe tbody tr th:only-of-type {\n",
       "        vertical-align: middle;\n",
       "    }\n",
       "\n",
       "    .dataframe tbody tr th {\n",
       "        vertical-align: top;\n",
       "    }\n",
       "\n",
       "    .dataframe thead th {\n",
       "        text-align: right;\n",
       "    }\n",
       "</style>\n",
       "<table border=\"1\" class=\"dataframe\">\n",
       "  <thead>\n",
       "    <tr style=\"text-align: right;\">\n",
       "      <th></th>\n",
       "      <th>N_scores</th>\n",
       "      <th>mean</th>\n",
       "    </tr>\n",
       "    <tr>\n",
       "      <th>genre</th>\n",
       "      <th></th>\n",
       "      <th></th>\n",
       "    </tr>\n",
       "  </thead>\n",
       "  <tbody>\n",
       "    <tr>\n",
       "      <th>Role-Playing</th>\n",
       "      <td>737</td>\n",
       "      <td>72.65</td>\n",
       "    </tr>\n",
       "    <tr>\n",
       "      <th>Strategy</th>\n",
       "      <td>302</td>\n",
       "      <td>72.09</td>\n",
       "    </tr>\n",
       "    <tr>\n",
       "      <th>Sports</th>\n",
       "      <td>1194</td>\n",
       "      <td>71.97</td>\n",
       "    </tr>\n",
       "    <tr>\n",
       "      <th>Shooter</th>\n",
       "      <td>944</td>\n",
       "      <td>70.18</td>\n",
       "    </tr>\n",
       "    <tr>\n",
       "      <th>Fighting</th>\n",
       "      <td>409</td>\n",
       "      <td>69.22</td>\n",
       "    </tr>\n",
       "    <tr>\n",
       "      <th>Simulation</th>\n",
       "      <td>352</td>\n",
       "      <td>68.62</td>\n",
       "    </tr>\n",
       "    <tr>\n",
       "      <th>Platform</th>\n",
       "      <td>497</td>\n",
       "      <td>68.06</td>\n",
       "    </tr>\n",
       "    <tr>\n",
       "      <th>Racing</th>\n",
       "      <td>742</td>\n",
       "      <td>67.96</td>\n",
       "    </tr>\n",
       "    <tr>\n",
       "      <th>Puzzle</th>\n",
       "      <td>224</td>\n",
       "      <td>67.42</td>\n",
       "    </tr>\n",
       "    <tr>\n",
       "      <th>Action</th>\n",
       "      <td>1890</td>\n",
       "      <td>66.63</td>\n",
       "    </tr>\n",
       "    <tr>\n",
       "      <th>Misc</th>\n",
       "      <td>523</td>\n",
       "      <td>66.62</td>\n",
       "    </tr>\n",
       "    <tr>\n",
       "      <th>Adventure</th>\n",
       "      <td>323</td>\n",
       "      <td>65.33</td>\n",
       "    </tr>\n",
       "  </tbody>\n",
       "</table>\n",
       "</div>"
      ],
      "text/plain": [
       "              N_scores   mean\n",
       "genre                        \n",
       "Role-Playing       737  72.65\n",
       "Strategy           302  72.09\n",
       "Sports            1194  71.97\n",
       "Shooter            944  70.18\n",
       "Fighting           409  69.22\n",
       "Simulation         352  68.62\n",
       "Platform           497  68.06\n",
       "Racing             742  67.96\n",
       "Puzzle             224  67.42\n",
       "Action            1890  66.63\n",
       "Misc               523  66.62\n",
       "Adventure          323  65.33"
      ]
     },
     "execution_count": 4,
     "metadata": {},
     "output_type": "execute_result"
    }
   ],
   "source": [
    "critic_score_by_genre = pd.pivot_table(df, index=\"genre\", values=\"critic_score\", \n",
    "                                       aggfunc=['count', 'mean']).round(2)\n",
    "critic_score_by_genre.columns = ['N_scores', 'mean']\n",
    "critic_score_by_genre.sort_values(by='mean', ascending=False)"
   ]
  },
  {
   "cell_type": "markdown",
   "id": "impressed-queen",
   "metadata": {},
   "source": [
    "На первый взгляд критики высоко оценивают спортивные игры, жанр Sports входит в top3 по их оценкам.<br>\n",
    "Протестируем статистически гипотезу, что спортивные игры оцениваются лучше, чем все прочие жанры в целом:<br>\n",
    "\n",
    "H0: Оценки критиков у игр жанра Sports такие же как у прочих жанров или ниже.<br>\n",
    "H1: Оценки критиков у игр жанра Sports выше оценок прочих жанров.<br>\n",
    "Пороговый уровень статистической значимости: 5%"
   ]
  },
  {
   "cell_type": "code",
   "execution_count": 5,
   "id": "baking-cycling",
   "metadata": {},
   "outputs": [],
   "source": [
    "A = df.query(\"genre == 'Sports' and critic_score > 0\").critic_score\n",
    "B = df.query(\"genre != 'Sports' and critic_score > 0\").critic_score"
   ]
  },
  {
   "cell_type": "code",
   "execution_count": 6,
   "id": "operational-asset",
   "metadata": {},
   "outputs": [
    {
     "name": "stdout",
     "output_type": "stream",
     "text": [
      "\n",
      "pvalue = 5.905856541602205e-16\n",
      "Отвергаем нулевую гипотезу.\n",
      "Оценки критиков у игр жанра Sports выше оценок прочих жанров.\n"
     ]
    },
    {
     "data": {
      "image/png": "[encoded data removed]",
      "text/plain": [
       "<Figure size 432x288 with 1 Axes>"
      ]
     },
     "metadata": {
      "needs_background": "light"
     },
     "output_type": "display_data"
    }
   ],
   "source": [
    "alpha = 0.05\n",
    "pvalue = stats.ttest_ind(A, B, equal_var=False, alternative='greater').pvalue\n",
    "print(f'\\npvalue = {pvalue}')\n",
    "if (pvalue < alpha):\n",
    "    print(\"Отвергаем нулевую гипотезу.\")\n",
    "    print(\"Оценки критиков у игр жанра Sports выше оценок прочих жанров.\")\n",
    "else:\n",
    "    print(\"Не получилось отвергнуть нулевую гипотезу\")\n",
    "plt.hist(A, alpha=0.7, label='Sports', density=True);\n",
    "plt.hist(B, alpha=0.7, label='Not Sports', density=True);\n",
    "plt.title('critic_score probability density');\n",
    "plt.legend(loc='upper left');"
   ]
  },
  {
   "cell_type": "markdown",
   "id": "designed-finding",
   "metadata": {},
   "source": [
    "<div class=\"alert alert-block alert-info\"> \n",
    "<h3> 2. Критикам нравятся больше игры на PC или на PS4? </h3>\n",
    "</div>"
   ]
  },
  {
   "cell_type": "code",
   "execution_count": 7,
   "id": "rational-humidity",
   "metadata": {},
   "outputs": [],
   "source": [
    "A = df.query(\"platform == 'PC' and critic_score > 0\").critic_score\n",
    "B = df.query(\"platform == 'PS4' and critic_score > 0\").critic_score"
   ]
  },
  {
   "cell_type": "code",
   "execution_count": 8,
   "id": "royal-street",
   "metadata": {},
   "outputs": [
    {
     "name": "stdout",
     "output_type": "stream",
     "text": [
      "avg.critic_score for PC games = 75.92867132867133\n",
      "avg.critic_score for PS4 games = 72.09126984126983\n"
     ]
    }
   ],
   "source": [
    "print(f'avg.critic_score for PC games = {A.mean()}\\navg.critic_score for PS4 games = {B.mean()}')"
   ]
  },
  {
   "cell_type": "markdown",
   "id": "hindu-mailing",
   "metadata": {},
   "source": [
    "H0: Оценки критиков у игр для платформы PC такие же как для платформы PS4 или ниже.<br>\n",
    "H1: Оценки критиков у игр для платформы PC выше оценок игр платформы PS4.<br>\n",
    "Пороговый уровень статистической значимости: 5%"
   ]
  },
  {
   "cell_type": "code",
   "execution_count": 9,
   "id": "right-saver",
   "metadata": {},
   "outputs": [
    {
     "name": "stdout",
     "output_type": "stream",
     "text": [
      "\n",
      "pvalue = 1.0336245786417395e-05\n",
      "Отвергаем нулевую гипотезу.\n",
      "Оценки критиков у игр для платформы PC выше оценок игр платформы PS4.\n"
     ]
    },
    {
     "data": {
      "image/png": "[encoded data removed]",
      "text/plain": [
       "<Figure size 432x288 with 1 Axes>"
      ]
     },
     "metadata": {
      "needs_background": "light"
     },
     "output_type": "display_data"
    }
   ],
   "source": [
    "alpha = 0.05\n",
    "pvalue = stats.ttest_ind(A, B, equal_var=False, alternative='greater').pvalue\n",
    "print(f'\\npvalue = {pvalue}')\n",
    "if (pvalue < alpha):\n",
    "    print(\"Отвергаем нулевую гипотезу.\")\n",
    "    print(\"Оценки критиков у игр для платформы PC выше оценок игр платформы PS4.\")\n",
    "else:\n",
    "    print(\"Не получилось отвергнуть нулевую гипотезу\")\n",
    "plt.hist(A, alpha=0.7, label='PC', density=True);\n",
    "plt.hist(B, alpha=0.7, label='PS4', density=True);\n",
    "plt.title('critic_score probability density');\n",
    "plt.legend(loc='upper left');"
   ]
  },
  {
   "cell_type": "markdown",
   "id": "unusual-animal",
   "metadata": {},
   "source": [
    "<div class=\"alert alert-block alert-info\"> \n",
    "<h3> 3. Критикам больше нравятся стрелялки или стратегии? </h3>\n",
    "</div>"
   ]
  },
  {
   "cell_type": "code",
   "execution_count": 10,
   "id": "psychological-contribution",
   "metadata": {},
   "outputs": [],
   "source": [
    "A = df.query(\"genre == 'Strategy' and critic_score > 0\").critic_score\n",
    "B = df.query(\"genre == 'Shooter' and critic_score > 0\").critic_score"
   ]
  },
  {
   "cell_type": "code",
   "execution_count": 11,
   "id": "emotional-bread",
   "metadata": {},
   "outputs": [
    {
     "name": "stdout",
     "output_type": "stream",
     "text": [
      "avg.critic_score for Strategy games = 72.08609271523179\n",
      "avg.critic_score for Shooter games = 70.18114406779661\n"
     ]
    }
   ],
   "source": [
    "print(f'avg.critic_score for Strategy games = {A.mean()}\\navg.critic_score for Shooter games = {B.mean()}')"
   ]
  },
  {
   "cell_type": "markdown",
   "id": "therapeutic-effects",
   "metadata": {},
   "source": [
    "H0: Оценки критиков у игр жанра Strategy такие же как у жанра Shooter или ниже.<br>\n",
    "H1: Оценки критиков у игр жанра Strategy выше оценок жанра Shooter.<br>\n",
    "Пороговый уровень статистической значимости: 5%"
   ]
  },
  {
   "cell_type": "code",
   "execution_count": 12,
   "id": "cloudy-breakfast",
   "metadata": {},
   "outputs": [
    {
     "name": "stdout",
     "output_type": "stream",
     "text": [
      "\n",
      "pvalue = 0.010969494761152412\n",
      "Отвергаем нулевую гипотезу.\n",
      "Оценки критиков у игр жанра Strategy выше оценок жанра Shooter.\n"
     ]
    },
    {
     "data": {
      "image/png": "[encoded data removed]",
      "text/plain": [
       "<Figure size 432x288 with 1 Axes>"
      ]
     },
     "metadata": {
      "needs_background": "light"
     },
     "output_type": "display_data"
    }
   ],
   "source": [
    "alpha = 0.05\n",
    "pvalue = stats.ttest_ind(A, B, equal_var=False, alternative='greater').pvalue\n",
    "print(f'\\npvalue = {pvalue}')\n",
    "if (pvalue < alpha):\n",
    "    print(\"Отвергаем нулевую гипотезу.\")\n",
    "    print(\"Оценки критиков у игр жанра Strategy выше оценок жанра Shooter.\")\n",
    "else:\n",
    "    print(\"Не получилось отвергнуть нулевую гипотезу\")\n",
    "plt.hist(A, alpha=0.7, label='Strategy', density=True);\n",
    "plt.hist(B, alpha=0.7, label='Shooter', density=True);\n",
    "plt.title('critic_score probability density');\n",
    "plt.legend(loc='upper left');"
   ]
  },
  {
   "cell_type": "markdown",
   "id": "human-weapon",
   "metadata": {},
   "source": [
    "<div class=\"alert alert-success\">\n",
    "<h2> Задание 2. spam.csv</h2>\n",
    "</div>"
   ]
  },
  {
   "cell_type": "markdown",
   "id": "middle-lottery",
   "metadata": {},
   "source": [
    "Реализуйте базовую модель логистической регрессии для классификации текстовых сообщений по признаку спама.<br>\n",
    "Для этого:\n",
    "\n",
    "1) Привидите весь текст к нижнему регистру  \n",
    "2) Удалите мусорные символы  \n",
    "3) Удалите стоп-слова  \n",
    "4) Привидите все слова к нормальной форме  \n",
    "5) Преобразуйте все сообщения в вектора TF-IDF. Вам поможет следующий код:  \n",
    "\n",
    "```\n",
    "from sklearn.feature_extraction.text import TfidfVectorizer\n",
    "tfidf = TfidfVectorizer()\n",
    "tfidf_matrix = tfidf.fit_transform(df.Message)\n",
    "names = tfidf.get_feature_names()\n",
    "tfidf_matrix = pd.DataFrame(tfidf_matrix.toarray(), columns=names)\n",
    "```\n",
    "\n",
    "Можете поэкспериментировать с параметрами [TfidfVectorizer](https://scikit-learn.org/stable/modules/generated/sklearn.feature_extraction.text.TfidfVectorizer.html)<br> \n",
    "\n",
    "6) Разделите данные на тестовые и тренировочные в соотношении 30/70, укажите `random_state=42`. Используйте [train_test_split](https://scikit-learn.org/stable/modules/generated/sklearn.model_selection.train_test_split.html)  \n",
    "7) Постройте модель [логистической регрессии](https://scikit-learn.org/stable/modules/generated/sklearn.linear_model.LogisticRegression.html), укажите `random_state=42`, оцените ее точность на тестовых данных  \n",
    "8) Опишите результаты при помощи [confusion_matrix](https://scikit-learn.org/stable/modules/generated/sklearn.metrics.confusion_matrix.html?highlight=confusion_matrix#sklearn.metrics.confusion_matrix)  \n",
    "9) Постройте датафрейм, который будет содержать все исходные тексты сообщений, классифицированные неправильно (с указанием фактического и предсказанного)."
   ]
  },
  {
   "cell_type": "code",
   "execution_count": 13,
   "id": "formed-restriction",
   "metadata": {},
   "outputs": [],
   "source": [
    "df = pd.read_csv('spam.csv')\n",
    "df.columns = df.columns.str.lower()"
   ]
  },
  {
   "cell_type": "code",
   "execution_count": 14,
   "id": "oriental-faculty",
   "metadata": {},
   "outputs": [
    {
     "data": {
      "text/html": [
       "<div>\n",
       "<style scoped>\n",
       "    .dataframe tbody tr th:only-of-type {\n",
       "        vertical-align: middle;\n",
       "    }\n",
       "\n",
       "    .dataframe tbody tr th {\n",
       "        vertical-align: top;\n",
       "    }\n",
       "\n",
       "    .dataframe thead th {\n",
       "        text-align: right;\n",
       "    }\n",
       "</style>\n",
       "<table border=\"1\" class=\"dataframe\">\n",
       "  <thead>\n",
       "    <tr style=\"text-align: right;\">\n",
       "      <th></th>\n",
       "      <th>category</th>\n",
       "      <th>message</th>\n",
       "    </tr>\n",
       "  </thead>\n",
       "  <tbody>\n",
       "    <tr>\n",
       "      <th>5562</th>\n",
       "      <td>ham</td>\n",
       "      <td>Ok lor... Sony ericsson salesman... I ask shuh...</td>\n",
       "    </tr>\n",
       "    <tr>\n",
       "      <th>5563</th>\n",
       "      <td>ham</td>\n",
       "      <td>Ard 6 like dat lor.</td>\n",
       "    </tr>\n",
       "    <tr>\n",
       "      <th>5564</th>\n",
       "      <td>ham</td>\n",
       "      <td>Why don't you wait 'til at least wednesday to ...</td>\n",
       "    </tr>\n",
       "    <tr>\n",
       "      <th>5565</th>\n",
       "      <td>ham</td>\n",
       "      <td>Huh y lei...</td>\n",
       "    </tr>\n",
       "    <tr>\n",
       "      <th>5566</th>\n",
       "      <td>spam</td>\n",
       "      <td>REMINDER FROM O2: To get 2.50 pounds free call...</td>\n",
       "    </tr>\n",
       "    <tr>\n",
       "      <th>5567</th>\n",
       "      <td>spam</td>\n",
       "      <td>This is the 2nd time we have tried 2 contact u...</td>\n",
       "    </tr>\n",
       "    <tr>\n",
       "      <th>5568</th>\n",
       "      <td>ham</td>\n",
       "      <td>Will ü b going to esplanade fr home?</td>\n",
       "    </tr>\n",
       "    <tr>\n",
       "      <th>5569</th>\n",
       "      <td>ham</td>\n",
       "      <td>Pity, * was in mood for that. So...any other s...</td>\n",
       "    </tr>\n",
       "    <tr>\n",
       "      <th>5570</th>\n",
       "      <td>ham</td>\n",
       "      <td>The guy did some bitching but I acted like i'd...</td>\n",
       "    </tr>\n",
       "    <tr>\n",
       "      <th>5571</th>\n",
       "      <td>ham</td>\n",
       "      <td>Rofl. Its true to its name</td>\n",
       "    </tr>\n",
       "  </tbody>\n",
       "</table>\n",
       "</div>"
      ],
      "text/plain": [
       "     category                                            message\n",
       "5562      ham  Ok lor... Sony ericsson salesman... I ask shuh...\n",
       "5563      ham                                Ard 6 like dat lor.\n",
       "5564      ham  Why don't you wait 'til at least wednesday to ...\n",
       "5565      ham                                       Huh y lei...\n",
       "5566     spam  REMINDER FROM O2: To get 2.50 pounds free call...\n",
       "5567     spam  This is the 2nd time we have tried 2 contact u...\n",
       "5568      ham               Will ü b going to esplanade fr home?\n",
       "5569      ham  Pity, * was in mood for that. So...any other s...\n",
       "5570      ham  The guy did some bitching but I acted like i'd...\n",
       "5571      ham                         Rofl. Its true to its name"
      ]
     },
     "execution_count": 14,
     "metadata": {},
     "output_type": "execute_result"
    }
   ],
   "source": [
    "df.tail(10)"
   ]
  },
  {
   "cell_type": "code",
   "execution_count": 15,
   "id": "loose-auckland",
   "metadata": {},
   "outputs": [
    {
     "data": {
      "text/html": [
       "<div>\n",
       "<style scoped>\n",
       "    .dataframe tbody tr th:only-of-type {\n",
       "        vertical-align: middle;\n",
       "    }\n",
       "\n",
       "    .dataframe tbody tr th {\n",
       "        vertical-align: top;\n",
       "    }\n",
       "\n",
       "    .dataframe thead th {\n",
       "        text-align: right;\n",
       "    }\n",
       "</style>\n",
       "<table border=\"1\" class=\"dataframe\">\n",
       "  <thead>\n",
       "    <tr style=\"text-align: right;\">\n",
       "      <th></th>\n",
       "      <th>category</th>\n",
       "      <th>message</th>\n",
       "    </tr>\n",
       "  </thead>\n",
       "  <tbody>\n",
       "    <tr>\n",
       "      <th>count</th>\n",
       "      <td>5572</td>\n",
       "      <td>5572</td>\n",
       "    </tr>\n",
       "    <tr>\n",
       "      <th>unique</th>\n",
       "      <td>2</td>\n",
       "      <td>5157</td>\n",
       "    </tr>\n",
       "    <tr>\n",
       "      <th>top</th>\n",
       "      <td>ham</td>\n",
       "      <td>Sorry, I'll call later</td>\n",
       "    </tr>\n",
       "    <tr>\n",
       "      <th>freq</th>\n",
       "      <td>4825</td>\n",
       "      <td>30</td>\n",
       "    </tr>\n",
       "  </tbody>\n",
       "</table>\n",
       "</div>"
      ],
      "text/plain": [
       "       category                 message\n",
       "count      5572                    5572\n",
       "unique        2                    5157\n",
       "top         ham  Sorry, I'll call later\n",
       "freq       4825                      30"
      ]
     },
     "execution_count": 15,
     "metadata": {},
     "output_type": "execute_result"
    }
   ],
   "source": [
    "df.describe()"
   ]
  },
  {
   "cell_type": "markdown",
   "id": "introductory-taste",
   "metadata": {},
   "source": [
    "<div class=\"alert alert-block alert-info\"> \n",
    "<h3> 1. Привидите весь текст к нижнему регистру </h3>\n",
    "</div>"
   ]
  },
  {
   "cell_type": "code",
   "execution_count": 16,
   "id": "proud-brighton",
   "metadata": {
    "scrolled": false
   },
   "outputs": [],
   "source": [
    "df['processed_message'] = df.message.str.lower()"
   ]
  },
  {
   "cell_type": "code",
   "execution_count": 17,
   "id": "alive-design",
   "metadata": {},
   "outputs": [
    {
     "data": {
      "text/html": [
       "<div>\n",
       "<style scoped>\n",
       "    .dataframe tbody tr th:only-of-type {\n",
       "        vertical-align: middle;\n",
       "    }\n",
       "\n",
       "    .dataframe tbody tr th {\n",
       "        vertical-align: top;\n",
       "    }\n",
       "\n",
       "    .dataframe thead th {\n",
       "        text-align: right;\n",
       "    }\n",
       "</style>\n",
       "<table border=\"1\" class=\"dataframe\">\n",
       "  <thead>\n",
       "    <tr style=\"text-align: right;\">\n",
       "      <th></th>\n",
       "      <th>category</th>\n",
       "      <th>message</th>\n",
       "      <th>processed_message</th>\n",
       "    </tr>\n",
       "  </thead>\n",
       "  <tbody>\n",
       "    <tr>\n",
       "      <th>5567</th>\n",
       "      <td>spam</td>\n",
       "      <td>This is the 2nd time we have tried 2 contact u...</td>\n",
       "      <td>this is the 2nd time we have tried 2 contact u...</td>\n",
       "    </tr>\n",
       "    <tr>\n",
       "      <th>5568</th>\n",
       "      <td>ham</td>\n",
       "      <td>Will ü b going to esplanade fr home?</td>\n",
       "      <td>will ü b going to esplanade fr home?</td>\n",
       "    </tr>\n",
       "    <tr>\n",
       "      <th>5569</th>\n",
       "      <td>ham</td>\n",
       "      <td>Pity, * was in mood for that. So...any other s...</td>\n",
       "      <td>pity, * was in mood for that. so...any other s...</td>\n",
       "    </tr>\n",
       "    <tr>\n",
       "      <th>5570</th>\n",
       "      <td>ham</td>\n",
       "      <td>The guy did some bitching but I acted like i'd...</td>\n",
       "      <td>the guy did some bitching but i acted like i'd...</td>\n",
       "    </tr>\n",
       "    <tr>\n",
       "      <th>5571</th>\n",
       "      <td>ham</td>\n",
       "      <td>Rofl. Its true to its name</td>\n",
       "      <td>rofl. its true to its name</td>\n",
       "    </tr>\n",
       "  </tbody>\n",
       "</table>\n",
       "</div>"
      ],
      "text/plain": [
       "     category                                            message  \\\n",
       "5567     spam  This is the 2nd time we have tried 2 contact u...   \n",
       "5568      ham               Will ü b going to esplanade fr home?   \n",
       "5569      ham  Pity, * was in mood for that. So...any other s...   \n",
       "5570      ham  The guy did some bitching but I acted like i'd...   \n",
       "5571      ham                         Rofl. Its true to its name   \n",
       "\n",
       "                                      processed_message  \n",
       "5567  this is the 2nd time we have tried 2 contact u...  \n",
       "5568               will ü b going to esplanade fr home?  \n",
       "5569  pity, * was in mood for that. so...any other s...  \n",
       "5570  the guy did some bitching but i acted like i'd...  \n",
       "5571                         rofl. its true to its name  "
      ]
     },
     "execution_count": 17,
     "metadata": {},
     "output_type": "execute_result"
    }
   ],
   "source": [
    "df.tail(5)"
   ]
  },
  {
   "cell_type": "markdown",
   "id": "exempt-compatibility",
   "metadata": {},
   "source": [
    "<div class=\"alert alert-block alert-info\"> \n",
    "<h3> 2. Удалите мусорные символы </h3>\n",
    "</div>"
   ]
  },
  {
   "cell_type": "code",
   "execution_count": 18,
   "id": "intended-local",
   "metadata": {},
   "outputs": [],
   "source": [
    "df.processed_message.replace(regex=True, to_replace=r\"[^0-9 a-z']\", value=r\" \", inplace=True)"
   ]
  },
  {
   "cell_type": "code",
   "execution_count": 19,
   "id": "weighted-syracuse",
   "metadata": {},
   "outputs": [
    {
     "data": {
      "text/html": [
       "<div>\n",
       "<style scoped>\n",
       "    .dataframe tbody tr th:only-of-type {\n",
       "        vertical-align: middle;\n",
       "    }\n",
       "\n",
       "    .dataframe tbody tr th {\n",
       "        vertical-align: top;\n",
       "    }\n",
       "\n",
       "    .dataframe thead th {\n",
       "        text-align: right;\n",
       "    }\n",
       "</style>\n",
       "<table border=\"1\" class=\"dataframe\">\n",
       "  <thead>\n",
       "    <tr style=\"text-align: right;\">\n",
       "      <th></th>\n",
       "      <th>category</th>\n",
       "      <th>message</th>\n",
       "      <th>processed_message</th>\n",
       "    </tr>\n",
       "  </thead>\n",
       "  <tbody>\n",
       "    <tr>\n",
       "      <th>5567</th>\n",
       "      <td>spam</td>\n",
       "      <td>This is the 2nd time we have tried 2 contact u...</td>\n",
       "      <td>this is the 2nd time we have tried 2 contact u...</td>\n",
       "    </tr>\n",
       "    <tr>\n",
       "      <th>5568</th>\n",
       "      <td>ham</td>\n",
       "      <td>Will ü b going to esplanade fr home?</td>\n",
       "      <td>will   b going to esplanade fr home</td>\n",
       "    </tr>\n",
       "    <tr>\n",
       "      <th>5569</th>\n",
       "      <td>ham</td>\n",
       "      <td>Pity, * was in mood for that. So...any other s...</td>\n",
       "      <td>pity    was in mood for that  so   any other s...</td>\n",
       "    </tr>\n",
       "    <tr>\n",
       "      <th>5570</th>\n",
       "      <td>ham</td>\n",
       "      <td>The guy did some bitching but I acted like i'd...</td>\n",
       "      <td>the guy did some bitching but i acted like i'd...</td>\n",
       "    </tr>\n",
       "    <tr>\n",
       "      <th>5571</th>\n",
       "      <td>ham</td>\n",
       "      <td>Rofl. Its true to its name</td>\n",
       "      <td>rofl  its true to its name</td>\n",
       "    </tr>\n",
       "  </tbody>\n",
       "</table>\n",
       "</div>"
      ],
      "text/plain": [
       "     category                                            message  \\\n",
       "5567     spam  This is the 2nd time we have tried 2 contact u...   \n",
       "5568      ham               Will ü b going to esplanade fr home?   \n",
       "5569      ham  Pity, * was in mood for that. So...any other s...   \n",
       "5570      ham  The guy did some bitching but I acted like i'd...   \n",
       "5571      ham                         Rofl. Its true to its name   \n",
       "\n",
       "                                      processed_message  \n",
       "5567  this is the 2nd time we have tried 2 contact u...  \n",
       "5568               will   b going to esplanade fr home   \n",
       "5569  pity    was in mood for that  so   any other s...  \n",
       "5570  the guy did some bitching but i acted like i'd...  \n",
       "5571                         rofl  its true to its name  "
      ]
     },
     "execution_count": 19,
     "metadata": {},
     "output_type": "execute_result"
    }
   ],
   "source": [
    "df.tail(5)"
   ]
  },
  {
   "cell_type": "markdown",
   "id": "august-lebanon",
   "metadata": {},
   "source": [
    "<div class=\"alert alert-block alert-info\"> \n",
    "<h3> 3. Удалите стоп-слова </h3>\n",
    "</div>"
   ]
  },
  {
   "cell_type": "code",
   "execution_count": 20,
   "id": "married-james",
   "metadata": {},
   "outputs": [],
   "source": [
    "from nltk.corpus import stopwords\n",
    "stopwords_set = set(stopwords.words('english'))"
   ]
  },
  {
   "cell_type": "code",
   "execution_count": 21,
   "id": "brief-cinema",
   "metadata": {},
   "outputs": [],
   "source": [
    "df.processed_message = df.processed_message.apply(lambda x: [word for word in x.split() if word not in stopwords_set])"
   ]
  },
  {
   "cell_type": "code",
   "execution_count": 22,
   "id": "bibliographic-abortion",
   "metadata": {},
   "outputs": [
    {
     "data": {
      "text/html": [
       "<div>\n",
       "<style scoped>\n",
       "    .dataframe tbody tr th:only-of-type {\n",
       "        vertical-align: middle;\n",
       "    }\n",
       "\n",
       "    .dataframe tbody tr th {\n",
       "        vertical-align: top;\n",
       "    }\n",
       "\n",
       "    .dataframe thead th {\n",
       "        text-align: right;\n",
       "    }\n",
       "</style>\n",
       "<table border=\"1\" class=\"dataframe\">\n",
       "  <thead>\n",
       "    <tr style=\"text-align: right;\">\n",
       "      <th></th>\n",
       "      <th>category</th>\n",
       "      <th>message</th>\n",
       "      <th>processed_message</th>\n",
       "    </tr>\n",
       "  </thead>\n",
       "  <tbody>\n",
       "    <tr>\n",
       "      <th>5567</th>\n",
       "      <td>spam</td>\n",
       "      <td>This is the 2nd time we have tried 2 contact u...</td>\n",
       "      <td>[2nd, time, tried, 2, contact, u, u, 750, poun...</td>\n",
       "    </tr>\n",
       "    <tr>\n",
       "      <th>5568</th>\n",
       "      <td>ham</td>\n",
       "      <td>Will ü b going to esplanade fr home?</td>\n",
       "      <td>[b, going, esplanade, fr, home]</td>\n",
       "    </tr>\n",
       "    <tr>\n",
       "      <th>5569</th>\n",
       "      <td>ham</td>\n",
       "      <td>Pity, * was in mood for that. So...any other s...</td>\n",
       "      <td>[pity, mood, suggestions]</td>\n",
       "    </tr>\n",
       "    <tr>\n",
       "      <th>5570</th>\n",
       "      <td>ham</td>\n",
       "      <td>The guy did some bitching but I acted like i'd...</td>\n",
       "      <td>[guy, bitching, acted, like, i'd, interested, ...</td>\n",
       "    </tr>\n",
       "    <tr>\n",
       "      <th>5571</th>\n",
       "      <td>ham</td>\n",
       "      <td>Rofl. Its true to its name</td>\n",
       "      <td>[rofl, true, name]</td>\n",
       "    </tr>\n",
       "  </tbody>\n",
       "</table>\n",
       "</div>"
      ],
      "text/plain": [
       "     category                                            message  \\\n",
       "5567     spam  This is the 2nd time we have tried 2 contact u...   \n",
       "5568      ham               Will ü b going to esplanade fr home?   \n",
       "5569      ham  Pity, * was in mood for that. So...any other s...   \n",
       "5570      ham  The guy did some bitching but I acted like i'd...   \n",
       "5571      ham                         Rofl. Its true to its name   \n",
       "\n",
       "                                      processed_message  \n",
       "5567  [2nd, time, tried, 2, contact, u, u, 750, poun...  \n",
       "5568                    [b, going, esplanade, fr, home]  \n",
       "5569                          [pity, mood, suggestions]  \n",
       "5570  [guy, bitching, acted, like, i'd, interested, ...  \n",
       "5571                                 [rofl, true, name]  "
      ]
     },
     "execution_count": 22,
     "metadata": {},
     "output_type": "execute_result"
    }
   ],
   "source": [
    "df.tail(5)"
   ]
  },
  {
   "cell_type": "markdown",
   "id": "stock-recovery",
   "metadata": {},
   "source": [
    "<div class=\"alert alert-block alert-info\"> \n",
    "<h3> 4. Привидите все слова к нормальной форме </h3>\n",
    "</div>"
   ]
  },
  {
   "cell_type": "code",
   "execution_count": 23,
   "id": "competent-insertion",
   "metadata": {},
   "outputs": [],
   "source": [
    "from nltk.stem import WordNetLemmatizer\n",
    "wordnet_lemmatizer = WordNetLemmatizer()"
   ]
  },
  {
   "cell_type": "code",
   "execution_count": 24,
   "id": "living-acoustic",
   "metadata": {},
   "outputs": [],
   "source": [
    "df.processed_message = df.processed_message.apply(lambda x: ' '.join([wordnet_lemmatizer.lemmatize(word) for word in x]))"
   ]
  },
  {
   "cell_type": "code",
   "execution_count": 25,
   "id": "faced-judges",
   "metadata": {},
   "outputs": [
    {
     "data": {
      "text/html": [
       "<div>\n",
       "<style scoped>\n",
       "    .dataframe tbody tr th:only-of-type {\n",
       "        vertical-align: middle;\n",
       "    }\n",
       "\n",
       "    .dataframe tbody tr th {\n",
       "        vertical-align: top;\n",
       "    }\n",
       "\n",
       "    .dataframe thead th {\n",
       "        text-align: right;\n",
       "    }\n",
       "</style>\n",
       "<table border=\"1\" class=\"dataframe\">\n",
       "  <thead>\n",
       "    <tr style=\"text-align: right;\">\n",
       "      <th></th>\n",
       "      <th>category</th>\n",
       "      <th>message</th>\n",
       "      <th>processed_message</th>\n",
       "    </tr>\n",
       "  </thead>\n",
       "  <tbody>\n",
       "    <tr>\n",
       "      <th>5567</th>\n",
       "      <td>spam</td>\n",
       "      <td>This is the 2nd time we have tried 2 contact u...</td>\n",
       "      <td>2nd time tried 2 contact u u 750 pound prize 2...</td>\n",
       "    </tr>\n",
       "    <tr>\n",
       "      <th>5568</th>\n",
       "      <td>ham</td>\n",
       "      <td>Will ü b going to esplanade fr home?</td>\n",
       "      <td>b going esplanade fr home</td>\n",
       "    </tr>\n",
       "    <tr>\n",
       "      <th>5569</th>\n",
       "      <td>ham</td>\n",
       "      <td>Pity, * was in mood for that. So...any other s...</td>\n",
       "      <td>pity mood suggestion</td>\n",
       "    </tr>\n",
       "    <tr>\n",
       "      <th>5570</th>\n",
       "      <td>ham</td>\n",
       "      <td>The guy did some bitching but I acted like i'd...</td>\n",
       "      <td>guy bitching acted like i'd interested buying ...</td>\n",
       "    </tr>\n",
       "    <tr>\n",
       "      <th>5571</th>\n",
       "      <td>ham</td>\n",
       "      <td>Rofl. Its true to its name</td>\n",
       "      <td>rofl true name</td>\n",
       "    </tr>\n",
       "  </tbody>\n",
       "</table>\n",
       "</div>"
      ],
      "text/plain": [
       "     category                                            message  \\\n",
       "5567     spam  This is the 2nd time we have tried 2 contact u...   \n",
       "5568      ham               Will ü b going to esplanade fr home?   \n",
       "5569      ham  Pity, * was in mood for that. So...any other s...   \n",
       "5570      ham  The guy did some bitching but I acted like i'd...   \n",
       "5571      ham                         Rofl. Its true to its name   \n",
       "\n",
       "                                      processed_message  \n",
       "5567  2nd time tried 2 contact u u 750 pound prize 2...  \n",
       "5568                          b going esplanade fr home  \n",
       "5569                               pity mood suggestion  \n",
       "5570  guy bitching acted like i'd interested buying ...  \n",
       "5571                                     rofl true name  "
      ]
     },
     "execution_count": 25,
     "metadata": {},
     "output_type": "execute_result"
    }
   ],
   "source": [
    "df.tail(5)"
   ]
  },
  {
   "cell_type": "markdown",
   "id": "single-tulsa",
   "metadata": {},
   "source": [
    "<div class=\"alert alert-block alert-info\"> \n",
    "<h3> 5. Преобразуйте все сообщения в вектора TF-IDF </h3>\n",
    "</div>"
   ]
  },
  {
   "cell_type": "code",
   "execution_count": 26,
   "id": "accurate-making",
   "metadata": {},
   "outputs": [],
   "source": [
    "from sklearn.feature_extraction.text import TfidfVectorizer"
   ]
  },
  {
   "cell_type": "code",
   "execution_count": 27,
   "id": "quick-martial",
   "metadata": {},
   "outputs": [],
   "source": [
    "tfidf = TfidfVectorizer()"
   ]
  },
  {
   "cell_type": "code",
   "execution_count": 28,
   "id": "presidential-report",
   "metadata": {},
   "outputs": [],
   "source": [
    "tfidf_matrix = tfidf.fit_transform(df.processed_message)"
   ]
  },
  {
   "cell_type": "code",
   "execution_count": 29,
   "id": "alert-lyric",
   "metadata": {},
   "outputs": [],
   "source": [
    "names = tfidf.get_feature_names()"
   ]
  },
  {
   "cell_type": "code",
   "execution_count": 30,
   "id": "electric-dancing",
   "metadata": {},
   "outputs": [],
   "source": [
    "tfidf_matrix = pd.DataFrame(tfidf_matrix.toarray(), columns=names)"
   ]
  },
  {
   "cell_type": "markdown",
   "id": "behavioral-giving",
   "metadata": {},
   "source": [
    "<div class=\"alert alert-block alert-info\"> \n",
    "<h3> 6. Разделите данные на тестовые и тренировочные в соотношении 30/70, укажите random_state=42. Используйте train_test_split </h3>\n",
    "</div>"
   ]
  },
  {
   "cell_type": "code",
   "execution_count": 31,
   "id": "fancy-definition",
   "metadata": {},
   "outputs": [],
   "source": [
    "from sklearn.model_selection import train_test_split"
   ]
  },
  {
   "cell_type": "code",
   "execution_count": 32,
   "id": "southern-logging",
   "metadata": {},
   "outputs": [],
   "source": [
    "X_train, X_test, y_train, y_test = train_test_split(tfidf_matrix, df.category, test_size=0.30, random_state=42)"
   ]
  },
  {
   "cell_type": "markdown",
   "id": "durable-smoke",
   "metadata": {},
   "source": [
    "<div class=\"alert alert-block alert-info\"> \n",
    "<h3> 7. Постройте модель логистической регрессии, укажите random_state=42, оцените ее точность на тестовых данных </h3>\n",
    "</div>"
   ]
  },
  {
   "cell_type": "code",
   "execution_count": 33,
   "id": "automatic-wilderness",
   "metadata": {},
   "outputs": [],
   "source": [
    "from sklearn.linear_model import LogisticRegression\n",
    "from sklearn.metrics import accuracy_score"
   ]
  },
  {
   "cell_type": "code",
   "execution_count": 34,
   "id": "polar-venue",
   "metadata": {},
   "outputs": [],
   "source": [
    "lr = LogisticRegression(random_state=42).fit(X_train, y_train)"
   ]
  },
  {
   "cell_type": "code",
   "execution_count": 35,
   "id": "distributed-manner",
   "metadata": {},
   "outputs": [
    {
     "data": {
      "text/plain": [
       "0.958732057416268"
      ]
     },
     "execution_count": 35,
     "metadata": {},
     "output_type": "execute_result"
    }
   ],
   "source": [
    "accuracy_score(y_test, lr.predict(X_test))"
   ]
  },
  {
   "cell_type": "markdown",
   "id": "distinct-fiction",
   "metadata": {},
   "source": [
    "<div class=\"alert alert-block alert-info\"> \n",
    "<h3> 8. Опишите результаты при помощи confusion_matrix </h3>\n",
    "</div>"
   ]
  },
  {
   "cell_type": "code",
   "execution_count": 36,
   "id": "neutral-working",
   "metadata": {},
   "outputs": [],
   "source": [
    "from sklearn.metrics import confusion_matrix\n",
    "from sklearn.metrics import plot_confusion_matrix"
   ]
  },
  {
   "cell_type": "code",
   "execution_count": 37,
   "id": "consecutive-bacon",
   "metadata": {},
   "outputs": [
    {
     "data": {
      "text/plain": [
       "array([[1445,    3],\n",
       "       [  66,  158]], dtype=int64)"
      ]
     },
     "execution_count": 37,
     "metadata": {},
     "output_type": "execute_result"
    }
   ],
   "source": [
    "confusion_matrix(y_test, lr.predict(X_test))"
   ]
  },
  {
   "cell_type": "markdown",
   "id": "advised-segment",
   "metadata": {},
   "source": [
    "Хоть общая точность вышла неплохая - 96%, но у нас в датафрейме большой перевес в количестве обычных сообщений над спамом. В итоге для определения спама ложноотрицательных предсказаний получается значительно больше, чем ложноположительных. Если рассмотреть только спам, то точность выходит 158/(158+66) = 70%. Посмотрим на распределение предсказаний также на тепловой карте:"
   ]
  },
  {
   "cell_type": "code",
   "execution_count": 38,
   "id": "prospective-majority",
   "metadata": {},
   "outputs": [
    {
     "data": {
      "image/png": "[encoded data removed]",
      "text/plain": [
       "<Figure size 432x288 with 2 Axes>"
      ]
     },
     "metadata": {
      "needs_background": "light"
     },
     "output_type": "display_data"
    }
   ],
   "source": [
    "plot_confusion_matrix(lr, X_test, y_test);"
   ]
  },
  {
   "cell_type": "markdown",
   "id": "tamil-prague",
   "metadata": {},
   "source": [
    "<div class=\"alert alert-block alert-info\"> \n",
    "<h3> 9. Постройте датафрейм, который будет содержать все исходные тексты сообщений, классифицированные неправильно (с указанием фактического и предсказанного) </h3>\n",
    "</div>"
   ]
  },
  {
   "cell_type": "code",
   "execution_count": 39,
   "id": "affected-technician",
   "metadata": {},
   "outputs": [
    {
     "data": {
      "text/html": [
       "<div>\n",
       "<style scoped>\n",
       "    .dataframe tbody tr th:only-of-type {\n",
       "        vertical-align: middle;\n",
       "    }\n",
       "\n",
       "    .dataframe tbody tr th {\n",
       "        vertical-align: top;\n",
       "    }\n",
       "\n",
       "    .dataframe thead th {\n",
       "        text-align: right;\n",
       "    }\n",
       "</style>\n",
       "<table border=\"1\" class=\"dataframe\">\n",
       "  <thead>\n",
       "    <tr style=\"text-align: right;\">\n",
       "      <th></th>\n",
       "      <th>category</th>\n",
       "      <th>message</th>\n",
       "      <th>processed_message</th>\n",
       "      <th>pred</th>\n",
       "    </tr>\n",
       "  </thead>\n",
       "  <tbody>\n",
       "    <tr>\n",
       "      <th>2952</th>\n",
       "      <td>ham</td>\n",
       "      <td>Hey now am free you can call me.</td>\n",
       "      <td>hey free call</td>\n",
       "      <td>spam</td>\n",
       "    </tr>\n",
       "    <tr>\n",
       "      <th>881</th>\n",
       "      <td>spam</td>\n",
       "      <td>Reminder: You have not downloaded the content ...</td>\n",
       "      <td>reminder downloaded content already paid goto ...</td>\n",
       "      <td>ham</td>\n",
       "    </tr>\n",
       "    <tr>\n",
       "      <th>1961</th>\n",
       "      <td>spam</td>\n",
       "      <td>Guess what! Somebody you know secretly fancies...</td>\n",
       "      <td>guess somebody know secretly fancy wanna find ...</td>\n",
       "      <td>ham</td>\n",
       "    </tr>\n",
       "    <tr>\n",
       "      <th>3864</th>\n",
       "      <td>spam</td>\n",
       "      <td>Oh my god! I've found your number again! I'm s...</td>\n",
       "      <td>oh god i've found number i'm glad text back xa...</td>\n",
       "      <td>ham</td>\n",
       "    </tr>\n",
       "    <tr>\n",
       "      <th>2575</th>\n",
       "      <td>spam</td>\n",
       "      <td>Your next amazing xxx PICSFREE1 video will be ...</td>\n",
       "      <td>next amazing xxx picsfree1 video sent enjoy on...</td>\n",
       "      <td>ham</td>\n",
       "    </tr>\n",
       "    <tr>\n",
       "      <th>...</th>\n",
       "      <td>...</td>\n",
       "      <td>...</td>\n",
       "      <td>...</td>\n",
       "      <td>...</td>\n",
       "    </tr>\n",
       "    <tr>\n",
       "      <th>4543</th>\n",
       "      <td>spam</td>\n",
       "      <td>FreeMsg Hi baby wow just got a new cam moby. W...</td>\n",
       "      <td>freemsg hi baby wow got new cam moby wanna c h...</td>\n",
       "      <td>ham</td>\n",
       "    </tr>\n",
       "    <tr>\n",
       "      <th>752</th>\n",
       "      <td>spam</td>\n",
       "      <td>You have an important customer service announc...</td>\n",
       "      <td>important customer service announcement premier</td>\n",
       "      <td>ham</td>\n",
       "    </tr>\n",
       "    <tr>\n",
       "      <th>309</th>\n",
       "      <td>spam</td>\n",
       "      <td>TheMob&gt; Check out our newest selection of cont...</td>\n",
       "      <td>themob check newest selection content game ton...</td>\n",
       "      <td>ham</td>\n",
       "    </tr>\n",
       "    <tr>\n",
       "      <th>495</th>\n",
       "      <td>ham</td>\n",
       "      <td>Are you free now?can i call now?</td>\n",
       "      <td>free call</td>\n",
       "      <td>spam</td>\n",
       "    </tr>\n",
       "    <tr>\n",
       "      <th>305</th>\n",
       "      <td>spam</td>\n",
       "      <td>SMS. ac Blind Date 4U!: Rodds1 is 21/m from Ab...</td>\n",
       "      <td>sm ac blind date 4u rodds1 21 aberdeen united ...</td>\n",
       "      <td>ham</td>\n",
       "    </tr>\n",
       "  </tbody>\n",
       "</table>\n",
       "<p>69 rows × 4 columns</p>\n",
       "</div>"
      ],
      "text/plain": [
       "     category                                            message  \\\n",
       "2952      ham                   Hey now am free you can call me.   \n",
       "881      spam  Reminder: You have not downloaded the content ...   \n",
       "1961     spam  Guess what! Somebody you know secretly fancies...   \n",
       "3864     spam  Oh my god! I've found your number again! I'm s...   \n",
       "2575     spam  Your next amazing xxx PICSFREE1 video will be ...   \n",
       "...       ...                                                ...   \n",
       "4543     spam  FreeMsg Hi baby wow just got a new cam moby. W...   \n",
       "752      spam  You have an important customer service announc...   \n",
       "309      spam  TheMob> Check out our newest selection of cont...   \n",
       "495       ham                   Are you free now?can i call now?   \n",
       "305      spam  SMS. ac Blind Date 4U!: Rodds1 is 21/m from Ab...   \n",
       "\n",
       "                                      processed_message  pred  \n",
       "2952                                      hey free call  spam  \n",
       "881   reminder downloaded content already paid goto ...   ham  \n",
       "1961  guess somebody know secretly fancy wanna find ...   ham  \n",
       "3864  oh god i've found number i'm glad text back xa...   ham  \n",
       "2575  next amazing xxx picsfree1 video sent enjoy on...   ham  \n",
       "...                                                 ...   ...  \n",
       "4543  freemsg hi baby wow got new cam moby wanna c h...   ham  \n",
       "752     important customer service announcement premier   ham  \n",
       "309   themob check newest selection content game ton...   ham  \n",
       "495                                           free call  spam  \n",
       "305   sm ac blind date 4u rodds1 21 aberdeen united ...   ham  \n",
       "\n",
       "[69 rows x 4 columns]"
      ]
     },
     "execution_count": 39,
     "metadata": {},
     "output_type": "execute_result"
    }
   ],
   "source": [
    "df.loc[y_test.index].assign(pred=lr.predict(X_test)).query('category != pred')"
   ]
  }
 ],
 "metadata": {
  "kernelspec": {
   "display_name": "Python 3",
   "language": "python",
   "name": "python3"
  },
  "language_info": {
   "codemirror_mode": {
    "name": "ipython",
    "version": 3
   },
   "file_extension": ".py",
   "mimetype": "text/x-python",
   "name": "python",
   "nbconvert_exporter": "python",
   "pygments_lexer": "ipython3",
   "version": "3.7.1"
  }
 },
 "nbformat": 4,
 "nbformat_minor": 5
}
